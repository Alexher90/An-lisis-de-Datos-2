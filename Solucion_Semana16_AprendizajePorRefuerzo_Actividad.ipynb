{
  "nbformat": 4,
  "nbformat_minor": 0,
  "metadata": {
    "colab": {
      "name": "Solucion_Semana16_AprendizajePorRefuerzo_Actividad.ipynb",
      "provenance": [],
      "collapsed_sections": [],
      "include_colab_link": true
    },
    "kernelspec": {
      "name": "python3",
      "display_name": "Python 3"
    }
  },
  "cells": [
    {
      "cell_type": "markdown",
      "metadata": {
        "id": "view-in-github",
        "colab_type": "text"
      },
      "source": [
        "<a href=\"https://colab.research.google.com/github/Alexher90/An-lisis-de-Datos-2/blob/master/Solucion_Semana16_AprendizajePorRefuerzo_Actividad.ipynb\" target=\"_parent\"><img src=\"https://colab.research.google.com/assets/colab-badge.svg\" alt=\"Open In Colab\"/></a>"
      ]
    },
    {
      "cell_type": "markdown",
      "metadata": {
        "id": "cey053fxUJWR"
      },
      "source": [
        "## MIIA-4203 MODELOS AVANZADOS PARA ANÁLISIS DE DATOS II\n",
        "\n",
        "\n",
        "# Aprendizaje por Refuerzo\n",
        "\n",
        "\n",
        "### Profesor asistente: Diego Gomez (df.gomez11@uniandes.edu.co)\n",
        "\n",
        "En este cuaderno implementaremos un par de métodos de Aprendizaje por Refuerzo.\n",
        "\n",
        "Utilizaremos nuestros algoritmos para intentar maximizar nuetra probabilidad de ganar en el juego de cartas Blackjack.\n",
        "\n",
        "\n",
        "---\n",
        "\n",
        "\n",
        "*A lo largo del ejercicio encontrará la palabra `TODO`. Esto le indica que hay una línea de código por completar.\n",
        "\n",
        "\n",
        "---\n",
        "\n"
      ]
    },
    {
      "cell_type": "markdown",
      "metadata": {
        "id": "_gTWhu-kqPq8"
      },
      "source": [
        "**Presentado por: Alexander Hernández Páez (200920588), Alexander Camargo (200911325), Juan David Cortés (201728568), Wilson Felipe González (200924943).**"
      ]
    },
    {
      "cell_type": "markdown",
      "metadata": {
        "id": "8o7bIZz4V_mK"
      },
      "source": [
        "Primero importeremos los paquetes necesarios. En el archivo adicional .py se encuentra el ambiente `BlackJackEnv`, que nos servirá para simlar el juego de Blackjack."
      ]
    },
    {
      "cell_type": "code",
      "metadata": {
        "id": "qg_dBN3htlt5"
      },
      "source": [
        "import numpy as np\n",
        "import random\n",
        "\n",
        "from blackjack_utils import BlackJackEnv as AmbienteBJ\n",
        "from blackjack_utils import *\n",
        "\n",
        "import matplotlib.pyplot as plt\n",
        "import pandas as pd\n",
        "import seaborn as sns\n",
        "\n",
        "semilla = 0\n",
        "np.random.seed(semilla)"
      ],
      "execution_count": null,
      "outputs": []
    },
    {
      "cell_type": "markdown",
      "metadata": {
        "id": "rM2pE-jnX00M"
      },
      "source": [
        "La clase `BlackJackEnv` tiene 2 métodos de nuestro interés:\n",
        "\n",
        "\n",
        "1.   `reset`\n",
        "2.   `step`  \n",
        "\n",
        "El método `reset` inicializa el juego y se reparten las manos del jugador y del dealer. El método `step` recibe como argumento una acción y ejecuta la transición correspondiente. Las acciones posibles son 0 y 1, donde 0 corresponde a **Plantarse** y 1 corresponde a **Pedir** una nueva carta. Este método retorna 4 elementos: el estado actual, es decir, la mano del jugador y la carta del repartidor visible, el siguiente estado al tomar la acción, la recompensa obtenida y una señal que indica si ej juego terminó. La recompensa será 0 si el juego no ha terminado o hay un empate, 1 si el jugador gana y -1 si el jugador pierde.\n",
        "\n",
        "En el área de Aprendizaje por Refuerzo es común utilizar librerías que nos proveen con múltiples ambientes. Estos ambientes usualmente tienen los mismos dos métodos que se mencionan acá."
      ]
    },
    {
      "cell_type": "markdown",
      "metadata": {
        "id": "LcNHgjzoXadF"
      },
      "source": [
        "Generemos el ambiente y juguemos un par de manos."
      ]
    },
    {
      "cell_type": "code",
      "metadata": {
        "colab": {
          "base_uri": "https://localhost:8080/"
        },
        "id": "ntizeIVw0u-W",
        "outputId": "af3952a6-a742-4dbf-9f26-063314407966"
      },
      "source": [
        "juego = AmbienteBJ(seed=semilla)\n",
        "mano_inicial = juego.reset()\n",
        "print('Mano inicial: ', mano_inicial)"
      ],
      "execution_count": null,
      "outputs": [
        {
          "output_type": "stream",
          "text": [
            "Mano inicial:  [[('7', 'clubs'), ('3', 'spades')], ('J', 'diamonds')]\n"
          ],
          "name": "stdout"
        }
      ]
    },
    {
      "cell_type": "code",
      "metadata": {
        "colab": {
          "base_uri": "https://localhost:8080/"
        },
        "id": "ym0vDUC3aO7G",
        "outputId": "6640668a-6ff8-46a6-c6dd-d1dcc2d84a9b"
      },
      "source": [
        "mano, siguiente_mano, recompensa, juego_terminado = juego.step(0) # Nos plantaremos\n",
        "print('Nueva mano: ', siguiente_mano)\n",
        "print('Recompensa: ', recompensa)\n",
        "print('Juego terminado: ', juego_terminado)"
      ],
      "execution_count": null,
      "outputs": [
        {
          "output_type": "stream",
          "text": [
            "Nueva mano:  [[('7', 'clubs'), ('3', 'spades')], [('10', 'diamonds'), ('J', 'diamonds')]]\n",
            "Recompensa:  -1.0\n",
            "Juego terminado:  True\n"
          ],
          "name": "stdout"
        }
      ]
    },
    {
      "cell_type": "code",
      "metadata": {
        "colab": {
          "base_uri": "https://localhost:8080/"
        },
        "id": "GbbVxU5TaHhK",
        "outputId": "e4090d85-f43d-4171-89dc-486190c96778"
      },
      "source": [
        "mano_inicial = juego.reset()\n",
        "print('Mano inicial: ', mano_inicial)"
      ],
      "execution_count": null,
      "outputs": [
        {
          "output_type": "stream",
          "text": [
            "Mano inicial:  [[('Q', 'clubs'), ('J', 'clubs')], ('K', 'hearts')]\n"
          ],
          "name": "stdout"
        }
      ]
    },
    {
      "cell_type": "code",
      "metadata": {
        "colab": {
          "base_uri": "https://localhost:8080/"
        },
        "id": "8F7hSJXDZ8s6",
        "outputId": "a2ad6c1b-601f-41f9-ccb4-91be7ee01e19"
      },
      "source": [
        "mano, siguiente_mano, recompensa, juego_terminado = juego.step(1) # Pediremos una nueva carta\n",
        "print('Nueva mano: ', siguiente_mano)\n",
        "print('Recompensa: ', recompensa)\n",
        "print('Juego terminado: ', juego_terminado)"
      ],
      "execution_count": null,
      "outputs": [
        {
          "output_type": "stream",
          "text": [
            "Nueva mano:  [[('5', 'clubs'), ('Q', 'clubs'), ('J', 'clubs')], [('8', 'clubs'), ('K', 'hearts')]]\n",
            "Recompensa:  -1.0\n",
            "Juego terminado:  True\n"
          ],
          "name": "stdout"
        }
      ]
    },
    {
      "cell_type": "markdown",
      "metadata": {
        "id": "SkZ8dORHeMHf"
      },
      "source": [
        "## Definición del Agente\n",
        "\n",
        "### Ejercicio 1"
      ]
    },
    {
      "cell_type": "markdown",
      "metadata": {
        "id": "WyNpfVSDajPX"
      },
      "source": [
        "Definiremos ahora la clase `Agente`. Esta clase tendrá un atributo de interés y 4 distintos métodos. El atributo corresponde la función de valor q, que es una matriz de tamaño 10x10x2x2 y donde las primeras 3 dimensiones corresponden al estado y la última a la acción. Tendrán que completar los distintos métodos, cuyas descripciones se encuentran justo antes de cada método."
      ]
    },
    {
      "cell_type": "code",
      "metadata": {
        "id": "SBKV1Apns6KU"
      },
      "source": [
        "class Agente():\n",
        "  def __init__(self, dim_estado=(10,10,2), dim_accion=(2,)):    \n",
        "    self.funcion_q = np.zeros(dim_estado+dim_accion) # Funcion de valor Q\n",
        "    self.n_acciones = dim_accion[0]\n",
        "\n",
        "  '''\n",
        "  Metodo 1:\n",
        "  Este metodo transforma la mano del jugador y la carta del dealer\n",
        "  a nuestra representacion de estado. \n",
        "  Argumentos:\n",
        "    - estado: tupla donde el primer elemento es una lista de cartas, \n",
        "              correspondientes a la mano del jugador, y donde el segundo \n",
        "              elemento es la carta visible del dealer\n",
        "  Salida:\n",
        "    - estado transformado: tupla de 3 elementos (s_0, s_1, s_2), donde:\n",
        "              s_0:  indical el puntaje del jugador. Es un numero de 0 a 9, que \n",
        "                    corresponde a una suma de 12 a 21, en el mismo orden.\n",
        "              s_1:  indica la mano del dealer. Es un numero de 0 a 9, que corresponde\n",
        "                    al valor de la carta del dealer entre 1 y 10, en el mismo orden.\n",
        "              s_2:  indica si el as es utilizable. Es un número entre 0 y 1, que\n",
        "                    corresponde a si el As se puede o no utilizar como 11.                \n",
        "  '''\n",
        "  def transformar_estado(self, estado):\n",
        "    suma_mano, puntaje_dealer, as_utilizable = state2code(estado)\n",
        "    puntaje = suma_mano + 10*as_utilizable      \n",
        "    if puntaje < 12:\n",
        "      s_0 = s_1 = s_2 = None\n",
        "    else:      \n",
        "      s_0 = int(puntaje-12)        \n",
        "      s_1 = int(puntaje_dealer-1)  \n",
        "      s_2 = int(as_utilizable)\n",
        "    estado_transformado = (s_0, s_1, s_2)   \n",
        "    return estado_transformado\n",
        "\n",
        "\n",
        "  '''\n",
        "  Metodo 2:\n",
        "  Este metodo genera una accion para sumas entre 12 y 21, siguiendo una politica\n",
        "  epsilon-suave.\n",
        "  Argumentos: \n",
        "    - estado_transformado:   tupla con puntaje, carta del dealer, y bit de as utilizable\n",
        "    - epsilon:  valor entre 0 y 1, que corresponde al factor de exploracion\n",
        "  Salidas: \n",
        "    - accion:   bit, 0 para plantarse y 1 para pedir una nueva carta\n",
        "  '''\n",
        "  def generar_accion_con_politica_epsilon_suave(self, estado_transformado, epsilon):\n",
        "    s_0, s_1, s_2 = estado_transformado\n",
        "    valores_q = self.funcion_q[s_0, s_1, s_2, :]\n",
        "    if np.random.rand() > epsilon: # TODO\n",
        "      acciones_posibles = valores_q.argmax()\n",
        "      if isinstance(acciones_posibles, np.int64):\n",
        "        accion = acciones_posibles\n",
        "      else:\n",
        "        accion = random.choice(acciones_posibles)\n",
        "    else:\n",
        "      accion = np.random.randint(0, high=self.n_acciones) # TODO\n",
        "    return accion\n",
        "  \n",
        "\n",
        "  '''\n",
        "  Metodo 3:\n",
        "  Este metodo selecciona una accion para cualquier estado.\n",
        "  Argumentos: \n",
        "    - estado:   tupla donde el primer elemento es una lista de cartas, \n",
        "                correspondientes a la mano del jugador, y donde el segundo \n",
        "                elemento es la carta visible del dealer\n",
        "    - epsilon:  valor real positivo entre 0 y 1, que corresponde al factor de \n",
        "                exploracion\n",
        "  Salidas: \n",
        "    - accion:   bit, 0 para plantarse y 1 para pedir una nueva carta\n",
        "  '''\n",
        "  def seleccionar_accion(self, estado, epsilon):\n",
        "    estado_transformado = self.transformar_estado(estado)\n",
        "    suma_menor_12 = estado_transformado[0] is not None\n",
        "    if suma_menor_12:\n",
        "      accion = self.generar_accion_con_politica_epsilon_suave(estado_transformado, epsilon) # TODO\n",
        "    else:\n",
        "      accion = 1\n",
        "    return accion, estado_transformado\n",
        "\n",
        "  \n",
        "  '''\n",
        "  Metodo 4:\n",
        "  Este metodo actualiza los valores de la funcion q para una pareja (estado-accion),\n",
        "  adicionandole una cantidad específica \n",
        "  Argumentos: \n",
        "    - estado_transformado:   tupla con puntaje, carta del dealer, y bit de as utilizable\n",
        "    - accion:   bit, 0 para plantarse y 1 para pedir una nueva carta\n",
        "    - cambio:   valor real que determina que tanto cambia la funcion q\n",
        "    - alpha:    valor real positivo entre 0 y 1, que corresponde a la tasa de aprendizaje\n",
        "  '''\n",
        "  def actualizar_funcion_q(self, estado_transformado, accion, cambio, alpha):\n",
        "    indice_pareja_estado_accion = estado_transformado + (accion,)\n",
        "    self.funcion_q[indice_pareja_estado_accion] += alpha * cambio"
      ],
      "execution_count": null,
      "outputs": []
    },
    {
      "cell_type": "markdown",
      "metadata": {
        "id": "ZohdSy3WpxNt"
      },
      "source": [
        "Creemos a un agente y generemos una acción, para observar su comportamiento."
      ]
    },
    {
      "cell_type": "code",
      "metadata": {
        "id": "URNmE46DpwiO",
        "colab": {
          "base_uri": "https://localhost:8080/"
        },
        "outputId": "99046b22-9ec4-44c4-9de5-9faa457e6f96"
      },
      "source": [
        "mano_inicial = juego.reset()\n",
        "agente = Agente()\n",
        "accion, estado_transformado = agente.seleccionar_accion(mano_inicial, epsilon=0.5)\n",
        "print('Mano: ', mano_inicial)\n",
        "print('Estado: ', estado_transformado)\n",
        "print('Accion tomada: '+str(accion))"
      ],
      "execution_count": null,
      "outputs": [
        {
          "output_type": "stream",
          "text": [
            "Mano:  [[('6', 'spades'), ('2', 'hearts')], ('A', 'spades')]\n",
            "Estado:  (None, None, None)\n",
            "Accion tomada: 1\n"
          ],
          "name": "stdout"
        }
      ]
    },
    {
      "cell_type": "markdown",
      "metadata": {
        "id": "KTPij0QZsxCq"
      },
      "source": [
        "## Método de Monte Carlo\n",
        "\n",
        "### Ejercicio 2.1\n",
        "Definiremos un método para que el agente interactue con el ambiente por un instante de tiempo."
      ]
    },
    {
      "cell_type": "code",
      "metadata": {
        "id": "yposwJKUyE8V"
      },
      "source": [
        "def dar_paso(juego, agente, estado, epsilon):\n",
        "  # El agente selecciona una accion\n",
        "  accion, estado_transformado = agente.seleccionar_accion(estado, epsilon)# TODO\n",
        "\n",
        "  # El agente actua en el ambiente y recibe la informacion del nuevo estado,\n",
        "  # la recompensa y la señal de juego terminado\n",
        "  _, siguiente_estado, recompensa, juego_terminado = juego.step(accion) # TODO\n",
        "  # Se crea una lista con la informacion del paso dado\n",
        "  paso = [estado_transformado, accion, recompensa, juego_terminado]\n",
        "          \n",
        "  return paso, siguiente_estado.copy(), juego_terminado "
      ],
      "execution_count": null,
      "outputs": []
    },
    {
      "cell_type": "markdown",
      "metadata": {
        "id": "GhwrtGHG4KbK"
      },
      "source": [
        "Daremos un paso, para probar el método que acabamos de definir."
      ]
    },
    {
      "cell_type": "code",
      "metadata": {
        "id": "ZEV8WJ5B3hX3",
        "colab": {
          "base_uri": "https://localhost:8080/"
        },
        "outputId": "1dcb0f75-0e0b-4fa3-d7fb-89f2160c754a"
      },
      "source": [
        "mano_inicial = juego.reset()\n",
        "paso, siguiente_mano, juego_terminado = dar_paso(juego, agente, mano_inicial, epsilon=0.5)\n",
        "print('Mano: ', mano_inicial)\n",
        "print('Siguiente mano: ', siguiente_mano)\n",
        "print('Juego terminado: ', juego_terminado)"
      ],
      "execution_count": null,
      "outputs": [
        {
          "output_type": "stream",
          "text": [
            "Mano:  [[('A', 'clubs'), ('4', 'spades')], ('J', 'diamonds')]\n",
            "Siguiente mano:  [[('A', 'clubs'), ('4', 'spades'), ('6', 'diamonds')], ('J', 'diamonds')]\n",
            "Juego terminado:  False\n"
          ],
          "name": "stdout"
        }
      ]
    },
    {
      "cell_type": "markdown",
      "metadata": {
        "id": "91EvMLin4tuw"
      },
      "source": [
        "### Ejercicio 2.2\n",
        "Definiremos un método para que el agente juegue un juego completo y retorne una trayectoria correspondiente a este juego."
      ]
    },
    {
      "cell_type": "code",
      "metadata": {
        "id": "EQYXq8WQ4aWa"
      },
      "source": [
        "def generar_trayectoria(juego, agente, epsilon):\n",
        "  juego_terminado = False    \n",
        "  trayectoria = []\n",
        "  estado = juego.reset()\n",
        "\n",
        "  # Ciclo que genera una trayectoria. En este caso, corresponde a un juego \n",
        "  # completo de Blackjack. \n",
        "  while not juego_terminado:   \n",
        "    # Se da un paso\n",
        "    paso, siguiente_estado, juego_terminado = dar_paso(juego, agente, estado, epsilon) # TODO\n",
        "\n",
        "    # Se agrega el paso a la trayectoria\n",
        "    trayectoria.append(paso)    \n",
        "\n",
        "    # Se actualiza la información del estado  \n",
        "    estado = siguiente_estado.copy()\n",
        "\n",
        "  return trayectoria  "
      ],
      "execution_count": null,
      "outputs": []
    },
    {
      "cell_type": "markdown",
      "metadata": {
        "id": "OenkIxF25Afb"
      },
      "source": [
        "Juguemos un juego completo a partir del metodo que acabamos de definir."
      ]
    },
    {
      "cell_type": "code",
      "metadata": {
        "id": "xkZMRMI-4_K9",
        "colab": {
          "base_uri": "https://localhost:8080/"
        },
        "outputId": "ded5ba2d-e792-4d98-d16e-8bd01db0fc1a"
      },
      "source": [
        "trayectoria = generar_trayectoria(juego, agente, epsilon=0.5)\n",
        "print(\"Trayectoria:\")\n",
        "print(trayectoria)"
      ],
      "execution_count": null,
      "outputs": [
        {
          "output_type": "stream",
          "text": [
            "Trayectoria:\n",
            "[[(4, 7, 0), 0, 1.0, True]]\n"
          ],
          "name": "stdout"
        }
      ]
    },
    {
      "cell_type": "markdown",
      "metadata": {
        "id": "uQSoLECjziDN"
      },
      "source": [
        "### Ejercicio 2.3\n",
        "Definiremos un método para que el agente actualice su función q para el último paso de la trayectoria que no ha sido incluido."
      ]
    },
    {
      "cell_type": "code",
      "metadata": {
        "id": "Q9Vw0ZxA0Uru"
      },
      "source": [
        "def actualizar_retorno_y_funcion_q_con_paso(agente, paso, retorno, alpha, beta):\n",
        "    # Se extrae el ultimo paso de la trayectoria que no ha sido incluido\n",
        "    estado, accion, recompensa, juego_terminado = paso\n",
        "\n",
        "    # Se actualiza el retorno como la suma de la recompensa mas el acumulado futuro\n",
        "    retorno = recompensa+beta*retorno # TODO\n",
        "\n",
        "    # Se actualiza la funcion q del agente si la suma es mayor a 12\n",
        "    suma_mayor_12 = estado[0] is not None\n",
        "    if suma_mayor_12:\n",
        "      indice_estado_accion = estado + (accion,) \n",
        "      cambio_funcion_q = retorno - agente.funcion_q[indice_estado_accion]       \n",
        "      agente.actualizar_funcion_q(estado, accion, cambio_funcion_q, alpha)\n",
        "    \n",
        "    return retorno"
      ],
      "execution_count": null,
      "outputs": []
    },
    {
      "cell_type": "markdown",
      "metadata": {
        "id": "jcwpS_xo9hIu"
      },
      "source": [
        "Veamos cómo cambia la función q cuando utilizamos el método."
      ]
    },
    {
      "cell_type": "code",
      "metadata": {
        "id": "3OZKY1et5h4n",
        "colab": {
          "base_uri": "https://localhost:8080/"
        },
        "outputId": "c1323b40-1e11-4408-8a86-7c8e7f9afac9"
      },
      "source": [
        "agente = Agente()\n",
        "trayectoria = generar_trayectoria(juego, agente, epsilon=0.5)\n",
        "retorno = 0.0\n",
        "paso = trayectoria[-1]\n",
        "print(\"Retorno (antes de la actualizacion): \", retorno)\n",
        "print(\"Valor absoluto máximo en la función q (antes de la actualizacion): \", np.absolute(agente.funcion_q).max())\n",
        "retorno = actualizar_retorno_y_funcion_q_con_paso(agente, paso, retorno, alpha=0.1, beta=1.0)\n",
        "print(\"Retorno (despues de la actualizacion): \", retorno)\n",
        "print(\"Valor absoluto máximo en la función q (despues de la actualizacion): \", np.absolute(agente.funcion_q).max())"
      ],
      "execution_count": null,
      "outputs": [
        {
          "output_type": "stream",
          "text": [
            "Retorno (antes de la actualizacion):  0.0\n",
            "Valor absoluto máximo en la función q (antes de la actualizacion):  0.0\n",
            "Retorno (despues de la actualizacion):  -1.0\n",
            "Valor absoluto máximo en la función q (despues de la actualizacion):  0.1\n"
          ],
          "name": "stdout"
        }
      ]
    },
    {
      "cell_type": "markdown",
      "metadata": {
        "id": "uYyxSjJF9wjO"
      },
      "source": [
        "Podemos ver que inicialmente la función q está completamente llena de valores 0, mientras que después de la actualización no."
      ]
    },
    {
      "cell_type": "markdown",
      "metadata": {
        "id": "bE5CbMjU9DVn"
      },
      "source": [
        "### Ejercicio 2.4\n",
        "Definiremos un método para que el agente actualice su función q a partir de una trayectoria"
      ]
    },
    {
      "cell_type": "code",
      "metadata": {
        "id": "rdBbJICn7tg7"
      },
      "source": [
        "def actualizar_funcion_q_con_trayectoria(agente, trayectoria, alpha, beta):\n",
        "    # Inicializamos el retorno\n",
        "    retorno = 0\n",
        "\n",
        "    # Recorremos la trayectoria desde el final hasta el comienzo para estimar el\n",
        "    # retorno para cada pareja estado-accion\n",
        "    for indice_ultimo_paso in range(len(trayectoria)-1,-1,-1):\n",
        "      # Obtenemos un paso de la trayectoria\n",
        "      ultimo_paso = trayectoria[indice_ultimo_paso]\n",
        "\n",
        "      # Actalizamos el retorno para el paso y el valor q correspondiente\n",
        "      retorno = actualizar_retorno_y_funcion_q_con_paso(agente, ultimo_paso, retorno, alpha, beta) # TODO"
      ],
      "execution_count": null,
      "outputs": []
    },
    {
      "cell_type": "markdown",
      "metadata": {
        "id": "JTUyfw6t9_-G"
      },
      "source": [
        "Repetimos el procedimiento del Ejercicio 2.3, pero ahora para una trayectoria completa. "
      ]
    },
    {
      "cell_type": "code",
      "metadata": {
        "id": "k0t7LhOJ9eWI",
        "colab": {
          "base_uri": "https://localhost:8080/"
        },
        "outputId": "db5cb365-80ed-499e-f931-f6969f270c0a"
      },
      "source": [
        "agente = Agente()\n",
        "trayectoria = generar_trayectoria(juego, agente, epsilon=0.5)\n",
        "print(\"Valor absoluto máximo en la función q (antes de la actualizacion): \", np.absolute(agente.funcion_q).max())\n",
        "actualizar_funcion_q_con_trayectoria(agente, trayectoria, alpha=0.1, beta=1.0)\n",
        "print(\"Valor absoluto máximo en la función q (despues de la actualizacion): \", np.absolute(agente.funcion_q).max())"
      ],
      "execution_count": null,
      "outputs": [
        {
          "output_type": "stream",
          "text": [
            "Valor absoluto máximo en la función q (antes de la actualizacion):  0.0\n",
            "Valor absoluto máximo en la función q (despues de la actualizacion):  0.1\n"
          ],
          "name": "stdout"
        }
      ]
    },
    {
      "cell_type": "markdown",
      "metadata": {
        "id": "1KAd1Gm21ziW"
      },
      "source": [
        "### Ejercicio 2.5\n",
        "Habiendo definido los métodos para generar trayectorias y actualizar la función q a partir de estas, ya podemos definir nuestro método de entrenamiento de Monte Carlo."
      ]
    },
    {
      "cell_type": "code",
      "metadata": {
        "id": "ngGgrpHE3w-m"
      },
      "source": [
        "def entrenar_agente_MonteCarlo(juego, agente, alpha, beta, epsilon, n_episodios, \n",
        "                    imprimir=False, imprimir_cada_ep=5000):  \n",
        "  for episodio in range(0, n_episodios):\n",
        "    # Generamos una trayectoria\n",
        "    trayectoria = generar_trayectoria(juego, agente, epsilon) # TODO\n",
        "    \n",
        "    # Actualizamos la funcion q\n",
        "    actualizar_funcion_q_con_trayectoria(agente, trayectoria, alpha, beta) # TODO  \n",
        "      \n",
        "    if imprimir and ((episodio+1) % imprimir_cada_ep) == 0:\n",
        "      print('Episodio: ' + str(episodio+1))"
      ],
      "execution_count": null,
      "outputs": []
    },
    {
      "cell_type": "markdown",
      "metadata": {
        "id": "qCRpAsVj_jt-"
      },
      "source": [
        "## Bloque de entrenamiento\n",
        "\n",
        "Antes de probar nuestro método de Monte Carlo, vamos a definir una función que nos permitirá evaluar el desempeño del agente y de esta manera podremos saber si nuestro método lo mejora."
      ]
    },
    {
      "cell_type": "markdown",
      "metadata": {
        "id": "UsowSjIIBew7"
      },
      "source": [
        "### Ejercicio 3.1\n",
        "Primero, definamos un método que calcule el retorno de una trayectoria."
      ]
    },
    {
      "cell_type": "code",
      "metadata": {
        "id": "HbsS1jK0BlPY"
      },
      "source": [
        "def calcular_retorno_trayectoria(trayectoria, beta):\n",
        "  # Inicializamos el valor del retorno\n",
        "  retorno = 0.0\n",
        "\n",
        "  # Iteramos, paso por paso, y vamos sumando la recompensa de cada paso,\n",
        "  # teniendo en cuenta el factor de descuento\n",
        "  for t, paso in enumerate(trayectoria):\n",
        "    # Obtenemos la recompensa\n",
        "    recompensa = paso[2]\n",
        "\n",
        "    # Actualizamos el retorno\n",
        "    retorno += (beta**t) * recompensa # TODO\n",
        "    \n",
        "  return retorno"
      ],
      "execution_count": null,
      "outputs": []
    },
    {
      "cell_type": "markdown",
      "metadata": {
        "id": "69J48TzgCUX_"
      },
      "source": [
        "Probemos que el método funcione en una trayectoria. "
      ]
    },
    {
      "cell_type": "code",
      "metadata": {
        "id": "p6KWvUCZCZwb",
        "colab": {
          "base_uri": "https://localhost:8080/"
        },
        "outputId": "034162e9-0834-4989-debb-d5188d3fba4e"
      },
      "source": [
        "agente = Agente()\n",
        "trayectoria = generar_trayectoria(juego, agente, epsilon=0.5)\n",
        "retorno = calcular_retorno_trayectoria(trayectoria, beta=1.0)\n",
        "print(\"Trayectoria: \", trayectoria)\n",
        "print(\"Retorno: \", retorno)"
      ],
      "execution_count": null,
      "outputs": [
        {
          "output_type": "stream",
          "text": [
            "Trayectoria:  [[(8, 4, 0), 0, 1.0, True]]\n",
            "Retorno:  1.0\n"
          ],
          "name": "stdout"
        }
      ]
    },
    {
      "cell_type": "markdown",
      "metadata": {
        "id": "TsKqP00ZDF0c"
      },
      "source": [
        "### Ejercicio 3.2\n",
        "Ahora sí definamos el método que evalua el desempeño del agente, calculando el retorno promedio en una cantidad especificada de episodios, así como su desviación estándar. "
      ]
    },
    {
      "cell_type": "code",
      "metadata": {
        "id": "Mky7SPkAyXJX"
      },
      "source": [
        "def evaluar_agente(juego, agente, n_episodios, epsilon, beta,\n",
        "                   imprimir=False, ciclo=0):\n",
        "  retornos = []\n",
        "  for episodio in range(0, n_episodios):\n",
        "    # Generamos una trayectoria\n",
        "    trayectoria = generar_trayectoria(juego, agente, epsilon) # TODO\n",
        "\n",
        "    # Calculamos el retorno\n",
        "    retorno = calcular_retorno_trayectoria(trayectoria, beta) # TODO\n",
        "      \n",
        "    # Añadimos el retorno a una lista de retornos\n",
        "    retornos.append(retorno)\n",
        "  \n",
        "  # Calculamos el retorno promedio y su desviacion\n",
        "  retornos = np.array(retornos)\n",
        "  retorno_promedio = retornos.mean()\n",
        "  desviacion_retorno = retornos.std()\n",
        "\n",
        "  # Imprimimos el retorno si es necesario\n",
        "  if imprimir:\n",
        "    print(('Ciclo: ' + str(ciclo) + ', Retorno esperado: {:.3f}'.format(\n",
        "        retorno_promedio) + u\"\\u00B1\" + '{:.3f}'.format(desviacion_retorno)))\n",
        "  \n",
        "  return retorno_promedio, desviacion_retorno"
      ],
      "execution_count": null,
      "outputs": []
    },
    {
      "cell_type": "markdown",
      "metadata": {
        "id": "5-rCBLuDDAtd"
      },
      "source": [
        "Una vez contamos con la forma de evaluar al agente, podemos observar si nuestro algoritmo de Monte Carlo tiene un efecto positivo o no."
      ]
    },
    {
      "cell_type": "code",
      "metadata": {
        "id": "shTAPbhMC_1M",
        "colab": {
          "base_uri": "https://localhost:8080/"
        },
        "outputId": "14e49345-e563-47fc-bf25-2cc87b4cfb69"
      },
      "source": [
        "agente = Agente()\n",
        "retorno_antes = evaluar_agente(juego, agente, n_episodios=10000, epsilon=1.0, beta=1.0)\n",
        "entrenar_agente_MonteCarlo(juego, agente, alpha=0.001, beta=1.0, epsilon=1.0, n_episodios=100000)\n",
        "retorno_despues = evaluar_agente(juego, agente, n_episodios=10000, epsilon=1.0, beta=1.0)\n",
        "print(\"Retorno antes de entrenar: \", retorno_antes)\n",
        "print(\"Retorno despues de entrenar: \", retorno_despues)"
      ],
      "execution_count": null,
      "outputs": [
        {
          "output_type": "stream",
          "text": [
            "Retorno antes de entrenar:  (-0.3816, 0.8999896888298221)\n",
            "Retorno despues de entrenar:  (-0.3976, 0.8906818960773817)\n"
          ],
          "name": "stdout"
        }
      ]
    },
    {
      "cell_type": "markdown",
      "metadata": {
        "id": "ocEgElLQF9Zi"
      },
      "source": [
        "Dependiendo de la semilla, puede que el retorno después del entrenamiento sea más bajo. Esto es común en aprendizaje por refuerzo, cuando la variación es bastante alta. Sin embargo, una vez se utiliza la cantidad suficiente de episodios, lograremos ver el progreso del agente."
      ]
    },
    {
      "cell_type": "markdown",
      "metadata": {
        "id": "sYV3Ls7VGvRZ"
      },
      "source": [
        "### Ejercicio 3.3\n",
        "Nuestro último método consistirá en un bloque de entrenamiento en el que se alterna el aprendizaje del agente y su evaluación. La salida del método es una lista con la evolución del desempeño del agente."
      ]
    },
    {
      "cell_type": "code",
      "metadata": {
        "id": "HxrzLvzCaSa3"
      },
      "source": [
        "def entrenar_agente(juego, agente, alpha, beta, epsilon, decaimiento_epsilon, \n",
        "                    n_ciclos, n_episodios_ent, n_episodios_eval):\n",
        "  # Se crean listas de desempeño\n",
        "  retornos_media = []\n",
        "  retornos_desviacion = []\n",
        "\n",
        "  # Se ejecuta ciclo de entrenamiento y evaluacion una cantidad n_ciclos de veces\n",
        "  for ciclo in range(0, n_ciclos):\n",
        "    # Se entrena al agente\n",
        "    entrenar_agente_MonteCarlo(juego, agente, alpha, beta, epsilon, n_episodios_ent) # TODO\n",
        "\n",
        "    # Se evalua al agente\n",
        "    G_promedio, G_desviacion = evaluar_agente(juego, agente, n_episodios_eval, epsilon, beta, imprimir=(ciclo % imprimir_cada) == 0, ciclo=ciclo+1) # TODO\n",
        "                              \n",
        "    \n",
        "    # Guardamos el desempeño del agente\n",
        "    retornos_media.append(G_promedio)\n",
        "    retornos_desviacion.append(G_desviacion)\n",
        "\n",
        "    epsilon = max(min_epsilon, epsilon * decaimiento_epsilon)\n",
        "\n",
        "  return retornos_media, retornos_desviacion"
      ],
      "execution_count": null,
      "outputs": []
    },
    {
      "cell_type": "markdown",
      "metadata": {
        "id": "mJEwlL99IGxD"
      },
      "source": [
        "## Entrenamiento y gráficas"
      ]
    },
    {
      "cell_type": "markdown",
      "metadata": {
        "id": "AvQLenGdKtzz"
      },
      "source": [
        "Definamos los hiperparametros necesarios y ejecutemos nuestro bloque de entramiento."
      ]
    },
    {
      "cell_type": "code",
      "metadata": {
        "id": "7_D6dKPGVPKC"
      },
      "source": [
        "# Se especifican hiperparametros\n",
        "N_episodios_ent = 10000\n",
        "N_episodios_eval = 10000\n",
        "N_ciclos = 200\n",
        "N_acciones = 2\n",
        "epsilon = 1.0\n",
        "min_epsilon = 0.01\n",
        "decaimiento_epsilon = 0.95\n",
        "beta = 1.0\n",
        "alpha = 0.001\n",
        "imprimir_cada = 20\n",
        "\n",
        "# Se crea el juego de BlackJack y un agente por cada metodo\n",
        "juego = AmbienteBJ(seed=semilla)\n",
        "agente = Agente()"
      ],
      "execution_count": null,
      "outputs": []
    },
    {
      "cell_type": "code",
      "metadata": {
        "id": "5P3Qa0uo1pLo",
        "colab": {
          "base_uri": "https://localhost:8080/"
        },
        "outputId": "d7ae08e7-35de-4c47-d97a-20582ae0c6b3"
      },
      "source": [
        "retornos_MonteCarlo = entrenar_agente(juego, agente, alpha, beta, epsilon, decaimiento_epsilon, \n",
        "                                      N_ciclos, N_episodios_ent, N_episodios_eval)"
      ],
      "execution_count": null,
      "outputs": [
        {
          "output_type": "stream",
          "text": [
            "Ciclo: 1, Retorno esperado: -0.403±0.887\n",
            "Ciclo: 21, Retorno esperado: -0.152±0.952\n",
            "Ciclo: 41, Retorno esperado: -0.083±0.956\n",
            "Ciclo: 61, Retorno esperado: -0.059±0.954\n",
            "Ciclo: 81, Retorno esperado: -0.035±0.953\n",
            "Ciclo: 101, Retorno esperado: -0.043±0.954\n",
            "Ciclo: 121, Retorno esperado: -0.044±0.953\n",
            "Ciclo: 141, Retorno esperado: -0.038±0.952\n",
            "Ciclo: 161, Retorno esperado: -0.051±0.953\n",
            "Ciclo: 181, Retorno esperado: -0.044±0.954\n"
          ],
          "name": "stdout"
        }
      ]
    },
    {
      "cell_type": "code",
      "metadata": {
        "id": "JASkuFq2BOIq"
      },
      "source": [
        "# # Este bloque sirve para guardar y cargar el agente\n",
        "# import pickle\n",
        "\n",
        "# Para guardar\n",
        "# pickle.dump(agente, open('agente_MC.pt', 'wb'))\n",
        "\n",
        "# Para cargar\n",
        "# agente = pickle.load(open('agente_MC.pt', 'rb'))"
      ],
      "execution_count": null,
      "outputs": []
    },
    {
      "cell_type": "markdown",
      "metadata": {
        "id": "DOPwstc7K6kZ"
      },
      "source": [
        "Ahora grafiquemos la curva de aprendizaje para determinar si sí hubo aprendizaje y si la cantidad de episodios fue suficiente."
      ]
    },
    {
      "cell_type": "code",
      "metadata": {
        "id": "6MWgMc8eK5x1",
        "colab": {
          "base_uri": "https://localhost:8080/",
          "height": 350
        },
        "outputId": "4de796ac-f0ed-483c-9c7f-6bbad4b8fe9e"
      },
      "source": [
        "fig, ax = plt.subplots(1,1, figsize=(8,5))\n",
        "plt.plot(np.array(retornos_MonteCarlo[0]), label='MonteCarlo')\n",
        "plt.title('Curva de aprendizaje')\n",
        "plt.ylabel('Retorno promedio')\n",
        "plt.xlabel('Iteracion')\n",
        "plt.legend(fontsize=15)\n",
        "plt.show()\n",
        "plt.close()"
      ],
      "execution_count": null,
      "outputs": [
        {
          "output_type": "display_data",
          "data": {
            "image/png": "[encoded data removed]",
            "text/plain": [
              "<Figure size 576x360 with 1 Axes>"
            ]
          },
          "metadata": {
            "tags": []
          }
        }
      ]
    },
    {
      "cell_type": "markdown",
      "metadata": {
        "id": "0qGsdtwRLOEx"
      },
      "source": [
        "Por último, grafiquemos la política óptima."
      ]
    },
    {
      "cell_type": "code",
      "metadata": {
        "id": "LCUqv6jEyIpo"
      },
      "source": [
        "politica_optima = agente.funcion_q.argmax(3)\n",
        "politica_optima_df_dic = {}\n",
        "for i in range(0,2):\n",
        "  politica_optima_df_dic[str(i)] = pd.DataFrame(data=politica_optima[:,:,i], \n",
        "                                       index=range(12,22), \n",
        "                                       columns=['A']+[str(x) for x in range(2,11)])"
      ],
      "execution_count": null,
      "outputs": []
    },
    {
      "cell_type": "code",
      "metadata": {
        "id": "3rcuBAAgLkOJ",
        "colab": {
          "base_uri": "https://localhost:8080/",
          "height": 409
        },
        "outputId": "6b24f19d-a8fa-4285-c987-84effe7e2892"
      },
      "source": [
        "fig, ax = plt.subplots(1,2, figsize=(12,6))\n",
        "for i in range(0,2):\n",
        "  sns_ax = sns.heatmap(politica_optima_df_dic[str(i)], ax=ax[i], \n",
        "                       cmap=sns.color_palette(\"hls\", 2), cbar=False)\n",
        "  sns_ax.invert_yaxis()\n",
        "  ax[i].set_xlabel('Carta del repartidor')\n",
        "ax[0].text(7.0, 2.0, 'Pedir', fontsize=24)\n",
        "ax[0].text(3.0, 7.0, 'Plantarse', fontsize=24)\n",
        "ax[1].text(4.0, 3.0, 'Pedir', fontsize=24)\n",
        "ax[1].text(3.0, 7.0, 'Plantarse', fontsize=24)\n",
        "ax[0].set_title('Politica con As No Utilizable', fontsize=20)\n",
        "ax[1].set_title('Politica con As Utilizable', fontsize=20)\n",
        "ax[0].set_ylabel('Puntaje del jugador')\n",
        "plt.show()\n",
        "plt.close()"
      ],
      "execution_count": null,
      "outputs": [
        {
          "output_type": "display_data",
          "data": {
            "image/png": "[encoded data removed]",
            "text/plain": [
              "<Figure size 864x432 with 2 Axes>"
            ]
          },
          "metadata": {
            "tags": [],
            "needs_background": "light"
          }
        }
      ]
    },
    {
      "cell_type": "markdown",
      "metadata": {
        "id": "_eZQaKZri6TE"
      },
      "source": [
        "# Preguntas\n",
        "\n",
        "1.   ¿Cuál es el efecto del parámetro epsilon en la curva de aprendizaje?¿Por qué? Pruebe 3 distintos valores y compáre los resultados en una gráfica.\n",
        "2.   El algoritmo que se está implementando no es exactamente igual al explicado en el video. Describa las diferencias e intente explicar por qué son necesarias. (Hint: acá se introduce un parámetro $\\alpha$ que no se encuentra en el algoritmo original. ¿Qué papel está cumpliendo? La estimación de la función q supone que la política es invariante. ¿Esto se cumple?¿Por qué?) \n",
        "3.   En este caso tenemos 200 estados, ¿cree que el método puede ser tan útil para un ambiente con 2000 estados?, ¿y para uno de 2 millones?, ¿y qué pasa si el espacio de estados es continuo?¿Cómo cree que se puede atacar este problema?\n",
        "4.   ¿Cree que es viable utilizar el método de programación dinámica en este problema?¿Por qué sí o por qué no?\n",
        "4.   Bono: Implemente el algoritmo Q-learning o el algoritmo SARSA y haga una comparación."
      ]
    },
    {
      "cell_type": "markdown",
      "metadata": {
        "id": "pUFEMhnv1d8G"
      },
      "source": [
        "##Primer punto:"
      ]
    },
    {
      "cell_type": "markdown",
      "metadata": {
        "id": "aluk8WuJa2j1"
      },
      "source": [
        "**Con epsilon1 = 0.4:**"
      ]
    },
    {
      "cell_type": "code",
      "metadata": {
        "id": "nnut0r10aMS5"
      },
      "source": [
        "# Se especifican hiperparametros\n",
        "N_episodios_ent = 10000\n",
        "N_episodios_eval = 10000\n",
        "N_ciclos = 200\n",
        "N_acciones = 2\n",
        "epsilon1 = 0.4\n",
        "min_epsilon = 0.01\n",
        "decaimiento_epsilon = 0.95\n",
        "beta = 1.0\n",
        "alpha = 0.001\n",
        "imprimir_cada = 20\n",
        "\n",
        "# Se crea el juego de BlackJack y un agente por cada metodo\n",
        "juego = AmbienteBJ(seed=semilla)\n",
        "agente = Agente()"
      ],
      "execution_count": null,
      "outputs": []
    },
    {
      "cell_type": "code",
      "metadata": {
        "colab": {
          "base_uri": "https://localhost:8080/"
        },
        "id": "UD-dP7NqaMTA",
        "outputId": "17f0b2c8-3639-4632-d974-b77af3606eef"
      },
      "source": [
        "retornos_MonteCarlo1 = entrenar_agente(juego, agente, alpha, beta, epsilon1, decaimiento_epsilon, \n",
        "                                      N_ciclos, N_episodios_ent, N_episodios_eval)"
      ],
      "execution_count": null,
      "outputs": [
        {
          "output_type": "stream",
          "text": [
            "Ciclo: 1, Retorno esperado: -0.185±0.949\n",
            "Ciclo: 21, Retorno esperado: -0.105±0.955\n",
            "Ciclo: 41, Retorno esperado: -0.079±0.955\n",
            "Ciclo: 61, Retorno esperado: -0.049±0.956\n",
            "Ciclo: 81, Retorno esperado: -0.040±0.953\n",
            "Ciclo: 101, Retorno esperado: -0.060±0.954\n",
            "Ciclo: 121, Retorno esperado: -0.042±0.952\n",
            "Ciclo: 141, Retorno esperado: -0.039±0.954\n",
            "Ciclo: 161, Retorno esperado: -0.048±0.955\n",
            "Ciclo: 181, Retorno esperado: -0.040±0.952\n"
          ],
          "name": "stdout"
        }
      ]
    },
    {
      "cell_type": "markdown",
      "metadata": {
        "id": "RiCl7Ooyco26"
      },
      "source": [
        "**Con epsilon2 = 0.1**"
      ]
    },
    {
      "cell_type": "code",
      "metadata": {
        "id": "lqbbYBG2aNPE"
      },
      "source": [
        "# Se especifican hiperparametros\n",
        "N_episodios_ent = 10000\n",
        "N_episodios_eval = 10000\n",
        "N_ciclos = 200\n",
        "N_acciones = 2\n",
        "epsilon2 = 0.1\n",
        "min_epsilon = 0.01\n",
        "decaimiento_epsilon = 0.95\n",
        "beta = 1.0\n",
        "alpha = 0.001\n",
        "imprimir_cada = 20\n",
        "\n",
        "# Se crea el juego de BlackJack y un agente por cada metodo\n",
        "juego = AmbienteBJ(seed=semilla)\n",
        "agente = Agente()"
      ],
      "execution_count": null,
      "outputs": []
    },
    {
      "cell_type": "code",
      "metadata": {
        "colab": {
          "base_uri": "https://localhost:8080/"
        },
        "id": "cDq1pyFZaNPE",
        "outputId": "154e2858-aca5-4cb4-881c-4a92645a55a6"
      },
      "source": [
        "retornos_MonteCarlo2 = entrenar_agente(juego, agente, alpha, beta, epsilon2, decaimiento_epsilon, \n",
        "                                      N_ciclos, N_episodios_ent, N_episodios_eval)"
      ],
      "execution_count": null,
      "outputs": [
        {
          "output_type": "stream",
          "text": [
            "Ciclo: 1, Retorno esperado: -0.088±0.955\n",
            "Ciclo: 21, Retorno esperado: -0.077±0.958\n",
            "Ciclo: 41, Retorno esperado: -0.069±0.954\n",
            "Ciclo: 61, Retorno esperado: -0.039±0.955\n",
            "Ciclo: 81, Retorno esperado: -0.045±0.953\n",
            "Ciclo: 101, Retorno esperado: -0.067±0.953\n",
            "Ciclo: 121, Retorno esperado: -0.051±0.951\n",
            "Ciclo: 141, Retorno esperado: -0.035±0.954\n",
            "Ciclo: 161, Retorno esperado: -0.045±0.954\n",
            "Ciclo: 181, Retorno esperado: -0.047±0.953\n"
          ],
          "name": "stdout"
        }
      ]
    },
    {
      "cell_type": "markdown",
      "metadata": {
        "id": "pWXK_57UdUcV"
      },
      "source": [
        "**Con Epsilon3 = 0.8**"
      ]
    },
    {
      "cell_type": "code",
      "metadata": {
        "id": "AQN8zCQnaOJY"
      },
      "source": [
        "# Se especifican hiperparametros\n",
        "N_episodios_ent = 10000\n",
        "N_episodios_eval = 10000\n",
        "N_ciclos = 200\n",
        "N_acciones = 2\n",
        "epsilon3 = 0.8\n",
        "min_epsilon3 = 0.01\n",
        "decaimiento_epsilon = 0.95\n",
        "beta = 1.0\n",
        "alpha = 0.001\n",
        "imprimir_cada = 20\n",
        "\n",
        "# Se crea el juego de BlackJack y un agente por cada metodo\n",
        "juego = AmbienteBJ(seed=semilla)\n",
        "agente = Agente()"
      ],
      "execution_count": null,
      "outputs": []
    },
    {
      "cell_type": "code",
      "metadata": {
        "colab": {
          "base_uri": "https://localhost:8080/"
        },
        "id": "_wDQTTCXaOJY",
        "outputId": "d7679a42-828f-4e66-a5dd-183eb304351f"
      },
      "source": [
        "retornos_MonteCarlo3 = entrenar_agente(juego, agente, alpha, beta, epsilon3, decaimiento_epsilon, \n",
        "                                      N_ciclos, N_episodios_ent, N_episodios_eval)"
      ],
      "execution_count": null,
      "outputs": [
        {
          "output_type": "stream",
          "text": [
            "Ciclo: 1, Retorno esperado: -0.301±0.926\n",
            "Ciclo: 21, Retorno esperado: -0.131±0.954\n",
            "Ciclo: 41, Retorno esperado: -0.080±0.959\n",
            "Ciclo: 61, Retorno esperado: -0.049±0.956\n",
            "Ciclo: 81, Retorno esperado: -0.039±0.953\n",
            "Ciclo: 101, Retorno esperado: -0.043±0.954\n",
            "Ciclo: 121, Retorno esperado: -0.034±0.953\n",
            "Ciclo: 141, Retorno esperado: -0.036±0.955\n",
            "Ciclo: 161, Retorno esperado: -0.048±0.953\n",
            "Ciclo: 181, Retorno esperado: -0.046±0.952\n"
          ],
          "name": "stdout"
        }
      ]
    },
    {
      "cell_type": "code",
      "metadata": {
        "colab": {
          "base_uri": "https://localhost:8080/",
          "height": 350
        },
        "id": "bx26f1hnj7Ky",
        "outputId": "c371b1a5-8753-498c-8712-2e5f2487e02d"
      },
      "source": [
        "fig, ax = plt.subplots(1,1, figsize=(8,5))\r\n",
        "plt.plot(np.array(retornos_MonteCarlo[0]), label = 'Montecarlo, , ε=1')\r\n",
        "plt.plot(np.array(retornos_MonteCarlo1[0]), label = 'Montecarlo1, ε=0.4')\r\n",
        "plt.plot(np.array(retornos_MonteCarlo2[0]), label = 'Montecarlo2, ε=0.1')\r\n",
        "plt.plot(np.array(retornos_MonteCarlo3[0]), label = 'Montecarlo3, ε=0.8')\r\n",
        "plt.title('Curva de aprendizaje con montecarlos conglomerados')\r\n",
        "plt.ylabel('Retorno promedio')\r\n",
        "plt.xlabel('Iteracion')\r\n",
        "plt.legend(fontsize=15)\r\n",
        "plt.show()\r\n",
        "plt.close()"
      ],
      "execution_count": null,
      "outputs": [
        {
          "output_type": "display_data",
          "data": {
            "image/png": "[encoded data removed]",
            "text/plain": [
              "<Figure size 576x360 with 1 Axes>"
            ]
          },
          "metadata": {
            "tags": [],
            "needs_background": "light"
          }
        }
      ]
    },
    {
      "cell_type": "markdown",
      "metadata": {
        "id": "yXVFZoSewyb2"
      },
      "source": [
        "**De acuerdo con la gráfica que muestra los retornos de Montecarlo de manera conjunta, podemos ver que el índice de Epsilon varía inicialmente en la manera en que cuando este es mayor, el retorno promedio de la curva de aprendizaje empieza a incrementar en un punto inicial más abajo que en los escenarios donde este es menor. Sin embargo, vemos que en los cuatro escenarios, los retornos empiezan a tener un comportamiento similar desde la iteración número 75.**"
      ]
    },
    {
      "cell_type": "markdown",
      "metadata": {
        "id": "qitNaCLg1iYR"
      },
      "source": [
        "##Segundo punto:"
      ]
    },
    {
      "cell_type": "markdown",
      "metadata": {
        "id": "kICvBBuR1lT3"
      },
      "source": [
        "**En el modelo implementado en el ejercicio se encuentra un índice Alpha, el cual es una tasa de aprendizaje que indica qué tanto se debe variar la estimación, teniendo en cuenta el error de diferencia temporal. Este es necesario debido a que gracias a éste, el algoritmo puede converjer dado el error de diferencia temporal.**"
      ]
    },
    {
      "cell_type": "markdown",
      "metadata": {
        "id": "3b5w3glw2G-5"
      },
      "source": [
        "##Tercer punto:"
      ]
    },
    {
      "cell_type": "markdown",
      "metadata": {
        "id": "AocTu-FLbfKR"
      },
      "source": [
        "En este caso tenemos 200 estados, ¿cree que el método puede ser tan útil para un ambiente con 2000 estados?, ¿y para uno de 2 millones?, ¿y qué pasa si el espacio de estados es continuo?¿Cómo cree que se puede atacar este problema?"
      ]
    },
    {
      "cell_type": "code",
      "metadata": {
        "id": "mMaHp1y6bXKc"
      },
      "source": [
        "class Agente():\n",
        "  def __init__(self, dim_estado=(100,10,2), dim_accion=(2,)):    \n",
        "    self.funcion_q = np.zeros(dim_estado+dim_accion) # Funcion de valor Q\n",
        "    self.n_acciones = dim_accion[0]\n",
        "\n",
        "  '''\n",
        "  Metodo 1:\n",
        "  Este metodo transforma la mano del jugador y la carta del dealer\n",
        "  a nuestra representacion de estado. \n",
        "  Argumentos:\n",
        "    - estado: tupla donde el primer elemento es una lista de cartas, \n",
        "              correspondientes a la mano del jugador, y donde el segundo \n",
        "              elemento es la carta visible del dealer\n",
        "  Salida:\n",
        "    - estado transformado: tupla de 3 elementos (s_0, s_1, s_2), donde:\n",
        "              s_0:  indical el puntaje del jugador. Es un numero de 0 a 9, que \n",
        "                    corresponde a una suma de 12 a 21, en el mismo orden.\n",
        "              s_1:  indica la mano del dealer. Es un numero de 0 a 9, que corresponde\n",
        "                    al valor de la carta del dealer entre 1 y 10, en el mismo orden.\n",
        "              s_2:  indica si el as es utilizable. Es un número entre 0 y 1, que\n",
        "                    corresponde a si el As se puede o no utilizar como 11.                \n",
        "  '''\n",
        "  def transformar_estado(self, estado):\n",
        "    suma_mano, puntaje_dealer, as_utilizable = state2code(estado)\n",
        "    puntaje = suma_mano + 10*as_utilizable      \n",
        "    if puntaje < 12:\n",
        "      s_0 = s_1 = s_2 = None\n",
        "    else:      \n",
        "      s_0 = int(puntaje-12)        \n",
        "      s_1 = int(puntaje_dealer-1)  \n",
        "      s_2 = int(as_utilizable)\n",
        "    estado_transformado = (s_0, s_1, s_2)   \n",
        "    return estado_transformado\n",
        "\n",
        "\n",
        "  '''\n",
        "  Metodo 2:\n",
        "  Este metodo genera una accion para sumas entre 12 y 21, siguiendo una politica\n",
        "  epsilon-suave.\n",
        "  Argumentos: \n",
        "    - estado_transformado:   tupla con puntaje, carta del dealer, y bit de as utilizable\n",
        "    - epsilon:  valor entre 0 y 1, que corresponde al factor de exploracion\n",
        "  Salidas: \n",
        "    - accion:   bit, 0 para plantarse y 1 para pedir una nueva carta\n",
        "  '''\n",
        "  def generar_accion_con_politica_epsilon_suave(self, estado_transformado, epsilon):\n",
        "    s_0, s_1, s_2 = estado_transformado\n",
        "    valores_q = self.funcion_q[s_0, s_1, s_2, :]\n",
        "    if np.random.rand() > epsilon: # TODO\n",
        "      acciones_posibles = valores_q.argmax()\n",
        "      if isinstance(acciones_posibles, np.int64):\n",
        "        accion = acciones_posibles\n",
        "      else:\n",
        "        accion = random.choice(acciones_posibles)\n",
        "    else:\n",
        "      accion = np.random.randint(0, high=self.n_acciones) # TODO\n",
        "    return accion\n",
        "  \n",
        "\n",
        "  '''\n",
        "  Metodo 3:\n",
        "  Este metodo selecciona una accion para cualquier estado.\n",
        "  Argumentos: \n",
        "    - estado:   tupla donde el primer elemento es una lista de cartas, \n",
        "                correspondientes a la mano del jugador, y donde el segundo \n",
        "                elemento es la carta visible del dealer\n",
        "    - epsilon:  valor real positivo entre 0 y 1, que corresponde al factor de \n",
        "                exploracion\n",
        "  Salidas: \n",
        "    - accion:   bit, 0 para plantarse y 1 para pedir una nueva carta\n",
        "  '''\n",
        "  def seleccionar_accion(self, estado, epsilon):\n",
        "    estado_transformado = self.transformar_estado(estado)\n",
        "    suma_menor_12 = estado_transformado[0] is not None\n",
        "    if suma_menor_12:\n",
        "      accion = self.generar_accion_con_politica_epsilon_suave(estado_transformado, epsilon) # TODO\n",
        "    else:\n",
        "      accion = 1\n",
        "    return accion, estado_transformado\n",
        "\n",
        "  \n",
        "  '''\n",
        "  Metodo 4:\n",
        "  Este metodo actualiza los valores de la funcion q para una pareja (estado-accion),\n",
        "  adicionandole una cantidad específica \n",
        "  Argumentos: \n",
        "    - estado_transformado:   tupla con puntaje, carta del dealer, y bit de as utilizable\n",
        "    - accion:   bit, 0 para plantarse y 1 para pedir una nueva carta\n",
        "    - cambio:   valor real que determina que tanto cambia la funcion q\n",
        "    - alpha:    valor real positivo entre 0 y 1, que corresponde a la tasa de aprendizaje\n",
        "  '''\n",
        "  def actualizar_funcion_q(self, estado_transformado, accion, cambio, alpha):\n",
        "    indice_pareja_estado_accion = estado_transformado + (accion,)\n",
        "    self.funcion_q[indice_pareja_estado_accion] += alpha * cambio"
      ],
      "execution_count": null,
      "outputs": []
    },
    {
      "cell_type": "code",
      "metadata": {
        "colab": {
          "base_uri": "https://localhost:8080/"
        },
        "id": "eEUBYXRjbXKn",
        "outputId": "03300e51-f5bf-44d8-80ba-8f767de62bb1"
      },
      "source": [
        "mano_inicial = juego.reset()\n",
        "agente = Agente()\n",
        "accion, estado_transformado = agente.seleccionar_accion(mano_inicial, epsilon=0.5)\n",
        "print('Mano: ', mano_inicial)\n",
        "print('Estado: ', estado_transformado)\n",
        "print('Accion tomada: '+str(accion))"
      ],
      "execution_count": null,
      "outputs": [
        {
          "output_type": "stream",
          "text": [
            "Mano:  [[('5', 'clubs'), ('3', 'hearts')], ('K', 'diamonds')]\n",
            "Estado:  (None, None, None)\n",
            "Accion tomada: 1\n"
          ],
          "name": "stdout"
        }
      ]
    },
    {
      "cell_type": "code",
      "metadata": {
        "id": "nOZsmyfEbXKo"
      },
      "source": [
        "def dar_paso(juego, agente, estado, epsilon):\n",
        "  # El agente selecciona una accion\n",
        "  accion, estado_transformado = agente.seleccionar_accion(estado, epsilon)# TODO\n",
        "\n",
        "  # El agente actua en el ambiente y recibe la informacion del nuevo estado,\n",
        "  # la recompensa y la señal de juego terminado\n",
        "  _, siguiente_estado, recompensa, juego_terminado = juego.step(accion) # TODO\n",
        "  # Se crea una lista con la informacion del paso dado\n",
        "  paso = [estado_transformado, accion, recompensa, juego_terminado]\n",
        "          \n",
        "  return paso, siguiente_estado.copy(), juego_terminado "
      ],
      "execution_count": null,
      "outputs": []
    },
    {
      "cell_type": "code",
      "metadata": {
        "colab": {
          "base_uri": "https://localhost:8080/"
        },
        "id": "ic9zZL4CbXKo",
        "outputId": "3a276928-557c-4e8e-80b6-1cefa885c1e5"
      },
      "source": [
        "mano_inicial = juego.reset()\n",
        "paso, siguiente_mano, juego_terminado = dar_paso(juego, agente, mano_inicial, epsilon=0.5)\n",
        "print('Mano: ', mano_inicial)\n",
        "print('Siguiente mano: ', siguiente_mano)\n",
        "print('Juego terminado: ', juego_terminado)"
      ],
      "execution_count": null,
      "outputs": [
        {
          "output_type": "stream",
          "text": [
            "Mano:  [[('Q', 'hearts'), ('3', 'spades')], ('A', 'diamonds')]\n",
            "Siguiente mano:  [[('A', 'clubs'), ('Q', 'hearts'), ('3', 'spades')], ('A', 'diamonds')]\n",
            "Juego terminado:  False\n"
          ],
          "name": "stdout"
        }
      ]
    },
    {
      "cell_type": "code",
      "metadata": {
        "id": "XqBIl5_DbXKp"
      },
      "source": [
        "def generar_trayectoria(juego, agente, epsilon):\n",
        "  juego_terminado = False    \n",
        "  trayectoria = []\n",
        "  estado = juego.reset()\n",
        "\n",
        "  # Ciclo que genera una trayectoria. En este caso, corresponde a un juego \n",
        "  # completo de Blackjack. \n",
        "  while not juego_terminado:   \n",
        "    # Se da un paso\n",
        "    paso, siguiente_estado, juego_terminado = dar_paso(juego, agente, estado, epsilon) # TODO\n",
        "\n",
        "    # Se agrega el paso a la trayectoria\n",
        "    trayectoria.append(paso)    \n",
        "\n",
        "    # Se actualiza la información del estado  \n",
        "    estado = siguiente_estado.copy()\n",
        "\n",
        "  return trayectoria  "
      ],
      "execution_count": null,
      "outputs": []
    },
    {
      "cell_type": "code",
      "metadata": {
        "colab": {
          "base_uri": "https://localhost:8080/"
        },
        "id": "ckvHw9hCbXKp",
        "outputId": "ddea5621-94dd-40a2-d267-8b9c51e26ee9"
      },
      "source": [
        "trayectoria = generar_trayectoria(juego, agente, epsilon=0.5)\n",
        "print(\"Trayectoria:\")\n",
        "print(trayectoria)"
      ],
      "execution_count": null,
      "outputs": [
        {
          "output_type": "stream",
          "text": [
            "Trayectoria:\n",
            "[[(0, 1, 0), 1, -1.0, True]]\n"
          ],
          "name": "stdout"
        }
      ]
    },
    {
      "cell_type": "code",
      "metadata": {
        "id": "kpEeoKNdbXKp"
      },
      "source": [
        "def actualizar_retorno_y_funcion_q_con_paso(agente, paso, retorno, alpha, beta):\n",
        "    # Se extrae el ultimo paso de la trayectoria que no ha sido incluido\n",
        "    estado, accion, recompensa, juego_terminado = paso\n",
        "\n",
        "    # Se actualiza el retorno como la suma de la recompensa mas el acumulado futuro\n",
        "    retorno = recompensa+beta*retorno # TODO\n",
        "\n",
        "    # Se actualiza la funcion q del agente si la suma es mayor a 12\n",
        "    suma_mayor_12 = estado[0] is not None\n",
        "    if suma_mayor_12:\n",
        "      indice_estado_accion = estado + (accion,) \n",
        "      cambio_funcion_q = retorno - agente.funcion_q[indice_estado_accion]       \n",
        "      agente.actualizar_funcion_q(estado, accion, cambio_funcion_q, alpha)\n",
        "    \n",
        "    return retorno"
      ],
      "execution_count": null,
      "outputs": []
    },
    {
      "cell_type": "code",
      "metadata": {
        "colab": {
          "base_uri": "https://localhost:8080/"
        },
        "id": "lPfttx2abXKq",
        "outputId": "ded19d02-9c87-41f4-8767-c62a4dd44715"
      },
      "source": [
        "agente = Agente()\n",
        "trayectoria = generar_trayectoria(juego, agente, epsilon=0.5)\n",
        "retorno = 0.0\n",
        "paso = trayectoria[-1]\n",
        "print(\"Retorno (antes de la actualizacion): \", retorno)\n",
        "print(\"Valor absoluto máximo en la función q (antes de la actualizacion): \", np.absolute(agente.funcion_q).max())\n",
        "retorno = actualizar_retorno_y_funcion_q_con_paso(agente, paso, retorno, alpha=0.1, beta=1.0)\n",
        "print(\"Retorno (despues de la actualizacion): \", retorno)\n",
        "print(\"Valor absoluto máximo en la función q (despues de la actualizacion): \", np.absolute(agente.funcion_q).max())"
      ],
      "execution_count": null,
      "outputs": [
        {
          "output_type": "stream",
          "text": [
            "Retorno (antes de la actualizacion):  0.0\n",
            "Valor absoluto máximo en la función q (antes de la actualizacion):  0.0\n",
            "Retorno (despues de la actualizacion):  1.0\n",
            "Valor absoluto máximo en la función q (despues de la actualizacion):  0.1\n"
          ],
          "name": "stdout"
        }
      ]
    },
    {
      "cell_type": "code",
      "metadata": {
        "id": "PiDsMtVIbXKq"
      },
      "source": [
        "def actualizar_funcion_q_con_trayectoria(agente, trayectoria, alpha, beta):\n",
        "    # Inicializamos el retorno\n",
        "    retorno = 0\n",
        "\n",
        "    # Recorremos la trayectoria desde el final hasta el comienzo para estimar el\n",
        "    # retorno para cada pareja estado-accion\n",
        "    for indice_ultimo_paso in range(len(trayectoria)-1,-1,-1):\n",
        "      # Obtenemos un paso de la trayectoria\n",
        "      ultimo_paso = trayectoria[indice_ultimo_paso]\n",
        "\n",
        "      # Actalizamos el retorno para el paso y el valor q correspondiente\n",
        "      retorno = actualizar_retorno_y_funcion_q_con_paso(agente, ultimo_paso, retorno, alpha, beta) # TODO"
      ],
      "execution_count": null,
      "outputs": []
    },
    {
      "cell_type": "code",
      "metadata": {
        "colab": {
          "base_uri": "https://localhost:8080/"
        },
        "id": "tQ5SPAfBbXKq",
        "outputId": "4922e528-2c74-46b2-8dad-097716eeda48"
      },
      "source": [
        "agente = Agente()\n",
        "trayectoria = generar_trayectoria(juego, agente, epsilon=0.5)\n",
        "print(\"Valor absoluto máximo en la función q (antes de la actualizacion): \", np.absolute(agente.funcion_q).max())\n",
        "actualizar_funcion_q_con_trayectoria(agente, trayectoria, alpha=0.1, beta=1.0)\n",
        "print(\"Valor absoluto máximo en la función q (despues de la actualizacion): \", np.absolute(agente.funcion_q).max())"
      ],
      "execution_count": null,
      "outputs": [
        {
          "output_type": "stream",
          "text": [
            "Valor absoluto máximo en la función q (antes de la actualizacion):  0.0\n",
            "Valor absoluto máximo en la función q (despues de la actualizacion):  0.1\n"
          ],
          "name": "stdout"
        }
      ]
    },
    {
      "cell_type": "code",
      "metadata": {
        "id": "MGUo-zqwbXKr"
      },
      "source": [
        "def entrenar_agente_MonteCarlo(juego, agente, alpha, beta, epsilon, n_episodios, \n",
        "                    imprimir=False, imprimir_cada_ep=5000):  \n",
        "  for episodio in range(0, n_episodios):\n",
        "    # Generamos una trayectoria\n",
        "    trayectoria = generar_trayectoria(juego, agente, epsilon) # TODO\n",
        "    \n",
        "    # Actualizamos la funcion q\n",
        "    actualizar_funcion_q_con_trayectoria(agente, trayectoria, alpha, beta) # TODO  \n",
        "      \n",
        "    if imprimir and ((episodio+1) % imprimir_cada_ep) == 0:\n",
        "      print('Episodio: ' + str(episodio+1))"
      ],
      "execution_count": null,
      "outputs": []
    },
    {
      "cell_type": "code",
      "metadata": {
        "id": "VOxv-Q3mbXKr"
      },
      "source": [
        "def calcular_retorno_trayectoria(trayectoria, beta):\n",
        "  # Inicializamos el valor del retorno\n",
        "  retorno = 0.0\n",
        "\n",
        "  # Iteramos, paso por paso, y vamos sumando la recompensa de cada paso,\n",
        "  # teniendo en cuenta el factor de descuento\n",
        "  for t, paso in enumerate(trayectoria):\n",
        "    # Obtenemos la recompensa\n",
        "    recompensa = paso[2]\n",
        "\n",
        "    # Actualizamos el retorno\n",
        "    retorno += (beta**t) * recompensa # TODO\n",
        "    \n",
        "  return retorno"
      ],
      "execution_count": null,
      "outputs": []
    },
    {
      "cell_type": "code",
      "metadata": {
        "colab": {
          "base_uri": "https://localhost:8080/"
        },
        "id": "UYwjTMvlbXKr",
        "outputId": "8a70e861-83af-4cfb-96dd-100474bbbead"
      },
      "source": [
        "agente = Agente()\n",
        "trayectoria = generar_trayectoria(juego, agente, epsilon=0.5)\n",
        "retorno = calcular_retorno_trayectoria(trayectoria, beta=1.0)\n",
        "print(\"Trayectoria: \", trayectoria)\n",
        "print(\"Retorno: \", retorno)"
      ],
      "execution_count": null,
      "outputs": [
        {
          "output_type": "stream",
          "text": [
            "Trayectoria:  [[(4, 1, 0), 0, 1.0, True]]\n",
            "Retorno:  1.0\n"
          ],
          "name": "stdout"
        }
      ]
    },
    {
      "cell_type": "code",
      "metadata": {
        "id": "vlW61fShbXKs"
      },
      "source": [
        "def evaluar_agente(juego, agente, n_episodios, epsilon, beta,\n",
        "                   imprimir=False, ciclo=0):\n",
        "  retornos = []\n",
        "  for episodio in range(0, n_episodios):\n",
        "    # Generamos una trayectoria\n",
        "    trayectoria = generar_trayectoria(juego, agente, epsilon) # TODO\n",
        "\n",
        "    # Calculamos el retorno\n",
        "    retorno = calcular_retorno_trayectoria(trayectoria, beta) # TODO\n",
        "      \n",
        "    # Añadimos el retorno a una lista de retornos\n",
        "    retornos.append(retorno)\n",
        "  \n",
        "  # Calculamos el retorno promedio y su desviacion\n",
        "  retornos = np.array(retornos)\n",
        "  retorno_promedio = retornos.mean()\n",
        "  desviacion_retorno = retornos.std()\n",
        "\n",
        "  # Imprimimos el retorno si es necesario\n",
        "  if imprimir:\n",
        "    print(('Ciclo: ' + str(ciclo) + ', Retorno esperado: {:.3f}'.format(\n",
        "        retorno_promedio) + u\"\\u00B1\" + '{:.3f}'.format(desviacion_retorno)))\n",
        "  \n",
        "  return retorno_promedio, desviacion_retorno"
      ],
      "execution_count": null,
      "outputs": []
    },
    {
      "cell_type": "code",
      "metadata": {
        "colab": {
          "base_uri": "https://localhost:8080/"
        },
        "id": "nceaEckhbXKs",
        "outputId": "616a4e5b-7d6b-41a9-917a-2852dd18f5d4"
      },
      "source": [
        "agente = Agente()\n",
        "retorno_antes = evaluar_agente(juego, agente, n_episodios=10000, epsilon=1.0, beta=1.0)\n",
        "entrenar_agente_MonteCarlo(juego, agente, alpha=0.001, beta=1.0, epsilon=1.0, n_episodios=100000)\n",
        "retorno_despues = evaluar_agente(juego, agente, n_episodios=10000, epsilon=1.0, beta=1.0)\n",
        "print(\"Retorno antes de entrenar: \", retorno_antes)\n",
        "print(\"Retorno despues de entrenar: \", retorno_despues)"
      ],
      "execution_count": null,
      "outputs": [
        {
          "output_type": "stream",
          "text": [
            "Retorno antes de entrenar:  (-0.3896, 0.8956627936896787)\n",
            "Retorno despues de entrenar:  (-0.3835, 0.8989036377721474)\n"
          ],
          "name": "stdout"
        }
      ]
    },
    {
      "cell_type": "code",
      "metadata": {
        "id": "vmqZjXf2bXKt"
      },
      "source": [
        "def entrenar_agente(juego, agente, alpha, beta, epsilon, decaimiento_epsilon, \n",
        "                    n_ciclos, n_episodios_ent, n_episodios_eval):\n",
        "  # Se crean listas de desempeño\n",
        "  retornos_media = []\n",
        "  retornos_desviacion = []\n",
        "\n",
        "  # Se ejecuta ciclo de entrenamiento y evaluacion una cantidad n_ciclos de veces\n",
        "  for ciclo in range(0, n_ciclos):\n",
        "    # Se entrena al agente\n",
        "    entrenar_agente_MonteCarlo(juego, agente, alpha, beta, epsilon, n_episodios_ent) # TODO\n",
        "\n",
        "    # Se evalua al agente\n",
        "    G_promedio, G_desviacion = evaluar_agente(juego, agente, n_episodios_eval, epsilon, beta, imprimir=(ciclo % imprimir_cada) == 0, ciclo=ciclo+1) # TODO\n",
        "                              \n",
        "    \n",
        "    # Guardamos el desempeño del agente\n",
        "    retornos_media.append(G_promedio)\n",
        "    retornos_desviacion.append(G_desviacion)\n",
        "\n",
        "    epsilon = max(min_epsilon, epsilon * decaimiento_epsilon)\n",
        "\n",
        "  return retornos_media, retornos_desviacion"
      ],
      "execution_count": null,
      "outputs": []
    },
    {
      "cell_type": "code",
      "metadata": {
        "id": "hBPNBm_NbXKt"
      },
      "source": [
        "# Se especifican hiperparametros\n",
        "N_episodios_ent = 10000\n",
        "N_episodios_eval = 10000\n",
        "N_ciclos = 200\n",
        "N_acciones = 2\n",
        "epsilon = 1.0\n",
        "min_epsilon = 0.01\n",
        "decaimiento_epsilon = 0.95\n",
        "beta = 1.0\n",
        "alpha = 0.001\n",
        "imprimir_cada = 20\n",
        "\n",
        "# Se crea el juego de BlackJack y un agente por cada metodo\n",
        "juego = AmbienteBJ(seed=semilla)\n",
        "agente = Agente()"
      ],
      "execution_count": null,
      "outputs": []
    },
    {
      "cell_type": "code",
      "metadata": {
        "colab": {
          "base_uri": "https://localhost:8080/"
        },
        "id": "6cOymrX6bXKt",
        "outputId": "d8182f75-f0b0-44bc-eaef-d6b3ea37c8ee"
      },
      "source": [
        "retornos_MonteCarlo2000 = entrenar_agente(juego, agente, alpha, beta, epsilon, decaimiento_epsilon, \n",
        "                                      N_ciclos, N_episodios_ent, N_episodios_eval)"
      ],
      "execution_count": null,
      "outputs": [
        {
          "output_type": "stream",
          "text": [
            "Ciclo: 1, Retorno esperado: -0.391±0.895\n",
            "Ciclo: 21, Retorno esperado: -0.176±0.950\n",
            "Ciclo: 41, Retorno esperado: -0.085±0.958\n",
            "Ciclo: 61, Retorno esperado: -0.061±0.957\n",
            "Ciclo: 81, Retorno esperado: -0.038±0.953\n",
            "Ciclo: 101, Retorno esperado: -0.045±0.954\n",
            "Ciclo: 121, Retorno esperado: -0.040±0.953\n",
            "Ciclo: 141, Retorno esperado: -0.035±0.953\n",
            "Ciclo: 161, Retorno esperado: -0.048±0.954\n",
            "Ciclo: 181, Retorno esperado: -0.046±0.953\n"
          ],
          "name": "stdout"
        }
      ]
    },
    {
      "cell_type": "code",
      "metadata": {
        "colab": {
          "base_uri": "https://localhost:8080/",
          "height": 350
        },
        "id": "5mjqq941bXKu",
        "outputId": "08c64cc3-c706-4032-d339-a7e00d8e2282"
      },
      "source": [
        "fig, ax = plt.subplots(1,1, figsize=(8,5))\n",
        "plt.plot(np.array(retornos_MonteCarlo2000[0]), label='MonteCarlo_2000')\n",
        "plt.title('Curva de aprendizaje')\n",
        "plt.ylabel('Retorno promedio')\n",
        "plt.xlabel('Iteracion')\n",
        "plt.legend(fontsize=15)\n",
        "plt.show()\n",
        "plt.close()"
      ],
      "execution_count": null,
      "outputs": [
        {
          "output_type": "display_data",
          "data": {
            "image/png": "[encoded data removed]",
            "text/plain": [
              "<Figure size 576x360 with 1 Axes>"
            ]
          },
          "metadata": {
            "tags": []
          }
        }
      ]
    },
    {
      "cell_type": "code",
      "metadata": {
        "id": "N5lxKgxrdHwG"
      },
      "source": [
        "class Agente():\n",
        "  def __init__(self, dim_estado=(1000,1000,2), dim_accion=(2,)):    \n",
        "    self.funcion_q = np.zeros(dim_estado+dim_accion) # Funcion de valor Q\n",
        "    self.n_acciones = dim_accion[0]\n",
        "\n",
        "  '''\n",
        "  Metodo 1:\n",
        "  Este metodo transforma la mano del jugador y la carta del dealer\n",
        "  a nuestra representacion de estado. \n",
        "  Argumentos:\n",
        "    - estado: tupla donde el primer elemento es una lista de cartas, \n",
        "              correspondientes a la mano del jugador, y donde el segundo \n",
        "              elemento es la carta visible del dealer\n",
        "  Salida:\n",
        "    - estado transformado: tupla de 3 elementos (s_0, s_1, s_2), donde:\n",
        "              s_0:  indical el puntaje del jugador. Es un numero de 0 a 9, que \n",
        "                    corresponde a una suma de 12 a 21, en el mismo orden.\n",
        "              s_1:  indica la mano del dealer. Es un numero de 0 a 9, que corresponde\n",
        "                    al valor de la carta del dealer entre 1 y 10, en el mismo orden.\n",
        "              s_2:  indica si el as es utilizable. Es un número entre 0 y 1, que\n",
        "                    corresponde a si el As se puede o no utilizar como 11.                \n",
        "  '''\n",
        "  def transformar_estado(self, estado):\n",
        "    suma_mano, puntaje_dealer, as_utilizable = state2code(estado)\n",
        "    puntaje = suma_mano + 10*as_utilizable      \n",
        "    if puntaje < 12:\n",
        "      s_0 = s_1 = s_2 = None\n",
        "    else:      \n",
        "      s_0 = int(puntaje-12)        \n",
        "      s_1 = int(puntaje_dealer-1)  \n",
        "      s_2 = int(as_utilizable)\n",
        "    estado_transformado = (s_0, s_1, s_2)   \n",
        "    return estado_transformado\n",
        "\n",
        "\n",
        "  '''\n",
        "  Metodo 2:\n",
        "  Este metodo genera una accion para sumas entre 12 y 21, siguiendo una politica\n",
        "  epsilon-suave.\n",
        "  Argumentos: \n",
        "    - estado_transformado:   tupla con puntaje, carta del dealer, y bit de as utilizable\n",
        "    - epsilon:  valor entre 0 y 1, que corresponde al factor de exploracion\n",
        "  Salidas: \n",
        "    - accion:   bit, 0 para plantarse y 1 para pedir una nueva carta\n",
        "  '''\n",
        "  def generar_accion_con_politica_epsilon_suave(self, estado_transformado, epsilon):\n",
        "    s_0, s_1, s_2 = estado_transformado\n",
        "    valores_q = self.funcion_q[s_0, s_1, s_2, :]\n",
        "    if np.random.rand() > epsilon: # TODO\n",
        "      acciones_posibles = valores_q.argmax()\n",
        "      if isinstance(acciones_posibles, np.int64):\n",
        "        accion = acciones_posibles\n",
        "      else:\n",
        "        accion = random.choice(acciones_posibles)\n",
        "    else:\n",
        "      accion = np.random.randint(0, high=self.n_acciones) # TODO\n",
        "    return accion\n",
        "  \n",
        "\n",
        "  '''\n",
        "  Metodo 3:\n",
        "  Este metodo selecciona una accion para cualquier estado.\n",
        "  Argumentos: \n",
        "    - estado:   tupla donde el primer elemento es una lista de cartas, \n",
        "                correspondientes a la mano del jugador, y donde el segundo \n",
        "                elemento es la carta visible del dealer\n",
        "    - epsilon:  valor real positivo entre 0 y 1, que corresponde al factor de \n",
        "                exploracion\n",
        "  Salidas: \n",
        "    - accion:   bit, 0 para plantarse y 1 para pedir una nueva carta\n",
        "  '''\n",
        "  def seleccionar_accion(self, estado, epsilon):\n",
        "    estado_transformado = self.transformar_estado(estado)\n",
        "    suma_menor_12 = estado_transformado[0] is not None\n",
        "    if suma_menor_12:\n",
        "      accion = self.generar_accion_con_politica_epsilon_suave(estado_transformado, epsilon) # TODO\n",
        "    else:\n",
        "      accion = 1\n",
        "    return accion, estado_transformado\n",
        "\n",
        "  \n",
        "  '''\n",
        "  Metodo 4:\n",
        "  Este metodo actualiza los valores de la funcion q para una pareja (estado-accion),\n",
        "  adicionandole una cantidad específica \n",
        "  Argumentos: \n",
        "    - estado_transformado:   tupla con puntaje, carta del dealer, y bit de as utilizable\n",
        "    - accion:   bit, 0 para plantarse y 1 para pedir una nueva carta\n",
        "    - cambio:   valor real que determina que tanto cambia la funcion q\n",
        "    - alpha:    valor real positivo entre 0 y 1, que corresponde a la tasa de aprendizaje\n",
        "  '''\n",
        "  def actualizar_funcion_q(self, estado_transformado, accion, cambio, alpha):\n",
        "    indice_pareja_estado_accion = estado_transformado + (accion,)\n",
        "    self.funcion_q[indice_pareja_estado_accion] += alpha * cambio"
      ],
      "execution_count": null,
      "outputs": []
    },
    {
      "cell_type": "code",
      "metadata": {
        "colab": {
          "base_uri": "https://localhost:8080/"
        },
        "id": "5ioPALX0dHwI",
        "outputId": "008ed9e9-754e-4086-f4d1-1dea92147feb"
      },
      "source": [
        "mano_inicial = juego.reset()\n",
        "agente = Agente()\n",
        "accion, estado_transformado = agente.seleccionar_accion(mano_inicial, epsilon=0.5)\n",
        "print('Mano: ', mano_inicial)\n",
        "print('Estado: ', estado_transformado)\n",
        "print('Accion tomada: '+str(accion))"
      ],
      "execution_count": null,
      "outputs": [
        {
          "output_type": "stream",
          "text": [
            "Mano:  [[('9', 'spades'), ('A', 'hearts')], ('9', 'hearts')]\n",
            "Estado:  (8, 8, 1)\n",
            "Accion tomada: 0\n"
          ],
          "name": "stdout"
        }
      ]
    },
    {
      "cell_type": "code",
      "metadata": {
        "id": "jNU3EYc3dHwM"
      },
      "source": [
        "def dar_paso(juego, agente, estado, epsilon):\n",
        "  # El agente selecciona una accion\n",
        "  accion, estado_transformado = agente.seleccionar_accion(estado, epsilon)# TODO\n",
        "\n",
        "  # El agente actua en el ambiente y recibe la informacion del nuevo estado,\n",
        "  # la recompensa y la señal de juego terminado\n",
        "  _, siguiente_estado, recompensa, juego_terminado = juego.step(accion) # TODO\n",
        "  # Se crea una lista con la informacion del paso dado\n",
        "  paso = [estado_transformado, accion, recompensa, juego_terminado]\n",
        "          \n",
        "  return paso, siguiente_estado.copy(), juego_terminado "
      ],
      "execution_count": null,
      "outputs": []
    },
    {
      "cell_type": "code",
      "metadata": {
        "colab": {
          "base_uri": "https://localhost:8080/"
        },
        "id": "GNCUXzwNdHwN",
        "outputId": "585fca3b-e0a2-40ab-87a1-a6b1b03cdce9"
      },
      "source": [
        "mano_inicial = juego.reset()\n",
        "paso, siguiente_mano, juego_terminado = dar_paso(juego, agente, mano_inicial, epsilon=0.5)\n",
        "print('Mano: ', mano_inicial)\n",
        "print('Siguiente mano: ', siguiente_mano)\n",
        "print('Juego terminado: ', juego_terminado)"
      ],
      "execution_count": null,
      "outputs": [
        {
          "output_type": "stream",
          "text": [
            "Mano:  [[('Q', 'clubs'), ('K', 'diamonds')], ('7', 'diamonds')]\n",
            "Siguiente mano:  [[('Q', 'clubs'), ('K', 'diamonds')], [('2', 'clubs'), ('8', 'diamonds'), ('7', 'diamonds'), ('A', 'spades')]]\n",
            "Juego terminado:  True\n"
          ],
          "name": "stdout"
        }
      ]
    },
    {
      "cell_type": "code",
      "metadata": {
        "id": "Jkp8rEBzdHwN"
      },
      "source": [
        "def generar_trayectoria(juego, agente, epsilon):\n",
        "  juego_terminado = False    \n",
        "  trayectoria = []\n",
        "  estado = juego.reset()\n",
        "\n",
        "  # Ciclo que genera una trayectoria. En este caso, corresponde a un juego \n",
        "  # completo de Blackjack. \n",
        "  while not juego_terminado:   \n",
        "    # Se da un paso\n",
        "    paso, siguiente_estado, juego_terminado = dar_paso(juego, agente, estado, epsilon) # TODO\n",
        "\n",
        "    # Se agrega el paso a la trayectoria\n",
        "    trayectoria.append(paso)    \n",
        "\n",
        "    # Se actualiza la información del estado  \n",
        "    estado = siguiente_estado.copy()\n",
        "\n",
        "  return trayectoria  "
      ],
      "execution_count": null,
      "outputs": []
    },
    {
      "cell_type": "code",
      "metadata": {
        "colab": {
          "base_uri": "https://localhost:8080/"
        },
        "id": "YoH3oUerdHwO",
        "outputId": "9e43c488-565a-4e9a-f489-88c3140e2eff"
      },
      "source": [
        "trayectoria = generar_trayectoria(juego, agente, epsilon=0.5)\n",
        "print(\"Trayectoria:\")\n",
        "print(trayectoria)"
      ],
      "execution_count": null,
      "outputs": [
        {
          "output_type": "stream",
          "text": [
            "Trayectoria:\n",
            "[[(8, 5, 0), 1, -1.0, True]]\n"
          ],
          "name": "stdout"
        }
      ]
    },
    {
      "cell_type": "code",
      "metadata": {
        "id": "tvdrqm8CdHwP"
      },
      "source": [
        "def actualizar_retorno_y_funcion_q_con_paso(agente, paso, retorno, alpha, beta):\n",
        "    # Se extrae el ultimo paso de la trayectoria que no ha sido incluido\n",
        "    estado, accion, recompensa, juego_terminado = paso\n",
        "\n",
        "    # Se actualiza el retorno como la suma de la recompensa mas el acumulado futuro\n",
        "    retorno = recompensa+beta*retorno # TODO\n",
        "\n",
        "    # Se actualiza la funcion q del agente si la suma es mayor a 12\n",
        "    suma_mayor_12 = estado[0] is not None\n",
        "    if suma_mayor_12:\n",
        "      indice_estado_accion = estado + (accion,) \n",
        "      cambio_funcion_q = retorno - agente.funcion_q[indice_estado_accion]       \n",
        "      agente.actualizar_funcion_q(estado, accion, cambio_funcion_q, alpha)\n",
        "    \n",
        "    return retorno"
      ],
      "execution_count": null,
      "outputs": []
    },
    {
      "cell_type": "code",
      "metadata": {
        "colab": {
          "base_uri": "https://localhost:8080/"
        },
        "id": "mBsy-wy5dHwP",
        "outputId": "89551010-29f2-4773-8d9b-68a63c109637"
      },
      "source": [
        "agente = Agente()\n",
        "trayectoria = generar_trayectoria(juego, agente, epsilon=0.5)\n",
        "retorno = 0.0\n",
        "paso = trayectoria[-1]\n",
        "print(\"Retorno (antes de la actualizacion): \", retorno)\n",
        "print(\"Valor absoluto máximo en la función q (antes de la actualizacion): \", np.absolute(agente.funcion_q).max())\n",
        "retorno = actualizar_retorno_y_funcion_q_con_paso(agente, paso, retorno, alpha=0.1, beta=1.0)\n",
        "print(\"Retorno (despues de la actualizacion): \", retorno)\n",
        "print(\"Valor absoluto máximo en la función q (despues de la actualizacion): \", np.absolute(agente.funcion_q).max())"
      ],
      "execution_count": null,
      "outputs": [
        {
          "output_type": "stream",
          "text": [
            "Retorno (antes de la actualizacion):  0.0\n",
            "Valor absoluto máximo en la función q (antes de la actualizacion):  0.0\n",
            "Retorno (despues de la actualizacion):  -1.0\n",
            "Valor absoluto máximo en la función q (despues de la actualizacion):  0.1\n"
          ],
          "name": "stdout"
        }
      ]
    },
    {
      "cell_type": "code",
      "metadata": {
        "id": "3ASR4ED6dHwQ"
      },
      "source": [
        "def actualizar_funcion_q_con_trayectoria(agente, trayectoria, alpha, beta):\n",
        "    # Inicializamos el retorno\n",
        "    retorno = 0\n",
        "\n",
        "    # Recorremos la trayectoria desde el final hasta el comienzo para estimar el\n",
        "    # retorno para cada pareja estado-accion\n",
        "    for indice_ultimo_paso in range(len(trayectoria)-1,-1,-1):\n",
        "      # Obtenemos un paso de la trayectoria\n",
        "      ultimo_paso = trayectoria[indice_ultimo_paso]\n",
        "\n",
        "      # Actalizamos el retorno para el paso y el valor q correspondiente\n",
        "      retorno = actualizar_retorno_y_funcion_q_con_paso(agente, ultimo_paso, retorno, alpha, beta) # TODO"
      ],
      "execution_count": null,
      "outputs": []
    },
    {
      "cell_type": "code",
      "metadata": {
        "colab": {
          "base_uri": "https://localhost:8080/"
        },
        "id": "tAK8PxigdHwR",
        "outputId": "5f46c929-da2e-442f-d161-a22ae2e26bd0"
      },
      "source": [
        "agente = Agente()\n",
        "trayectoria = generar_trayectoria(juego, agente, epsilon=0.5)\n",
        "print(\"Valor absoluto máximo en la función q (antes de la actualizacion): \", np.absolute(agente.funcion_q).max())\n",
        "actualizar_funcion_q_con_trayectoria(agente, trayectoria, alpha=0.1, beta=1.0)\n",
        "print(\"Valor absoluto máximo en la función q (despues de la actualizacion): \", np.absolute(agente.funcion_q).max())"
      ],
      "execution_count": null,
      "outputs": [
        {
          "output_type": "stream",
          "text": [
            "Valor absoluto máximo en la función q (antes de la actualizacion):  0.0\n",
            "Valor absoluto máximo en la función q (despues de la actualizacion):  0.1\n"
          ],
          "name": "stdout"
        }
      ]
    },
    {
      "cell_type": "code",
      "metadata": {
        "id": "aaK2-62hdHwS"
      },
      "source": [
        "def entrenar_agente_MonteCarlo(juego, agente, alpha, beta, epsilon, n_episodios, \n",
        "                    imprimir=False, imprimir_cada_ep=5000):  \n",
        "  for episodio in range(0, n_episodios):\n",
        "    # Generamos una trayectoria\n",
        "    trayectoria = generar_trayectoria(juego, agente, epsilon) # TODO\n",
        "    \n",
        "    # Actualizamos la funcion q\n",
        "    actualizar_funcion_q_con_trayectoria(agente, trayectoria, alpha, beta) # TODO  \n",
        "      \n",
        "    if imprimir and ((episodio+1) % imprimir_cada_ep) == 0:\n",
        "      print('Episodio: ' + str(episodio+1))"
      ],
      "execution_count": null,
      "outputs": []
    },
    {
      "cell_type": "code",
      "metadata": {
        "id": "Js7TwF4GdHwS"
      },
      "source": [
        "def calcular_retorno_trayectoria(trayectoria, beta):\n",
        "  # Inicializamos el valor del retorno\n",
        "  retorno = 0.0\n",
        "\n",
        "  # Iteramos, paso por paso, y vamos sumando la recompensa de cada paso,\n",
        "  # teniendo en cuenta el factor de descuento\n",
        "  for t, paso in enumerate(trayectoria):\n",
        "    # Obtenemos la recompensa\n",
        "    recompensa = paso[2]\n",
        "\n",
        "    # Actualizamos el retorno\n",
        "    retorno += (beta**t) * recompensa # TODO\n",
        "    \n",
        "  return retorno"
      ],
      "execution_count": null,
      "outputs": []
    },
    {
      "cell_type": "code",
      "metadata": {
        "colab": {
          "base_uri": "https://localhost:8080/"
        },
        "id": "Gc2c3saLdHwS",
        "outputId": "90291ad2-766b-4d5b-a56f-c2e1e80a0226"
      },
      "source": [
        "agente = Agente()\n",
        "trayectoria = generar_trayectoria(juego, agente, epsilon=0.5)\n",
        "retorno = calcular_retorno_trayectoria(trayectoria, beta=1.0)\n",
        "print(\"Trayectoria: \", trayectoria)\n",
        "print(\"Retorno: \", retorno)"
      ],
      "execution_count": null,
      "outputs": [
        {
          "output_type": "stream",
          "text": [
            "Trayectoria:  [[(None, None, None), 1, 0.0, False], [(None, None, None), 1, 0.0, False], [(2, 9, 0), 0, -1.0, True]]\n",
            "Retorno:  -1.0\n"
          ],
          "name": "stdout"
        }
      ]
    },
    {
      "cell_type": "code",
      "metadata": {
        "id": "bzHjxjIWdHwT"
      },
      "source": [
        "def evaluar_agente(juego, agente, n_episodios, epsilon, beta,\n",
        "                   imprimir=False, ciclo=0):\n",
        "  retornos = []\n",
        "  for episodio in range(0, n_episodios):\n",
        "    # Generamos una trayectoria\n",
        "    trayectoria = generar_trayectoria(juego, agente, epsilon) # TODO\n",
        "\n",
        "    # Calculamos el retorno\n",
        "    retorno = calcular_retorno_trayectoria(trayectoria, beta) # TODO\n",
        "      \n",
        "    # Añadimos el retorno a una lista de retornos\n",
        "    retornos.append(retorno)\n",
        "  \n",
        "  # Calculamos el retorno promedio y su desviacion\n",
        "  retornos = np.array(retornos)\n",
        "  retorno_promedio = retornos.mean()\n",
        "  desviacion_retorno = retornos.std()\n",
        "\n",
        "  # Imprimimos el retorno si es necesario\n",
        "  if imprimir:\n",
        "    print(('Ciclo: ' + str(ciclo) + ', Retorno esperado: {:.3f}'.format(\n",
        "        retorno_promedio) + u\"\\u00B1\" + '{:.3f}'.format(desviacion_retorno)))\n",
        "  \n",
        "  return retorno_promedio, desviacion_retorno"
      ],
      "execution_count": null,
      "outputs": []
    },
    {
      "cell_type": "code",
      "metadata": {
        "colab": {
          "base_uri": "https://localhost:8080/"
        },
        "id": "qNjqFpk5dHwT",
        "outputId": "9c24649d-f766-45bf-aacc-b2a11bfe706c"
      },
      "source": [
        "agente = Agente()\n",
        "retorno_antes = evaluar_agente(juego, agente, n_episodios=10000, epsilon=1.0, beta=1.0)\n",
        "entrenar_agente_MonteCarlo(juego, agente, alpha=0.001, beta=1.0, epsilon=1.0, n_episodios=100000)\n",
        "retorno_despues = evaluar_agente(juego, agente, n_episodios=10000, epsilon=1.0, beta=1.0)\n",
        "print(\"Retorno antes de entrenar: \", retorno_antes)\n",
        "print(\"Retorno despues de entrenar: \", retorno_despues)"
      ],
      "execution_count": null,
      "outputs": [
        {
          "output_type": "stream",
          "text": [
            "Retorno antes de entrenar:  (-0.3794, 0.8993640197383926)\n",
            "Retorno despues de entrenar:  (-0.3849, 0.8981937374531176)\n"
          ],
          "name": "stdout"
        }
      ]
    },
    {
      "cell_type": "code",
      "metadata": {
        "id": "0GGRnmVldHwT"
      },
      "source": [
        "def entrenar_agente(juego, agente, alpha, beta, epsilon, decaimiento_epsilon, \n",
        "                    n_ciclos, n_episodios_ent, n_episodios_eval):\n",
        "  # Se crean listas de desempeño\n",
        "  retornos_media = []\n",
        "  retornos_desviacion = []\n",
        "\n",
        "  # Se ejecuta ciclo de entrenamiento y evaluacion una cantidad n_ciclos de veces\n",
        "  for ciclo in range(0, n_ciclos):\n",
        "    # Se entrena al agente\n",
        "    entrenar_agente_MonteCarlo(juego, agente, alpha, beta, epsilon, n_episodios_ent) # TODO\n",
        "\n",
        "    # Se evalua al agente\n",
        "    G_promedio, G_desviacion = evaluar_agente(juego, agente, n_episodios_eval, epsilon, beta, imprimir=(ciclo % imprimir_cada) == 0, ciclo=ciclo+1) # TODO\n",
        "                              \n",
        "    \n",
        "    # Guardamos el desempeño del agente\n",
        "    retornos_media.append(G_promedio)\n",
        "    retornos_desviacion.append(G_desviacion)\n",
        "\n",
        "    epsilon = max(min_epsilon, epsilon * decaimiento_epsilon)\n",
        "\n",
        "  return retornos_media, retornos_desviacion"
      ],
      "execution_count": null,
      "outputs": []
    },
    {
      "cell_type": "code",
      "metadata": {
        "id": "Fnve6VgmdHwU"
      },
      "source": [
        "# Se especifican hiperparametros\n",
        "N_episodios_ent = 10000\n",
        "N_episodios_eval = 10000\n",
        "N_ciclos = 200\n",
        "N_acciones = 2\n",
        "epsilon = 1.0\n",
        "min_epsilon = 0.01\n",
        "decaimiento_epsilon = 0.95\n",
        "beta = 1.0\n",
        "alpha = 0.001\n",
        "imprimir_cada = 20\n",
        "\n",
        "# Se crea el juego de BlackJack y un agente por cada metodo\n",
        "juego = AmbienteBJ(seed=semilla)\n",
        "agente = Agente()"
      ],
      "execution_count": null,
      "outputs": []
    },
    {
      "cell_type": "code",
      "metadata": {
        "colab": {
          "base_uri": "https://localhost:8080/"
        },
        "id": "MExzICiMdHwU",
        "outputId": "6337428d-6fcc-481f-9a22-5732c9cfad81"
      },
      "source": [
        "retornos_MonteCarlo2M = entrenar_agente(juego, agente, alpha, beta, epsilon, decaimiento_epsilon, \n",
        "                                      N_ciclos, N_episodios_ent, N_episodios_eval)"
      ],
      "execution_count": null,
      "outputs": [
        {
          "output_type": "stream",
          "text": [
            "Ciclo: 1, Retorno esperado: -0.391±0.895\n",
            "Ciclo: 21, Retorno esperado: -0.174±0.951\n",
            "Ciclo: 41, Retorno esperado: -0.073±0.958\n",
            "Ciclo: 61, Retorno esperado: -0.057±0.955\n",
            "Ciclo: 81, Retorno esperado: -0.046±0.951\n",
            "Ciclo: 101, Retorno esperado: -0.050±0.954\n",
            "Ciclo: 121, Retorno esperado: -0.040±0.954\n",
            "Ciclo: 141, Retorno esperado: -0.042±0.954\n",
            "Ciclo: 161, Retorno esperado: -0.054±0.954\n",
            "Ciclo: 181, Retorno esperado: -0.045±0.952\n"
          ],
          "name": "stdout"
        }
      ]
    },
    {
      "cell_type": "code",
      "metadata": {
        "colab": {
          "base_uri": "https://localhost:8080/",
          "height": 350
        },
        "id": "yDRPeC7NfAuH",
        "outputId": "47356b74-1927-4b58-bb3d-3bbebf1cce9c"
      },
      "source": [
        "fig, ax = plt.subplots(1,1, figsize=(8,5))\r\n",
        "plt.plot(np.array(retornos_MonteCarlo2M[0]), label='MonteCarlo_2_MM')\r\n",
        "plt.title('Curva de aprendizaje')\r\n",
        "plt.ylabel('Retorno promedio')\r\n",
        "plt.xlabel('Iteracion')\r\n",
        "plt.legend(fontsize=15)\r\n",
        "plt.show()\r\n",
        "plt.close()"
      ],
      "execution_count": null,
      "outputs": [
        {
          "output_type": "display_data",
          "data": {
            "image/png": "[encoded data removed]",
            "text/plain": [
              "<Figure size 576x360 with 1 Axes>"
            ]
          },
          "metadata": {
            "tags": []
          }
        }
      ]
    },
    {
      "cell_type": "code",
      "metadata": {
        "colab": {
          "base_uri": "https://localhost:8080/",
          "height": 350
        },
        "id": "_gy-nRAW2vqR",
        "outputId": "6558992e-1610-4b2a-e357-2d92b937b498"
      },
      "source": [
        "fig, ax = plt.subplots(1,1, figsize=(8,5))\r\n",
        "plt.plot(np.array(retornos_MonteCarlo[0]), label = 'Montecarlo_dim_200')\r\n",
        "plt.plot(np.array(retornos_MonteCarlo2000[0]), label = 'Montecarlo_dim_2000')\r\n",
        "plt.plot(np.array(retornos_MonteCarlo2M[0]), label = 'Montecarlo_dim_2_MM')\r\n",
        "plt.title('Curva de aprendizaje con montecarlos conglomerados')\r\n",
        "plt.ylabel('Retorno promedio')\r\n",
        "plt.xlabel('Iteracion')\r\n",
        "plt.legend(fontsize=15)\r\n",
        "plt.show()\r\n",
        "plt.close()"
      ],
      "execution_count": null,
      "outputs": [
        {
          "output_type": "display_data",
          "data": {
            "image/png": "[encoded data removed]",
            "text/plain": [
              "<Figure size 576x360 with 1 Axes>"
            ]
          },
          "metadata": {
            "tags": []
          }
        }
      ]
    },
    {
      "cell_type": "markdown",
      "metadata": {
        "id": "zooBAglgJ3jG"
      },
      "source": [
        "**En esta ocación, se implementaron dos versiones completas del modelo, uno con un ambiente de 2000 estados y otro con 2 millones de estados. Según la última gráfica que resume los retornos esperados, no habría una diferencia significativa de las tendencias esperadas de los retornos promedios al variar la cantidad de estados.**\r\n",
        "\r\n",
        "**Adicionalmente, de tratarse de que el espacio de los estados sea contínuo, es recomendable utilizar el algoritmo de Diferencia Temporal Q-Learning, debido a que en este algoritmo, el agente daría un paso sin tener que considerar cuál es la futura acción que haría, y al calcular el error de la diferencia temporal, se consideraría la posible mejor futura acción para así poder estimar la función de valor.**"
      ]
    },
    {
      "cell_type": "markdown",
      "metadata": {
        "id": "dmBlldGroE8E"
      },
      "source": [
        "##Punto 4"
      ]
    },
    {
      "cell_type": "markdown",
      "metadata": {
        "id": "eu2CSUaGpIAh"
      },
      "source": [
        "**Claro que sí es posible utilizar el método de programación dinámica para aproximar una solución al problema del juego de BlackJack para generar la maximización de la ganancia acumulada, inicialmente porque el juego se acomoda a la Propiedad de Markov, en cuanto a que las distribuciones de probabilidades de un estado futuro dependen de la acción que se tomaría en tiempo inmediatamente presente, dado un estado presente y no se tiene en cuenta el resultado del ambiente anterior. Adicionalmente, el juego cumple con la función de recurción, en donde la función de valor se da según la suma entre la recompensa actual y el valor esperado de la  misma función, dando cumplimiento también a la Ecuación de Bellman. De esta manera,  el problema se podría resolver por medio de la generación de matrices con valores arbitrarios entre estados y acciones, haciendo asignaciones de Bellman de manera reiterativa hasta conseguir la convergencia entre los valores de la función de valor dada una cierta política.**"
      ]
    }
  ]
}