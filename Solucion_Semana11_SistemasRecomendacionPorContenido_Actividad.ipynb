{
  "nbformat": 4,
  "nbformat_minor": 0,
  "metadata": {
    "coursera": {
      "course_slug": "neural-networks-deep-learning",
      "graded_item_id": "TSPse",
      "launcher_item_id": "24mxX"
    },
    "kernelspec": {
      "display_name": "Python 3",
      "language": "python",
      "name": "python3"
    },
    "language_info": {
      "codemirror_mode": {
        "name": "ipython",
        "version": 3
      },
      "file_extension": ".py",
      "mimetype": "text/x-python",
      "name": "python",
      "nbconvert_exporter": "python",
      "pygments_lexer": "ipython3",
      "version": "3.7.6"
    },
    "colab": {
      "name": "Solucion_Semana11_SistemasRecomendacionPorContenido_Actividad.ipynb",
      "provenance": [],
      "collapsed_sections": [],
      "include_colab_link": true
    }
  },
  "cells": [
    {
      "cell_type": "markdown",
      "metadata": {
        "id": "view-in-github",
        "colab_type": "text"
      },
      "source": [
        "<a href=\"https://colab.research.google.com/github/Alexher90/An-lisis-de-Datos-2/blob/master/Solucion_Semana11_SistemasRecomendacionPorContenido_Actividad.ipynb\" target=\"_parent\"><img src=\"https://colab.research.google.com/assets/colab-badge.svg\" alt=\"Open In Colab\"/></a>"
      ]
    },
    {
      "cell_type": "markdown",
      "metadata": {
        "id": "ULRi6r0ivPt-"
      },
      "source": [
        "## MIIA-4203 MODELOS AVANZADOS PARA ANÁLISIS DE DATOS II\n",
        "\n",
        "\n",
        "# Sistemas de Recomendación basados en contenido\n",
        "\n",
        "## Actividad 11\n",
        "\n",
        "\n",
        "### Profesor: Camilo Franco (c.franco31@uniandes.edu.co)\n",
        "\n",
        "En este cuadernos estudiaremos los sistemas de recomendacion basados en contenido. Seguiremos trabajando con  la base de datos de películas de IMDB (https://www.imdb.com/) \n",
        "\n"
      ]
    },
    {
      "cell_type": "markdown",
      "metadata": {
        "id": "C2gUpkaJvSop"
      },
      "source": [
        "**Presentado por:**\n",
        "\n",
        "**Alexander Hernández Páez: 200920588**\n",
        "\n",
        "**Juan David Cortés: 201728568**\n",
        "\n",
        "**Wilson Felipe González: 200924943**\n",
        "\n",
        "**Alexander Camargo: 200911325**"
      ]
    },
    {
      "cell_type": "markdown",
      "metadata": {
        "id": "w0UKouI7vPuA"
      },
      "source": [
        "## Introducción\n",
        "\n",
        "Los recomendadores basados en contenido se construyen a partir de la identificación de ítems que el usuario prefiere, y la búsqueda de ítems similares en función de determinados atributos, como por ejemplo el género, la sinopsis o el reparto (actores, etc). De esta manera, si el usuario tiene unas preferencias específicas sobre un ítem específico, también podría tener preferencia por un ítem *similar*.\n",
        "\n",
        "Primero carguemos los datos con los que vamos a trabajar:\n"
      ]
    },
    {
      "cell_type": "code",
      "metadata": {
        "id": "HvM4IHAuvPuB",
        "outputId": "14bc48ed-ff61-4a0f-a359-069c5edb7294",
        "colab": {
          "base_uri": "https://localhost:8080/"
        }
      },
      "source": [
        "# Importamos la biblioteca Pandas\n",
        "import pandas as pd\n",
        "\n",
        "# Cargamos los datos de peliculas de la base de datos IMDB\n",
        "metadata = pd.read_csv('movies_metadata.csv', low_memory=False)\n",
        "\n",
        "print(metadata.shape)\n",
        "      \n",
        "list(metadata)\n",
        "#metadata.shape"
      ],
      "execution_count": null,
      "outputs": [
        {
          "output_type": "stream",
          "text": [
            "(45466, 24)\n"
          ],
          "name": "stdout"
        },
        {
          "output_type": "execute_result",
          "data": {
            "text/plain": [
              "['adult',\n",
              " 'belongs_to_collection',\n",
              " 'budget',\n",
              " 'genres',\n",
              " 'homepage',\n",
              " 'id',\n",
              " 'imdb_id',\n",
              " 'original_language',\n",
              " 'original_title',\n",
              " 'overview',\n",
              " 'popularity',\n",
              " 'poster_path',\n",
              " 'production_companies',\n",
              " 'production_countries',\n",
              " 'release_date',\n",
              " 'revenue',\n",
              " 'runtime',\n",
              " 'spoken_languages',\n",
              " 'status',\n",
              " 'tagline',\n",
              " 'title',\n",
              " 'video',\n",
              " 'vote_average',\n",
              " 'vote_count']"
            ]
          },
          "metadata": {
            "tags": []
          },
          "execution_count": 9
        }
      ]
    },
    {
      "cell_type": "code",
      "metadata": {
        "id": "bhuqHUKzvPuJ",
        "outputId": "39cc0de0-139f-4d9b-db6d-aebf9b58d8fb",
        "colab": {
          "base_uri": "https://localhost:8080/",
          "height": 425
        }
      },
      "source": [
        "# Así se ven los datos\n",
        "metadata.head(3)"
      ],
      "execution_count": null,
      "outputs": [
        {
          "output_type": "execute_result",
          "data": {
            "text/html": [
              "<div>\n",
              "<style scoped>\n",
              "    .dataframe tbody tr th:only-of-type {\n",
              "        vertical-align: middle;\n",
              "    }\n",
              "\n",
              "    .dataframe tbody tr th {\n",
              "        vertical-align: top;\n",
              "    }\n",
              "\n",
              "    .dataframe thead th {\n",
              "        text-align: right;\n",
              "    }\n",
              "</style>\n",
              "<table border=\"1\" class=\"dataframe\">\n",
              "  <thead>\n",
              "    <tr style=\"text-align: right;\">\n",
              "      <th></th>\n",
              "      <th>adult</th>\n",
              "      <th>belongs_to_collection</th>\n",
              "      <th>budget</th>\n",
              "      <th>genres</th>\n",
              "      <th>homepage</th>\n",
              "      <th>id</th>\n",
              "      <th>imdb_id</th>\n",
              "      <th>original_language</th>\n",
              "      <th>original_title</th>\n",
              "      <th>overview</th>\n",
              "      <th>popularity</th>\n",
              "      <th>poster_path</th>\n",
              "      <th>production_companies</th>\n",
              "      <th>production_countries</th>\n",
              "      <th>release_date</th>\n",
              "      <th>revenue</th>\n",
              "      <th>runtime</th>\n",
              "      <th>spoken_languages</th>\n",
              "      <th>status</th>\n",
              "      <th>tagline</th>\n",
              "      <th>title</th>\n",
              "      <th>video</th>\n",
              "      <th>vote_average</th>\n",
              "      <th>vote_count</th>\n",
              "    </tr>\n",
              "  </thead>\n",
              "  <tbody>\n",
              "    <tr>\n",
              "      <th>0</th>\n",
              "      <td>False</td>\n",
              "      <td>{'id': 10194, 'name': 'Toy Story Collection', ...</td>\n",
              "      <td>30000000</td>\n",
              "      <td>[{'id': 16, 'name': 'Animation'}, {'id': 35, '...</td>\n",
              "      <td>http://toystory.disney.com/toy-story</td>\n",
              "      <td>862</td>\n",
              "      <td>tt0114709</td>\n",
              "      <td>en</td>\n",
              "      <td>Toy Story</td>\n",
              "      <td>Led by Woody, Andy's toys live happily in his ...</td>\n",
              "      <td>21.946943</td>\n",
              "      <td>/rhIRbceoE9lR4veEXuwCC2wARtG.jpg</td>\n",
              "      <td>[{'name': 'Pixar Animation Studios', 'id': 3}]</td>\n",
              "      <td>[{'iso_3166_1': 'US', 'name': 'United States o...</td>\n",
              "      <td>1995-10-30</td>\n",
              "      <td>373554033.0</td>\n",
              "      <td>81.0</td>\n",
              "      <td>[{'iso_639_1': 'en', 'name': 'English'}]</td>\n",
              "      <td>Released</td>\n",
              "      <td>NaN</td>\n",
              "      <td>Toy Story</td>\n",
              "      <td>False</td>\n",
              "      <td>7.7</td>\n",
              "      <td>5415.0</td>\n",
              "    </tr>\n",
              "    <tr>\n",
              "      <th>1</th>\n",
              "      <td>False</td>\n",
              "      <td>NaN</td>\n",
              "      <td>65000000</td>\n",
              "      <td>[{'id': 12, 'name': 'Adventure'}, {'id': 14, '...</td>\n",
              "      <td>NaN</td>\n",
              "      <td>8844</td>\n",
              "      <td>tt0113497</td>\n",
              "      <td>en</td>\n",
              "      <td>Jumanji</td>\n",
              "      <td>When siblings Judy and Peter discover an encha...</td>\n",
              "      <td>17.015539</td>\n",
              "      <td>/vzmL6fP7aPKNKPRTFnZmiUfciyV.jpg</td>\n",
              "      <td>[{'name': 'TriStar Pictures', 'id': 559}, {'na...</td>\n",
              "      <td>[{'iso_3166_1': 'US', 'name': 'United States o...</td>\n",
              "      <td>1995-12-15</td>\n",
              "      <td>262797249.0</td>\n",
              "      <td>104.0</td>\n",
              "      <td>[{'iso_639_1': 'en', 'name': 'English'}, {'iso...</td>\n",
              "      <td>Released</td>\n",
              "      <td>Roll the dice and unleash the excitement!</td>\n",
              "      <td>Jumanji</td>\n",
              "      <td>False</td>\n",
              "      <td>6.9</td>\n",
              "      <td>2413.0</td>\n",
              "    </tr>\n",
              "    <tr>\n",
              "      <th>2</th>\n",
              "      <td>False</td>\n",
              "      <td>{'id': 119050, 'name': 'Grumpy Old Men Collect...</td>\n",
              "      <td>0</td>\n",
              "      <td>[{'id': 10749, 'name': 'Romance'}, {'id': 35, ...</td>\n",
              "      <td>NaN</td>\n",
              "      <td>15602</td>\n",
              "      <td>tt0113228</td>\n",
              "      <td>en</td>\n",
              "      <td>Grumpier Old Men</td>\n",
              "      <td>A family wedding reignites the ancient feud be...</td>\n",
              "      <td>11.7129</td>\n",
              "      <td>/6ksm1sjKMFLbO7UY2i6G1ju9SML.jpg</td>\n",
              "      <td>[{'name': 'Warner Bros.', 'id': 6194}, {'name'...</td>\n",
              "      <td>[{'iso_3166_1': 'US', 'name': 'United States o...</td>\n",
              "      <td>1995-12-22</td>\n",
              "      <td>0.0</td>\n",
              "      <td>101.0</td>\n",
              "      <td>[{'iso_639_1': 'en', 'name': 'English'}]</td>\n",
              "      <td>Released</td>\n",
              "      <td>Still Yelling. Still Fighting. Still Ready for...</td>\n",
              "      <td>Grumpier Old Men</td>\n",
              "      <td>False</td>\n",
              "      <td>6.5</td>\n",
              "      <td>92.0</td>\n",
              "    </tr>\n",
              "  </tbody>\n",
              "</table>\n",
              "</div>"
            ],
            "text/plain": [
              "   adult  ... vote_count\n",
              "0  False  ...     5415.0\n",
              "1  False  ...     2413.0\n",
              "2  False  ...       92.0\n",
              "\n",
              "[3 rows x 24 columns]"
            ]
          },
          "metadata": {
            "tags": []
          },
          "execution_count": 10
        }
      ]
    },
    {
      "cell_type": "markdown",
      "metadata": {
        "id": "TzPTntKmvPuP"
      },
      "source": [
        "## 2 .Recomendación de peliculas mas populares por genero\n",
        "\n",
        "Ahora recordemos la recomendación de películas por género de acuerdo con su popularidad, donde calculamos el voto promedio ponderado $\\mu_i$, de la $i$-ésima película como:\n",
        "\n",
        "$$\n",
        "\\mu_i  = \\left( \\frac{v_i}{v_{max}} \\right) R_i \n",
        "$$\n",
        "\n",
        "donde $v_i$ es el número de votos para la $i$-ésima película, $v_{max}$ es el máximo número de votos que recibe la película más popular, y $R$ es el rating promedio de la pelicula.\n"
      ]
    },
    {
      "cell_type": "code",
      "metadata": {
        "id": "aIjiTWw5vPuQ",
        "outputId": "48789262-954e-4037-a052-406b6743b248",
        "colab": {
          "base_uri": "https://localhost:8080/",
          "height": 425
        }
      },
      "source": [
        "import numpy as np\n",
        "from ast import literal_eval\n",
        "\n",
        "# trabajamos la informacion por generos\n",
        "metadata['genres'] = metadata['genres'].fillna('[]').apply(literal_eval).apply(lambda x: [i['name'] for i in x] if isinstance(x, list) else [])\n",
        "\n",
        "# añadimos la variable del año\n",
        "metadata['year'] = pd.to_datetime(metadata['release_date'], errors='coerce').apply(lambda x: str(x).split('-')[0] if x != np.nan else np.nan)\n",
        "\n",
        "metadata.head(3)"
      ],
      "execution_count": null,
      "outputs": [
        {
          "output_type": "execute_result",
          "data": {
            "text/html": [
              "<div>\n",
              "<style scoped>\n",
              "    .dataframe tbody tr th:only-of-type {\n",
              "        vertical-align: middle;\n",
              "    }\n",
              "\n",
              "    .dataframe tbody tr th {\n",
              "        vertical-align: top;\n",
              "    }\n",
              "\n",
              "    .dataframe thead th {\n",
              "        text-align: right;\n",
              "    }\n",
              "</style>\n",
              "<table border=\"1\" class=\"dataframe\">\n",
              "  <thead>\n",
              "    <tr style=\"text-align: right;\">\n",
              "      <th></th>\n",
              "      <th>adult</th>\n",
              "      <th>belongs_to_collection</th>\n",
              "      <th>budget</th>\n",
              "      <th>genres</th>\n",
              "      <th>homepage</th>\n",
              "      <th>id</th>\n",
              "      <th>imdb_id</th>\n",
              "      <th>original_language</th>\n",
              "      <th>original_title</th>\n",
              "      <th>overview</th>\n",
              "      <th>popularity</th>\n",
              "      <th>poster_path</th>\n",
              "      <th>production_companies</th>\n",
              "      <th>production_countries</th>\n",
              "      <th>release_date</th>\n",
              "      <th>revenue</th>\n",
              "      <th>runtime</th>\n",
              "      <th>spoken_languages</th>\n",
              "      <th>status</th>\n",
              "      <th>tagline</th>\n",
              "      <th>title</th>\n",
              "      <th>video</th>\n",
              "      <th>vote_average</th>\n",
              "      <th>vote_count</th>\n",
              "      <th>year</th>\n",
              "    </tr>\n",
              "  </thead>\n",
              "  <tbody>\n",
              "    <tr>\n",
              "      <th>0</th>\n",
              "      <td>False</td>\n",
              "      <td>{'id': 10194, 'name': 'Toy Story Collection', ...</td>\n",
              "      <td>30000000</td>\n",
              "      <td>[Animation, Comedy, Family]</td>\n",
              "      <td>http://toystory.disney.com/toy-story</td>\n",
              "      <td>862</td>\n",
              "      <td>tt0114709</td>\n",
              "      <td>en</td>\n",
              "      <td>Toy Story</td>\n",
              "      <td>Led by Woody, Andy's toys live happily in his ...</td>\n",
              "      <td>21.946943</td>\n",
              "      <td>/rhIRbceoE9lR4veEXuwCC2wARtG.jpg</td>\n",
              "      <td>[{'name': 'Pixar Animation Studios', 'id': 3}]</td>\n",
              "      <td>[{'iso_3166_1': 'US', 'name': 'United States o...</td>\n",
              "      <td>1995-10-30</td>\n",
              "      <td>373554033.0</td>\n",
              "      <td>81.0</td>\n",
              "      <td>[{'iso_639_1': 'en', 'name': 'English'}]</td>\n",
              "      <td>Released</td>\n",
              "      <td>NaN</td>\n",
              "      <td>Toy Story</td>\n",
              "      <td>False</td>\n",
              "      <td>7.7</td>\n",
              "      <td>5415.0</td>\n",
              "      <td>1995</td>\n",
              "    </tr>\n",
              "    <tr>\n",
              "      <th>1</th>\n",
              "      <td>False</td>\n",
              "      <td>NaN</td>\n",
              "      <td>65000000</td>\n",
              "      <td>[Adventure, Fantasy, Family]</td>\n",
              "      <td>NaN</td>\n",
              "      <td>8844</td>\n",
              "      <td>tt0113497</td>\n",
              "      <td>en</td>\n",
              "      <td>Jumanji</td>\n",
              "      <td>When siblings Judy and Peter discover an encha...</td>\n",
              "      <td>17.015539</td>\n",
              "      <td>/vzmL6fP7aPKNKPRTFnZmiUfciyV.jpg</td>\n",
              "      <td>[{'name': 'TriStar Pictures', 'id': 559}, {'na...</td>\n",
              "      <td>[{'iso_3166_1': 'US', 'name': 'United States o...</td>\n",
              "      <td>1995-12-15</td>\n",
              "      <td>262797249.0</td>\n",
              "      <td>104.0</td>\n",
              "      <td>[{'iso_639_1': 'en', 'name': 'English'}, {'iso...</td>\n",
              "      <td>Released</td>\n",
              "      <td>Roll the dice and unleash the excitement!</td>\n",
              "      <td>Jumanji</td>\n",
              "      <td>False</td>\n",
              "      <td>6.9</td>\n",
              "      <td>2413.0</td>\n",
              "      <td>1995</td>\n",
              "    </tr>\n",
              "    <tr>\n",
              "      <th>2</th>\n",
              "      <td>False</td>\n",
              "      <td>{'id': 119050, 'name': 'Grumpy Old Men Collect...</td>\n",
              "      <td>0</td>\n",
              "      <td>[Romance, Comedy]</td>\n",
              "      <td>NaN</td>\n",
              "      <td>15602</td>\n",
              "      <td>tt0113228</td>\n",
              "      <td>en</td>\n",
              "      <td>Grumpier Old Men</td>\n",
              "      <td>A family wedding reignites the ancient feud be...</td>\n",
              "      <td>11.7129</td>\n",
              "      <td>/6ksm1sjKMFLbO7UY2i6G1ju9SML.jpg</td>\n",
              "      <td>[{'name': 'Warner Bros.', 'id': 6194}, {'name'...</td>\n",
              "      <td>[{'iso_3166_1': 'US', 'name': 'United States o...</td>\n",
              "      <td>1995-12-22</td>\n",
              "      <td>0.0</td>\n",
              "      <td>101.0</td>\n",
              "      <td>[{'iso_639_1': 'en', 'name': 'English'}]</td>\n",
              "      <td>Released</td>\n",
              "      <td>Still Yelling. Still Fighting. Still Ready for...</td>\n",
              "      <td>Grumpier Old Men</td>\n",
              "      <td>False</td>\n",
              "      <td>6.5</td>\n",
              "      <td>92.0</td>\n",
              "      <td>1995</td>\n",
              "    </tr>\n",
              "  </tbody>\n",
              "</table>\n",
              "</div>"
            ],
            "text/plain": [
              "   adult                              belongs_to_collection  ... vote_count  year\n",
              "0  False  {'id': 10194, 'name': 'Toy Story Collection', ...  ...     5415.0  1995\n",
              "1  False                                                NaN  ...     2413.0  1995\n",
              "2  False  {'id': 119050, 'name': 'Grumpy Old Men Collect...  ...       92.0  1995\n",
              "\n",
              "[3 rows x 25 columns]"
            ]
          },
          "metadata": {
            "tags": []
          },
          "execution_count": 11
        }
      ]
    },
    {
      "cell_type": "markdown",
      "metadata": {
        "id": "hwTDvhTivPuW"
      },
      "source": [
        "Primero nos quedamos con todos los generos:"
      ]
    },
    {
      "cell_type": "code",
      "metadata": {
        "id": "pm_G4LkovPuX",
        "outputId": "b6c54c42-3e2e-4411-8533-af8ea24feeee",
        "colab": {
          "base_uri": "https://localhost:8080/",
          "height": 442
        }
      },
      "source": [
        "generos = metadata.apply(lambda x: pd.Series(x['genres']),axis=1).stack().reset_index(level=1, drop=True)\n",
        "generos.name = 'genre'\n",
        "gen_md = metadata.drop('genres', axis=1).join(generos)\n",
        "\n",
        "gen_md.head(3)"
      ],
      "execution_count": null,
      "outputs": [
        {
          "output_type": "stream",
          "text": [
            "/usr/local/lib/python3.6/dist-packages/ipykernel_launcher.py:1: DeprecationWarning: The default dtype for empty Series will be 'object' instead of 'float64' in a future version. Specify a dtype explicitly to silence this warning.\n",
            "  \"\"\"Entry point for launching an IPython kernel.\n"
          ],
          "name": "stderr"
        },
        {
          "output_type": "execute_result",
          "data": {
            "text/html": [
              "<div>\n",
              "<style scoped>\n",
              "    .dataframe tbody tr th:only-of-type {\n",
              "        vertical-align: middle;\n",
              "    }\n",
              "\n",
              "    .dataframe tbody tr th {\n",
              "        vertical-align: top;\n",
              "    }\n",
              "\n",
              "    .dataframe thead th {\n",
              "        text-align: right;\n",
              "    }\n",
              "</style>\n",
              "<table border=\"1\" class=\"dataframe\">\n",
              "  <thead>\n",
              "    <tr style=\"text-align: right;\">\n",
              "      <th></th>\n",
              "      <th>adult</th>\n",
              "      <th>belongs_to_collection</th>\n",
              "      <th>budget</th>\n",
              "      <th>homepage</th>\n",
              "      <th>id</th>\n",
              "      <th>imdb_id</th>\n",
              "      <th>original_language</th>\n",
              "      <th>original_title</th>\n",
              "      <th>overview</th>\n",
              "      <th>popularity</th>\n",
              "      <th>poster_path</th>\n",
              "      <th>production_companies</th>\n",
              "      <th>production_countries</th>\n",
              "      <th>release_date</th>\n",
              "      <th>revenue</th>\n",
              "      <th>runtime</th>\n",
              "      <th>spoken_languages</th>\n",
              "      <th>status</th>\n",
              "      <th>tagline</th>\n",
              "      <th>title</th>\n",
              "      <th>video</th>\n",
              "      <th>vote_average</th>\n",
              "      <th>vote_count</th>\n",
              "      <th>year</th>\n",
              "      <th>genre</th>\n",
              "    </tr>\n",
              "  </thead>\n",
              "  <tbody>\n",
              "    <tr>\n",
              "      <th>0</th>\n",
              "      <td>False</td>\n",
              "      <td>{'id': 10194, 'name': 'Toy Story Collection', ...</td>\n",
              "      <td>30000000</td>\n",
              "      <td>http://toystory.disney.com/toy-story</td>\n",
              "      <td>862</td>\n",
              "      <td>tt0114709</td>\n",
              "      <td>en</td>\n",
              "      <td>Toy Story</td>\n",
              "      <td>Led by Woody, Andy's toys live happily in his ...</td>\n",
              "      <td>21.946943</td>\n",
              "      <td>/rhIRbceoE9lR4veEXuwCC2wARtG.jpg</td>\n",
              "      <td>[{'name': 'Pixar Animation Studios', 'id': 3}]</td>\n",
              "      <td>[{'iso_3166_1': 'US', 'name': 'United States o...</td>\n",
              "      <td>1995-10-30</td>\n",
              "      <td>373554033.0</td>\n",
              "      <td>81.0</td>\n",
              "      <td>[{'iso_639_1': 'en', 'name': 'English'}]</td>\n",
              "      <td>Released</td>\n",
              "      <td>NaN</td>\n",
              "      <td>Toy Story</td>\n",
              "      <td>False</td>\n",
              "      <td>7.7</td>\n",
              "      <td>5415.0</td>\n",
              "      <td>1995</td>\n",
              "      <td>Animation</td>\n",
              "    </tr>\n",
              "    <tr>\n",
              "      <th>0</th>\n",
              "      <td>False</td>\n",
              "      <td>{'id': 10194, 'name': 'Toy Story Collection', ...</td>\n",
              "      <td>30000000</td>\n",
              "      <td>http://toystory.disney.com/toy-story</td>\n",
              "      <td>862</td>\n",
              "      <td>tt0114709</td>\n",
              "      <td>en</td>\n",
              "      <td>Toy Story</td>\n",
              "      <td>Led by Woody, Andy's toys live happily in his ...</td>\n",
              "      <td>21.946943</td>\n",
              "      <td>/rhIRbceoE9lR4veEXuwCC2wARtG.jpg</td>\n",
              "      <td>[{'name': 'Pixar Animation Studios', 'id': 3}]</td>\n",
              "      <td>[{'iso_3166_1': 'US', 'name': 'United States o...</td>\n",
              "      <td>1995-10-30</td>\n",
              "      <td>373554033.0</td>\n",
              "      <td>81.0</td>\n",
              "      <td>[{'iso_639_1': 'en', 'name': 'English'}]</td>\n",
              "      <td>Released</td>\n",
              "      <td>NaN</td>\n",
              "      <td>Toy Story</td>\n",
              "      <td>False</td>\n",
              "      <td>7.7</td>\n",
              "      <td>5415.0</td>\n",
              "      <td>1995</td>\n",
              "      <td>Comedy</td>\n",
              "    </tr>\n",
              "    <tr>\n",
              "      <th>0</th>\n",
              "      <td>False</td>\n",
              "      <td>{'id': 10194, 'name': 'Toy Story Collection', ...</td>\n",
              "      <td>30000000</td>\n",
              "      <td>http://toystory.disney.com/toy-story</td>\n",
              "      <td>862</td>\n",
              "      <td>tt0114709</td>\n",
              "      <td>en</td>\n",
              "      <td>Toy Story</td>\n",
              "      <td>Led by Woody, Andy's toys live happily in his ...</td>\n",
              "      <td>21.946943</td>\n",
              "      <td>/rhIRbceoE9lR4veEXuwCC2wARtG.jpg</td>\n",
              "      <td>[{'name': 'Pixar Animation Studios', 'id': 3}]</td>\n",
              "      <td>[{'iso_3166_1': 'US', 'name': 'United States o...</td>\n",
              "      <td>1995-10-30</td>\n",
              "      <td>373554033.0</td>\n",
              "      <td>81.0</td>\n",
              "      <td>[{'iso_639_1': 'en', 'name': 'English'}]</td>\n",
              "      <td>Released</td>\n",
              "      <td>NaN</td>\n",
              "      <td>Toy Story</td>\n",
              "      <td>False</td>\n",
              "      <td>7.7</td>\n",
              "      <td>5415.0</td>\n",
              "      <td>1995</td>\n",
              "      <td>Family</td>\n",
              "    </tr>\n",
              "  </tbody>\n",
              "</table>\n",
              "</div>"
            ],
            "text/plain": [
              "   adult                              belongs_to_collection  ...  year      genre\n",
              "0  False  {'id': 10194, 'name': 'Toy Story Collection', ...  ...  1995  Animation\n",
              "0  False  {'id': 10194, 'name': 'Toy Story Collection', ...  ...  1995     Comedy\n",
              "0  False  {'id': 10194, 'name': 'Toy Story Collection', ...  ...  1995     Family\n",
              "\n",
              "[3 rows x 25 columns]"
            ]
          },
          "metadata": {
            "tags": []
          },
          "execution_count": 12
        }
      ]
    },
    {
      "cell_type": "markdown",
      "metadata": {
        "id": "SBDc4iBIvPub"
      },
      "source": [
        "Construimos una funcion para un género particular y que tome en cuenta peliculas con un número vmin de votos:"
      ]
    },
    {
      "cell_type": "code",
      "metadata": {
        "id": "w19nDiRKvPuc"
      },
      "source": [
        "def rec_gen(genero, vmin):\n",
        "    df = gen_md[gen_md['genre'] == genero]\n",
        "    v = df[df['vote_count'].notnull()]['vote_count'].astype('int')\n",
        "    R = df[df['vote_average'].notnull()]['vote_average'].astype('int')\n",
        "    m = df['vote_average'].max()\n",
        "    \n",
        "    pelisG = df[(df['vote_count'] >= vmin) & (df['vote_count'].notnull()) & (df['vote_average'].notnull())][['title', 'year', 'vote_count', 'vote_average', 'popularity', 'overview', 'homepage']]\n",
        "    pelisG['vote_count'] = pelisG['vote_count'].astype('int')\n",
        "    pelisG['vote_average'] = pelisG['vote_average'].astype('int')\n",
        "    \n",
        "    pelisG['wr'] = v/m * R\n",
        "    pelisG = pelisG.sort_values('wr', ascending=False).head(250)\n",
        "    \n",
        "    return pelisG\n",
        "\n"
      ],
      "execution_count": null,
      "outputs": []
    },
    {
      "cell_type": "markdown",
      "metadata": {
        "id": "OtfH_tAXvPug"
      },
      "source": [
        "Veamos el Top-15 de recomendaciones en Ciencia Ficción:"
      ]
    },
    {
      "cell_type": "code",
      "metadata": {
        "id": "XPD09qF7vPug",
        "outputId": "6cc23644-152d-4cff-bce1-d7155ae12515",
        "colab": {
          "base_uri": "https://localhost:8080/",
          "height": 743
        }
      },
      "source": [
        "k = 15\n",
        "scifi = rec_gen('Science Fiction', 1000)\n",
        "scifi.head(15)"
      ],
      "execution_count": null,
      "outputs": [
        {
          "output_type": "execute_result",
          "data": {
            "text/html": [
              "<div>\n",
              "<style scoped>\n",
              "    .dataframe tbody tr th:only-of-type {\n",
              "        vertical-align: middle;\n",
              "    }\n",
              "\n",
              "    .dataframe tbody tr th {\n",
              "        vertical-align: top;\n",
              "    }\n",
              "\n",
              "    .dataframe thead th {\n",
              "        text-align: right;\n",
              "    }\n",
              "</style>\n",
              "<table border=\"1\" class=\"dataframe\">\n",
              "  <thead>\n",
              "    <tr style=\"text-align: right;\">\n",
              "      <th></th>\n",
              "      <th>title</th>\n",
              "      <th>year</th>\n",
              "      <th>vote_count</th>\n",
              "      <th>vote_average</th>\n",
              "      <th>popularity</th>\n",
              "      <th>overview</th>\n",
              "      <th>homepage</th>\n",
              "      <th>wr</th>\n",
              "    </tr>\n",
              "  </thead>\n",
              "  <tbody>\n",
              "    <tr>\n",
              "      <th>15480</th>\n",
              "      <td>Inception</td>\n",
              "      <td>2010</td>\n",
              "      <td>14075</td>\n",
              "      <td>8</td>\n",
              "      <td>29.108149</td>\n",
              "      <td>Cobb, a skilled thief who commits corporate es...</td>\n",
              "      <td>http://inceptionmovie.warnerbros.com/</td>\n",
              "      <td>11260.0</td>\n",
              "    </tr>\n",
              "    <tr>\n",
              "      <th>22879</th>\n",
              "      <td>Interstellar</td>\n",
              "      <td>2014</td>\n",
              "      <td>11187</td>\n",
              "      <td>8</td>\n",
              "      <td>32.213481</td>\n",
              "      <td>Interstellar chronicles the adventures of a gr...</td>\n",
              "      <td>http://www.interstellarmovie.net/</td>\n",
              "      <td>8949.6</td>\n",
              "    </tr>\n",
              "    <tr>\n",
              "      <th>14551</th>\n",
              "      <td>Avatar</td>\n",
              "      <td>2009</td>\n",
              "      <td>12114</td>\n",
              "      <td>7</td>\n",
              "      <td>185.070892</td>\n",
              "      <td>In the 22nd century, a paraplegic Marine is di...</td>\n",
              "      <td>http://www.avatarmovie.com/</td>\n",
              "      <td>8479.8</td>\n",
              "    </tr>\n",
              "    <tr>\n",
              "      <th>17818</th>\n",
              "      <td>The Avengers</td>\n",
              "      <td>2012</td>\n",
              "      <td>12000</td>\n",
              "      <td>7</td>\n",
              "      <td>89.887648</td>\n",
              "      <td>When an unexpected enemy emerges and threatens...</td>\n",
              "      <td>http://marvel.com/avengers_movie/</td>\n",
              "      <td>8400.0</td>\n",
              "    </tr>\n",
              "    <tr>\n",
              "      <th>23753</th>\n",
              "      <td>Guardians of the Galaxy</td>\n",
              "      <td>2014</td>\n",
              "      <td>10014</td>\n",
              "      <td>7</td>\n",
              "      <td>53.291601</td>\n",
              "      <td>Light years from Earth, 26 years after being a...</td>\n",
              "      <td>http://marvel.com/guardians</td>\n",
              "      <td>7009.8</td>\n",
              "    </tr>\n",
              "    <tr>\n",
              "      <th>26553</th>\n",
              "      <td>Mad Max: Fury Road</td>\n",
              "      <td>2015</td>\n",
              "      <td>9629</td>\n",
              "      <td>7</td>\n",
              "      <td>29.36178</td>\n",
              "      <td>An apocalyptic story set in the furthest reach...</td>\n",
              "      <td>http://www.madmaxmovie.com/</td>\n",
              "      <td>6740.3</td>\n",
              "    </tr>\n",
              "    <tr>\n",
              "      <th>2458</th>\n",
              "      <td>The Matrix</td>\n",
              "      <td>1999</td>\n",
              "      <td>9079</td>\n",
              "      <td>7</td>\n",
              "      <td>33.366332</td>\n",
              "      <td>Set in the 22nd century, The Matrix tells the ...</td>\n",
              "      <td>http://www.warnerbros.com/matrix</td>\n",
              "      <td>6355.3</td>\n",
              "    </tr>\n",
              "    <tr>\n",
              "      <th>12588</th>\n",
              "      <td>Iron Man</td>\n",
              "      <td>2008</td>\n",
              "      <td>8951</td>\n",
              "      <td>7</td>\n",
              "      <td>22.073099</td>\n",
              "      <td>After being held captive in an Afghan cave, bi...</td>\n",
              "      <td>http://www.ironmanmovie.com/</td>\n",
              "      <td>6265.7</td>\n",
              "    </tr>\n",
              "    <tr>\n",
              "      <th>18244</th>\n",
              "      <td>The Hunger Games</td>\n",
              "      <td>2012</td>\n",
              "      <td>9634</td>\n",
              "      <td>6</td>\n",
              "      <td>20.031667</td>\n",
              "      <td>Every year in the ruins of what was once North...</td>\n",
              "      <td>http://www.thehungergames.movie/</td>\n",
              "      <td>5780.4</td>\n",
              "    </tr>\n",
              "    <tr>\n",
              "      <th>26555</th>\n",
              "      <td>Star Wars: The Force Awakens</td>\n",
              "      <td>2015</td>\n",
              "      <td>7993</td>\n",
              "      <td>7</td>\n",
              "      <td>31.626013</td>\n",
              "      <td>Thirty years after defeating the Galactic Empi...</td>\n",
              "      <td>http://www.starwars.com/films/star-wars-episod...</td>\n",
              "      <td>5595.1</td>\n",
              "    </tr>\n",
              "    <tr>\n",
              "      <th>256</th>\n",
              "      <td>Star Wars</td>\n",
              "      <td>1977</td>\n",
              "      <td>6778</td>\n",
              "      <td>8</td>\n",
              "      <td>42.149697</td>\n",
              "      <td>Princess Leia is captured and held hostage by ...</td>\n",
              "      <td>http://www.starwars.com/films/star-wars-episod...</td>\n",
              "      <td>5422.4</td>\n",
              "    </tr>\n",
              "    <tr>\n",
              "      <th>20830</th>\n",
              "      <td>Iron Man 3</td>\n",
              "      <td>2013</td>\n",
              "      <td>8951</td>\n",
              "      <td>6</td>\n",
              "      <td>23.721243</td>\n",
              "      <td>When Tony Stark's world is torn apart by a for...</td>\n",
              "      <td>http://marvel.com/ironman3</td>\n",
              "      <td>5370.6</td>\n",
              "    </tr>\n",
              "    <tr>\n",
              "      <th>25084</th>\n",
              "      <td>Jurassic World</td>\n",
              "      <td>2015</td>\n",
              "      <td>8842</td>\n",
              "      <td>6</td>\n",
              "      <td>32.790475</td>\n",
              "      <td>Twenty-two years after the events of Jurassic ...</td>\n",
              "      <td>http://www.jurassicworld.com/</td>\n",
              "      <td>5305.2</td>\n",
              "    </tr>\n",
              "    <tr>\n",
              "      <th>26567</th>\n",
              "      <td>Captain America: Civil War</td>\n",
              "      <td>2016</td>\n",
              "      <td>7462</td>\n",
              "      <td>7</td>\n",
              "      <td>145.882135</td>\n",
              "      <td>Following the events of Age of Ultron, the col...</td>\n",
              "      <td>http://marvel.com/captainamericapremiere</td>\n",
              "      <td>5223.4</td>\n",
              "    </tr>\n",
              "    <tr>\n",
              "      <th>30051</th>\n",
              "      <td>The Martian</td>\n",
              "      <td>2015</td>\n",
              "      <td>7442</td>\n",
              "      <td>7</td>\n",
              "      <td>25.62993</td>\n",
              "      <td>During a manned mission to Mars, Astronaut Mar...</td>\n",
              "      <td>http://www.foxmovies.com/movies/the-martian</td>\n",
              "      <td>5209.4</td>\n",
              "    </tr>\n",
              "  </tbody>\n",
              "</table>\n",
              "</div>"
            ],
            "text/plain": [
              "                              title  ...       wr\n",
              "15480                     Inception  ...  11260.0\n",
              "22879                  Interstellar  ...   8949.6\n",
              "14551                        Avatar  ...   8479.8\n",
              "17818                  The Avengers  ...   8400.0\n",
              "23753       Guardians of the Galaxy  ...   7009.8\n",
              "26553            Mad Max: Fury Road  ...   6740.3\n",
              "2458                     The Matrix  ...   6355.3\n",
              "12588                      Iron Man  ...   6265.7\n",
              "18244              The Hunger Games  ...   5780.4\n",
              "26555  Star Wars: The Force Awakens  ...   5595.1\n",
              "256                       Star Wars  ...   5422.4\n",
              "20830                    Iron Man 3  ...   5370.6\n",
              "25084                Jurassic World  ...   5305.2\n",
              "26567    Captain America: Civil War  ...   5223.4\n",
              "30051                   The Martian  ...   5209.4\n",
              "\n",
              "[15 rows x 8 columns]"
            ]
          },
          "metadata": {
            "tags": []
          },
          "execution_count": 14
        }
      ]
    },
    {
      "cell_type": "markdown",
      "metadata": {
        "id": "ViAnyilPvPuk"
      },
      "source": [
        "Inception e Interstellar aparecen en las dos primeras posiciones. Personalmente me gusta más Interstellar (si quieres ver un agujero negro, esta película es lo mejor que podrás conseguir), pero reconozco que Inception tiene mucho nivel. Podemos seguir refinando este tipo de recomendaciones prestando atención a los distintos atributos que tenemos disponibles sobre las películas. \n"
      ]
    },
    {
      "cell_type": "markdown",
      "metadata": {
        "id": "elZDMy6PvPul"
      },
      "source": [
        "## 3. Sistemas de recomendación basados en contenido\n",
        "\n",
        "Este tipo de sistemas basados en contenido utiliza información específica sobre el ítem o producto de recomendación. Por ejemplo, si no contamos con información del rating de las peliculas pero sabemos que un usuario vió o que le gustó cierta película, podríamos utilizar la descripción o resumen de la película para construir nuevas recomendaciones a partir de peliculas con contenidos *similares*.\n",
        "\n",
        "A continuación vamos a construir un sistema que recomiende películas en función de sus descripciones o \"su trama\". Entonces necesitamos calcular funciones de similitud de acuerdo con la descripción linguistica de cada película.\n",
        "\n",
        "En nuestros datos, la descripción de cada película la encontramos bajo el atributo \"overview\". Veamos a continuación las tramas de las primeras 5 peliculas recomendadas de Ciencia Ficcion:"
      ]
    },
    {
      "cell_type": "code",
      "metadata": {
        "id": "-n9ANhRcvPum",
        "outputId": "8e53278c-89ed-4620-9f3a-9dc96ed607b4",
        "colab": {
          "base_uri": "https://localhost:8080/",
          "height": 350
        }
      },
      "source": [
        "pd.set_option('display.max_colwidth', -1)\n",
        "scifi[['title', 'overview']].head()"
      ],
      "execution_count": null,
      "outputs": [
        {
          "output_type": "stream",
          "text": [
            "/usr/local/lib/python3.6/dist-packages/ipykernel_launcher.py:1: FutureWarning: Passing a negative integer is deprecated in version 1.0 and will not be supported in future version. Instead, use None to not limit the column width.\n",
            "  \"\"\"Entry point for launching an IPython kernel.\n"
          ],
          "name": "stderr"
        },
        {
          "output_type": "execute_result",
          "data": {
            "text/html": [
              "<div>\n",
              "<style scoped>\n",
              "    .dataframe tbody tr th:only-of-type {\n",
              "        vertical-align: middle;\n",
              "    }\n",
              "\n",
              "    .dataframe tbody tr th {\n",
              "        vertical-align: top;\n",
              "    }\n",
              "\n",
              "    .dataframe thead th {\n",
              "        text-align: right;\n",
              "    }\n",
              "</style>\n",
              "<table border=\"1\" class=\"dataframe\">\n",
              "  <thead>\n",
              "    <tr style=\"text-align: right;\">\n",
              "      <th></th>\n",
              "      <th>title</th>\n",
              "      <th>overview</th>\n",
              "    </tr>\n",
              "  </thead>\n",
              "  <tbody>\n",
              "    <tr>\n",
              "      <th>15480</th>\n",
              "      <td>Inception</td>\n",
              "      <td>Cobb, a skilled thief who commits corporate espionage by infiltrating the subconscious of his targets is offered a chance to regain his old life as payment for a task considered to be impossible: \"inception\", the implantation of another person's idea into a target's subconscious.</td>\n",
              "    </tr>\n",
              "    <tr>\n",
              "      <th>22879</th>\n",
              "      <td>Interstellar</td>\n",
              "      <td>Interstellar chronicles the adventures of a group of explorers who make use of a newly discovered wormhole to surpass the limitations on human space travel and conquer the vast distances involved in an interstellar voyage.</td>\n",
              "    </tr>\n",
              "    <tr>\n",
              "      <th>14551</th>\n",
              "      <td>Avatar</td>\n",
              "      <td>In the 22nd century, a paraplegic Marine is dispatched to the moon Pandora on a unique mission, but becomes torn between following orders and protecting an alien civilization.</td>\n",
              "    </tr>\n",
              "    <tr>\n",
              "      <th>17818</th>\n",
              "      <td>The Avengers</td>\n",
              "      <td>When an unexpected enemy emerges and threatens global safety and security, Nick Fury, director of the international peacekeeping agency known as S.H.I.E.L.D., finds himself in need of a team to pull the world back from the brink of disaster. Spanning the globe, a daring recruitment effort begins!</td>\n",
              "    </tr>\n",
              "    <tr>\n",
              "      <th>23753</th>\n",
              "      <td>Guardians of the Galaxy</td>\n",
              "      <td>Light years from Earth, 26 years after being abducted, Peter Quill finds himself the prime target of a manhunt after discovering an orb wanted by Ronan the Accuser.</td>\n",
              "    </tr>\n",
              "  </tbody>\n",
              "</table>\n",
              "</div>"
            ],
            "text/plain": [
              "                         title                                                                                                                                                                                                                                                                                                   overview\n",
              "15480  Inception                Cobb, a skilled thief who commits corporate espionage by infiltrating the subconscious of his targets is offered a chance to regain his old life as payment for a task considered to be impossible: \"inception\", the implantation of another person's idea into a target's subconscious.                 \n",
              "22879  Interstellar             Interstellar chronicles the adventures of a group of explorers who make use of a newly discovered wormhole to surpass the limitations on human space travel and conquer the vast distances involved in an interstellar voyage.                                                                           \n",
              "14551  Avatar                   In the 22nd century, a paraplegic Marine is dispatched to the moon Pandora on a unique mission, but becomes torn between following orders and protecting an alien civilization.                                                                                                                          \n",
              "17818  The Avengers             When an unexpected enemy emerges and threatens global safety and security, Nick Fury, director of the international peacekeeping agency known as S.H.I.E.L.D., finds himself in need of a team to pull the world back from the brink of disaster. Spanning the globe, a daring recruitment effort begins!\n",
              "23753  Guardians of the Galaxy  Light years from Earth, 26 years after being abducted, Peter Quill finds himself the prime target of a manhunt after discovering an orb wanted by Ronan the Accuser.                                                                                                                                     "
            ]
          },
          "metadata": {
            "tags": []
          },
          "execution_count": 15
        }
      ]
    },
    {
      "cell_type": "markdown",
      "metadata": {
        "id": "TzVXWH7bvPup"
      },
      "source": [
        "### 3.1 Estimación de similitudes y procesamiento de lenguage natural\n",
        "\n",
        "En primera instancia podemos evaluar las similitudes entre las películas a partir de la descripción linguística de su contenido. Pero, **¿cómo calculamos estas similitudes, o más aun, cómo procesamos los caracteres linguisticos, las palabras y las frases para calcular dichas similitudes?**\n",
        "\n",
        "A continuación vamos a ver una primera aproximación al análisis de texto a nivel de *términos* o *palabras*. Para ello, vamos a computar el ínidice TF-IDF (del inglés \"Term Frequency-Inverse Document Frequency\"), el cual se puede entender como una ponderación de la relevancia de los términos encontrados en cada resumen.  \n",
        "\n",
        "### 3.1.1 Indice TF-IDF\n",
        "El índice TF-IDF mide la relevancia de un término linguístico ($t$) por cada resumen o documento que estemos analizando ($d$), tomando la frecuencia del término en cada resumen $tf(t,d)$, y multiplicandola por la frecuencia inversa de la ocurrencia del término en la muestra de resumenes $idf(t)$. De esta manera se extrae la importancia/significancia de los términos/palabras como información numérica para la estimación de la similitud entre películas.\n",
        "\n",
        "Consideremos un conjunto de resumenes ($D$). En este conjunto es de esperar que los artículos linguísticos sean muy comunes (en ingles \"a\", \"the\",...), los cuales no ofrecen en verdad información relevante acerca del contenido de una película. Entonces, si fueramos a introducir el conteo de las palabras directamente a nuestro cálculo de las similitudes (o a un clasificador), esos términos más frecuentes añadirían ruido sobre otros términos menos frecuentes pero posiblemente más interesantes (en verdad relevantes para entender el contenido de las películas). \n",
        "\n",
        "De esta manera, la frecuencia de un término $t$ en un resumen $d$ está dada por $tf(t,d)$, y el índice $tf-idf(t,d)$ está dado por \n",
        "\n",
        "$$tf-idf(t,d)=tf(t,d)\\times idf(t)  $$\n",
        "\n",
        "donde $$ idf(t)=\\log \\frac{1+n}{1+df(t)}+1 $$\n",
        "\n",
        "siendo $n$ el número total de resumenes en $D$ y $df(t)$ es el número de resumenes en $D$ que contienen el término $t$.\n",
        " \n",
        "El resultado de los vectores $tf-idf(d)$, de todos los términos en cada documento, son normalizados por la norma Euclideana $L2$, tal que \n",
        "\n",
        "$$ tf-idf(t,d)_{norm} = \\frac{tf-idf(t,d)}{\\sqrt{tf-idf(t_1,d)+...+tf-idf(t_T,d)}}$$\n",
        "\n",
        "donde $T$ es el número total de términos.\n",
        "\n",
        "**Por ejemplo**, *si tenemos 3 términos en 3 resumenes, el primer término $t_1$ aparece 3 veces en el primer resumen $d_1$, 2 veces en el segundo resumen $d_2$ y 3 veces en el tercer resumen $d_3$. El segundo término $t_2$ aparece dos vez en el primer resumen $d_1$, y el tercer término $t_3$ solo aparece una vez en el tercer resumen $d_3$. *\n",
        "\n",
        "*Entonces $df(t_1)=3$, $df(t_2)=1$ y $df(t_3)=1$.*\n",
        "\n",
        "*Luego, $idf(t_1)=log(4/4)+1=1$, $idf(t_2)=idf(t_3)=1.69$.*\n",
        "\n",
        "*Por lo tanto, antes de normalizar, $tf-idf(t_1,d_1)=3\\times 1=3$, $tf-idf(t_2,d_1)=2\\times 1.69=3.38$ y $tf-idf(t_3,d_1)=0\\times 1.69=0$.* \n",
        "\n",
        "*Tras la normalización, tendriamos que  $tf-idf(d_1)=\\frac{(3,3.38,0)}{\\sqrt{9+11.42+0}}=(0.66,0.74,0)$*\n",
        "\n",
        "La biblioteca **scikit-learn** ofrece la clase *TfIdfVectorizer*, la cual produce una matriz TF-IDF de manera sencilla. Entonces, este índice lo calculamos utilizando los parámetros por defecto del transformador `TfidfTransformer`: `TfidfTransform(norm='l2', use_idf=True, smooth_idf=True, sublinear_tf=False)`.\n",
        "\n",
        "\n",
        "Como resultado, vamos a obtener una matriz cuyas columnas representan la relevancia (TF-IDF) de los términos presentes en los resumenes de cada película. \n"
      ]
    },
    {
      "cell_type": "code",
      "metadata": {
        "id": "lgTsQ0QhvPuq"
      },
      "source": [
        "# Utilizamos el TfIdfVectorizer de la biblioteca scikit-learn\n",
        "from sklearn.feature_extraction.text import TfidfVectorizer"
      ],
      "execution_count": null,
      "outputs": []
    },
    {
      "cell_type": "code",
      "metadata": {
        "id": "-WjR_obWvPut",
        "outputId": "dced68f3-19c0-447c-a6e4-3662132cefa3",
        "colab": {
          "base_uri": "https://localhost:8080/"
        }
      },
      "source": [
        "# Definimos el objeto TF-IDF. \n",
        "# También se podrían remover articulos (comunes) como 'the', 'a' con (stop_words='english')\n",
        "tfidf = TfidfVectorizer()  \n",
        "\n",
        "# Reemplazamos valores NaN con espacio vacío\n",
        "metadata['overview'] = metadata['overview'].fillna('')\n",
        "\n",
        "# Construimos la matriz TF-IDF ajustando y transfromando los datos\n",
        "tfidf_mat = tfidf.fit_transform(metadata['overview'])\n",
        "pd.DataFrame(tfidf_mat).head()\n",
        "# La salida con las dimensiones de tfidf_matrix\n",
        "tfidf_mat.shape\n"
      ],
      "execution_count": null,
      "outputs": [
        {
          "output_type": "execute_result",
          "data": {
            "text/plain": [
              "(45466, 76132)"
            ]
          },
          "metadata": {
            "tags": []
          },
          "execution_count": 17
        }
      ]
    },
    {
      "cell_type": "markdown",
      "metadata": {
        "id": "WFoZvR-tvPuv"
      },
      "source": [
        "### Pregunta 3.1\n",
        "\n",
        "- Cuántos términos fueron necesarios para describir las peliculas de nuestra base de datos?\n",
        "\n",
        "- Qué tipo de matriz es `tfidf_mat`?"
      ]
    },
    {
      "cell_type": "code",
      "metadata": {
        "id": "_V30x30wvPuw",
        "outputId": "91b7b314-f94e-4541-c03e-dbd24e6bd8ef",
        "colab": {
          "base_uri": "https://localhost:8080/"
        }
      },
      "source": [
        "# Definimos el objeto TF-IDF. \n",
        "# También se podrían remover articulos (comunes) como 'the', 'a' con (stop_words='english')\n",
        "tfidf = TfidfVectorizer(stop_words='english')  \n",
        "\n",
        "# Reemplazamos valores NaN con espacio vacío\n",
        "metadata['overview'] = metadata['overview'].fillna('')\n",
        "\n",
        "# Construimos la matriz TF-IDF ajustando y transfromando los datos\n",
        "tfidf_mat = tfidf.fit_transform(metadata['overview'])\n",
        "pd.DataFrame(tfidf_mat).head()\n",
        "# La salida con las dimensiones de tfidf_matrix\n",
        "tfidf_mat.shape"
      ],
      "execution_count": null,
      "outputs": [
        {
          "output_type": "execute_result",
          "data": {
            "text/plain": [
              "(45466, 75827)"
            ]
          },
          "metadata": {
            "tags": []
          },
          "execution_count": 18
        }
      ]
    },
    {
      "cell_type": "markdown",
      "metadata": {
        "id": "P56GpnD_nfXd"
      },
      "source": [
        "**- Sin excluir artículos comúnes que no proporcionan información (stopwords), se requirieron 76132 términos para describir las sinopsis de las películas. Utilizando el argumento stopwords = True, se requirieron 75827 términos.**\n",
        "\n",
        "**- tfidf_mat es una matriz comprimida que contiene la codificación de cada término por cada película con su respectivo indicador de relevancia.**"
      ]
    },
    {
      "cell_type": "code",
      "metadata": {
        "id": "JEjzEPsEoSDF",
        "outputId": "5626a560-4374-49cc-c635-b7a843f7a86e",
        "colab": {
          "base_uri": "https://localhost:8080/"
        }
      },
      "source": [
        "print(pd.DataFrame(tfidf_mat).head())\n",
        "print(type(tfidf_mat))"
      ],
      "execution_count": null,
      "outputs": [
        {
          "output_type": "stream",
          "text": [
            "                                                                                                                                                                                                                                                                                                                                                                                                                                                                                                                                                                                                                                                                                                                                                                                                                                                                                                                                                                                                                                                                                                                                                                                    0\n",
            "0    (0, 17764)\\t0.13483149538639247\\n  (0, 4388)\\t0.1474882034218405\\n  (0, 38030)\\t0.10142919482788751\\n  (0, 21887)\\t0.10438761058719498\\n  (0, 19641)\\t0.13281884272823927\\n  (0, 48558)\\t0.10339358185033234\\n  (0, 59519)\\t0.13008016104455086\\n  (0, 12490)\\t0.12544427954397822\\n  (0, 51108)\\t0.13434817283119177\\n  (0, 29238)\\t0.10093917370354445\\n  (0, 50914)\\t0.09190797940163035\\n  (0, 39423)\\t0.11907123344715953\\n  (0, 1847)\\t0.140911774178889\\n  (0, 58571)\\t0.1135591886873686\\n  (0, 38693)\\t0.20627924682810617\\n  (0, 9874)\\t0.5028038686135609\\n  (0, 9087)\\t0.10635375129287977\\n  (0, 7491)\\t0.12380553184830104\\n  (0, 56872)\\t0.111248510865236\\n  (0, 28729)\\t0.13311522181618415\\n  (0, 39012)\\t0.08718689178959059\\n  (0, 67874)\\t0.14878284660693247\\n  (0, 3159)\\t0.41178365711725945\\n  (0, 73468)\\t0.4809827114790237\\n  (0, 38088)\\t0.10739705953465473                                                                                                                                                                                                                                                                                       \n",
            "1    (0, 14988)\\t0.15233435064749146\\n  (0, 66484)\\t0.14663603807361472\\n  (0, 44008)\\t0.21120411735917297\\n  (0, 21928)\\t0.11581823179974537\\n  (0, 56115)\\t0.24391033514410979\\n  (0, 26327)\\t0.14635121510805393\\n  (0, 57298)\\t0.140307006797506\\n  (0, 56411)\\t0.19142579477068034\\n  (0, 52773)\\t0.15282587986574794\\n  (0, 23564)\\t0.16446724293324655\\n  (0, 24726)\\t0.14142889243827067\\n  (0, 30511)\\t0.1324838293546845\\n  (0, 39031)\\t0.10512419788407477\\n  (0, 74030)\\t0.08644041777153641\\n  (0, 593)\\t0.1907966228419227\\n  (0, 32643)\\t0.13125796666261996\\n  (0, 68121)\\t0.13716579287092048\\n  (0, 1678)\\t0.1504646559554162\\n  (0, 2262)\\t0.3301708473810977\\n  (0, 33164)\\t0.18900392160046467\\n  (0, 70124)\\t0.1663726092054478\\n  (0, 73531)\\t0.07978207858932576\\n  (0, 40220)\\t0.14821604585843537\\n  (0, 18919)\\t0.14384662547526483\\n  (0, 47769)\\t0.15436507008138664\\n  (0, 25498)\\t0.37109887873910524\\n  (0, 7963)\\t0.15233435064749146\\n  (0, 20907)\\t0.1901837949034981\\n  (0, 18119)\\t0.11584411501583824\\n  (0, 50220)\\t0.14038016204713533\\n  (0, 34633)\\t0.1907966228419227\\n  (0, 60735)\\t0.16820596223387843\\n  (0, 56872)\\t0.1352037236381358\n",
            "2    (0, 67150)\\t0.09013326169468926\\n  (0, 30668)\\t0.14865206322444702\\n  (0, 14353)\\t0.1919311410846162\\n  (0, 59024)\\t0.23638631129111792\\n  (0, 32877)\\t0.16482720664115375\\n  (0, 5116)\\t0.11553370775947241\\n  (0, 23662)\\t0.17405374040607216\\n  (0, 58521)\\t0.20570111384180126\\n  (0, 39058)\\t0.14881317354963242\\n  (0, 73556)\\t0.20570111384180126\\n  (0, 39120)\\t0.17051818518985043\\n  (0, 2268)\\t0.2131069943964167\\n  (0, 60488)\\t0.15371130875490588\\n  (0, 5521)\\t0.21536408635188217\\n  (0, 39114)\\t0.11249427206874478\\n  (0, 55773)\\t0.15895407815921908\\n  (0, 18540)\\t0.22371226634235972\\n  (0, 33470)\\t0.14306754044298156\\n  (0, 64516)\\t0.21205105193572146\\n  (0, 41763)\\t0.3241189774907669\\n  (0, 34365)\\t0.12357523931733008\\n  (0, 9449)\\t0.1766430066126524\\n  (0, 23678)\\t0.17361067679478182\\n  (0, 45870)\\t0.16956745956851174\\n  (0, 23293)\\t0.19058968450774752\\n  (0, 3089)\\t0.14326062237382328\\n  (0, 55065)\\t0.23930861475174864\\n  (0, 72518)\\t0.14300351227093797\\n  (0, 22673)\\t0.0857530969376411\\n  (0, 18919)\\t0.15127507592807513\\n  (0, 47769)\\t0.1623367084215669                                                                  \n",
            "3    (0, 8909)\\t0.2524772113861553\\n  (0, 72417)\\t0.10669961812724565\\n  (0, 7105)\\t0.15396663207682454\\n  (0, 17388)\\t0.14548887055378093\\n  (0, 65668)\\t0.1685749034728842\\n  (0, 56573)\\t0.1889638851066729\\n  (0, 26666)\\t0.28473900632941324\\n  (0, 6977)\\t0.22901804953277988\\n  (0, 70658)\\t0.29560389640619134\\n  (0, 13832)\\t0.27703024414064686\\n  (0, 24866)\\t0.10537286287420299\\n  (0, 39514)\\t0.16611687068101164\\n  (0, 63499)\\t0.23825843521001763\\n  (0, 64012)\\t0.1964233793024457\\n  (0, 8881)\\t0.1472776452206892\\n  (0, 40660)\\t0.08650214530694683\\n  (0, 26957)\\t0.12953598727634266\\n  (0, 20613)\\t0.19609458847784436\\n  (0, 72060)\\t0.16964927919961204\\n  (0, 8907)\\t0.22792417863166378\\n  (0, 30266)\\t0.19709331709686057\\n  (0, 73408)\\t0.12241980927214047\\n  (0, 63535)\\t0.24161232130937726\\n  (0, 43540)\\t0.23527802018779564\\n  (0, 11777)\\t0.22687321585182926                                                                                                                                                                                                                                                                                   \n",
            "4    (0, 35872)\\t0.18466136938635244\\n  (0, 27260)\\t0.2788767351304065\\n  (0, 4183)\\t0.18886353095881733\\n  (0, 11521)\\t0.15894062058858632\\n  (0, 38707)\\t0.13482378002484827\\n  (0, 50947)\\t0.15738579529165508\\n  (0, 30327)\\t0.11962425006390406\\n  (0, 59366)\\t0.19153480778153667\\n  (0, 50965)\\t0.2040127380406623\\n  (0, 22178)\\t0.23034823152942452\\n  (0, 46378)\\t0.23131484437878716\\n  (0, 72980)\\t0.11843255567852276\\n  (0, 52037)\\t0.1780164764447958\\n  (0, 46119)\\t0.18403143489950047\\n  (0, 54558)\\t0.18862093407838845\\n  (0, 16182)\\t0.12649643010244851\\n  (0, 54687)\\t0.25777335115573075\\n  (0, 5784)\\t0.2323131550419513\\n  (0, 26107)\\t0.5353377051655905\\n  (0, 34790)\\t0.12690743812645194\\n  (0, 72518)\\t0.1754812725200592                                                                                                                                                                                                                                                                                                                                                                                                                             \n",
            "<class 'scipy.sparse.csr.csr_matrix'>\n"
          ],
          "name": "stdout"
        }
      ]
    },
    {
      "cell_type": "code",
      "metadata": {
        "id": "38GlAlgXvPuz",
        "outputId": "8cc68149-4a5d-4457-c3ff-f609cbb3be11",
        "colab": {
          "base_uri": "https://localhost:8080/"
        }
      },
      "source": [
        "# veamos la primera pelicula y la representacion tfidf de su sinopsis\n",
        "print(metadata['overview'][0])\n",
        "print(tfidf_mat[0,:])"
      ],
      "execution_count": null,
      "outputs": [
        {
          "output_type": "stream",
          "text": [
            "Led by Woody, Andy's toys live happily in his room until Andy's birthday brings Buzz Lightyear onto the scene. Afraid of losing his place in Andy's heart, Woody plots against Buzz. But when circumstances separate Buzz and Woody from their owner, the duo eventually learns to put aside their differences.\n",
            "  (0, 17764)\t0.13483149538639247\n",
            "  (0, 4388)\t0.1474882034218405\n",
            "  (0, 38030)\t0.10142919482788751\n",
            "  (0, 21887)\t0.10438761058719498\n",
            "  (0, 19641)\t0.13281884272823927\n",
            "  (0, 48558)\t0.10339358185033234\n",
            "  (0, 59519)\t0.13008016104455086\n",
            "  (0, 12490)\t0.12544427954397822\n",
            "  (0, 51108)\t0.13434817283119177\n",
            "  (0, 29238)\t0.10093917370354445\n",
            "  (0, 50914)\t0.09190797940163035\n",
            "  (0, 39423)\t0.11907123344715953\n",
            "  (0, 1847)\t0.140911774178889\n",
            "  (0, 58571)\t0.1135591886873686\n",
            "  (0, 38693)\t0.20627924682810617\n",
            "  (0, 9874)\t0.5028038686135609\n",
            "  (0, 9087)\t0.10635375129287977\n",
            "  (0, 7491)\t0.12380553184830104\n",
            "  (0, 56872)\t0.111248510865236\n",
            "  (0, 28729)\t0.13311522181618415\n",
            "  (0, 39012)\t0.08718689178959059\n",
            "  (0, 67874)\t0.14878284660693247\n",
            "  (0, 3159)\t0.41178365711725945\n",
            "  (0, 73468)\t0.4809827114790237\n",
            "  (0, 38088)\t0.10739705953465473\n"
          ],
          "name": "stdout"
        }
      ]
    },
    {
      "cell_type": "markdown",
      "metadata": {
        "id": "aIvk_F2-vPu2"
      },
      "source": [
        "### 3.1.2 Cálculo de similitudes\n",
        "\n",
        "Ahora ya podemos calcular las similitudes entre las peliculas basados en sus resumenes. Podríamos utilizar distintas métricas, como la Euclideana, la correlación de Pearson, o la similitud del coseno. \n",
        "\n",
        "Por ejemplo, veamos qué ocurre con la similitud del coseno calculada para todo par de películas. Lo bueno de esta métrica del coseno es que es independiente de la magnitud y mide la dirección de los vectores. De este modo, dos vectores paralelos (con angulo relativo de 0°) tienen una similitud de 1, y dos vectores ortogonales, con un angulo de 90° entre ellos obtienen una similitud de 0.  \n",
        "\n",
        "La *similitud del coseno* se define para todo $x,y \\in [0,1]$ tal que\n",
        "\n",
        "$$\n",
        "sim_{cos}(x,y)=\\frac{\\sum_{i=1}^{n}x_i y_i}{\\sqrt{\\sum_{i=1}^{n}x_i^2} \\sqrt{\\sum_{i=1}^{n}y_i^2}}\n",
        "$$\n",
        "\n",
        "Como tenemos la matriz de representación vectorizada de las palabras para cada pelicula, el cómputo del producto interno obtiene de manera directa el valor de similitud por coseno. De esta manera, utilizamos el `linear_kernel()` de sklearn en lugar de `cosine_similarities()`."
      ]
    },
    {
      "cell_type": "code",
      "metadata": {
        "id": "ObmtJceEvPu2"
      },
      "source": [
        "# Utilizamos el linear_kernel\n",
        "from sklearn.metrics.pairwise import linear_kernel"
      ],
      "execution_count": null,
      "outputs": []
    },
    {
      "cell_type": "markdown",
      "metadata": {
        "id": "CFKKFFEuvPu6"
      },
      "source": [
        "El cálculo de las similitudes para cada par de entre todas las 45466 peliculas y sus 76132 entradas es bastante pesado. Si ejecutamos el código sobre toda la matriz `tfidf_mat` en GoogleColab, debemos utilizar los recursos de RAM en la máquina remota. En nuestra máquina local tomemos un conjunto de peliculas más pequeño.\n",
        "\n",
        "Por ejemplo, tomemos solamente las peliculas más populares:"
      ]
    },
    {
      "cell_type": "code",
      "metadata": {
        "id": "WFXU3COjvPu6",
        "outputId": "4e8af4fb-bec2-4d97-c56e-3b2b863c30e3",
        "colab": {
          "base_uri": "https://localhost:8080/"
        }
      },
      "source": [
        "m = metadata['vote_count'].quantile(0.90)\n",
        "pelis_P = metadata.copy().loc[metadata['vote_count'] >= m]\n",
        "pelis_P.shape"
      ],
      "execution_count": null,
      "outputs": [
        {
          "output_type": "execute_result",
          "data": {
            "text/plain": [
              "(4555, 25)"
            ]
          },
          "metadata": {
            "tags": []
          },
          "execution_count": 22
        }
      ]
    },
    {
      "cell_type": "code",
      "metadata": {
        "id": "VMD-NDPhvPu-",
        "outputId": "2a7e5f96-90a6-404f-f966-b2f601169482",
        "colab": {
          "base_uri": "https://localhost:8080/"
        }
      },
      "source": [
        "tfidf_P = tfidf_mat[ pelis_P.index, :]\n",
        "tfidf_P.shape"
      ],
      "execution_count": null,
      "outputs": [
        {
          "output_type": "execute_result",
          "data": {
            "text/plain": [
              "(4555, 75827)"
            ]
          },
          "metadata": {
            "tags": []
          },
          "execution_count": 23
        }
      ]
    },
    {
      "cell_type": "code",
      "metadata": {
        "id": "XD7JNVJnvPvA"
      },
      "source": [
        "# Calculamos la matriz de similitudes por coseno (para un numero reducido de observaciones)\n",
        "sim_cos = linear_kernel(tfidf_P, tfidf_P)#], dense_output=False)"
      ],
      "execution_count": null,
      "outputs": []
    },
    {
      "cell_type": "code",
      "metadata": {
        "id": "1iLh5GGrvPvD",
        "outputId": "ab5d5d52-0179-457b-8ebf-306ed25cbd83",
        "colab": {
          "base_uri": "https://localhost:8080/"
        }
      },
      "source": [
        "sim_cos"
      ],
      "execution_count": null,
      "outputs": [
        {
          "output_type": "execute_result",
          "data": {
            "text/plain": [
              "array([[1.        , 0.01504121, 0.        , ..., 0.        , 0.        ,\n",
              "        0.        ],\n",
              "       [0.01504121, 1.        , 0.        , ..., 0.        , 0.        ,\n",
              "        0.        ],\n",
              "       [0.        , 0.        , 1.        , ..., 0.01879787, 0.        ,\n",
              "        0.        ],\n",
              "       ...,\n",
              "       [0.        , 0.        , 0.01879787, ..., 1.        , 0.        ,\n",
              "        0.        ],\n",
              "       [0.        , 0.        , 0.        , ..., 0.        , 1.        ,\n",
              "        0.02167055],\n",
              "       [0.        , 0.        , 0.        , ..., 0.        , 0.02167055,\n",
              "        1.        ]])"
            ]
          },
          "metadata": {
            "tags": []
          },
          "execution_count": 25
        }
      ]
    },
    {
      "cell_type": "markdown",
      "metadata": {
        "id": "-udgXH2YvPvG"
      },
      "source": [
        "### Ejercicio 3.2\n",
        "\n",
        "Calcule las similitudes entre peliculas utilizando una funcion de similitud distinta."
      ]
    },
    {
      "cell_type": "code",
      "metadata": {
        "id": "lGYdGhWLvPvH",
        "outputId": "23d6267e-b6da-4db7-95ec-bb66ce430112",
        "colab": {
          "base_uri": "https://localhost:8080/"
        }
      },
      "source": [
        "from sklearn.metrics.pairwise import euclidean_distances\n",
        "Euc = euclidean_distances(tfidf_P, tfidf_P)\n",
        "Euc"
      ],
      "execution_count": null,
      "outputs": [
        {
          "output_type": "execute_result",
          "data": {
            "text/plain": [
              "array([[0.        , 1.40353752, 1.41421356, ..., 1.41421356, 1.41421356,\n",
              "        1.41421356],\n",
              "       [1.40353752, 0.        , 1.41421356, ..., 1.41421356, 1.41421356,\n",
              "        1.41421356],\n",
              "       [1.41421356, 1.41421356, 0.        , ..., 1.4008584 , 1.41421356,\n",
              "        1.41421356],\n",
              "       ...,\n",
              "       [1.41421356, 1.41421356, 1.4008584 , ..., 0.        , 1.41421356,\n",
              "        1.41421356],\n",
              "       [1.41421356, 1.41421356, 1.41421356, ..., 1.41421356, 0.        ,\n",
              "        1.39880624],\n",
              "       [1.41421356, 1.41421356, 1.41421356, ..., 1.41421356, 1.39880624,\n",
              "        0.        ]])"
            ]
          },
          "metadata": {
            "tags": []
          },
          "execution_count": 26
        }
      ]
    },
    {
      "cell_type": "markdown",
      "metadata": {
        "id": "MmvfnoRHvPvK"
      },
      "source": [
        "Ahora vamos a definir una funcion que tome como entrada el título de una película y devuelve una lista de las peliculas más similares a esa película de entrada\n",
        "\n",
        "Para ello, primero tomamos una lista de referencia con los distintos titulos e indices de las peliculas:"
      ]
    },
    {
      "cell_type": "code",
      "metadata": {
        "id": "QZrmJQp2vPvL",
        "outputId": "eb5e22d6-8f06-4257-8dbe-6fc3d9f150f8",
        "colab": {
          "base_uri": "https://localhost:8080/"
        }
      },
      "source": [
        "indices = pd.Series(pelis_P.index, index=pelis_P['title']).drop_duplicates()\n",
        "indices.head()"
      ],
      "execution_count": null,
      "outputs": [
        {
          "output_type": "execute_result",
          "data": {
            "text/plain": [
              "title\n",
              "Toy Story                      0\n",
              "Jumanji                        1\n",
              "Father of the Bride Part II    4\n",
              "Heat                           5\n",
              "Sudden Death                   8\n",
              "dtype: int64"
            ]
          },
          "metadata": {
            "tags": []
          },
          "execution_count": 27
        }
      ]
    },
    {
      "cell_type": "markdown",
      "metadata": {
        "id": "zJ46gYSpvPvN"
      },
      "source": [
        "### 3.2 Funcion de recomendacion\n",
        "\n",
        "A continuación construimos la función de recomendación. Los pasos que se van a seguir son los siguientes:\n",
        "\n",
        "- Obtener el índice de la pelicula dado su título\n",
        "- Obtener la lista con los scores de similitud para esa película con respecto a las demás películas. \n",
        "- Ordenar la lista de tuplas en base al score de similitud\n",
        "- Obtener el top-k de peliculas más similares\n",
        "- Devolver los títulos que corresponden con los índices de las peliculas más similares\n"
      ]
    },
    {
      "cell_type": "code",
      "metadata": {
        "id": "z-0hdP9UvPvO"
      },
      "source": [
        "def rec_pelis(titulo, num_pelis, sim):\n",
        "    # Indice de la pelicula para el titulo\n",
        "    idx = indices[titulo]\n",
        "\n",
        "    # Obtiene los valores de similtud para la pelicula de entrada\n",
        "    sim_scores = list(enumerate(sim[idx]))\n",
        "\n",
        "    # Ordena las peliculas a base a los scores de similitud\n",
        "    sim_scores = sorted(sim_scores, key=lambda x: x[1], reverse=True)\n",
        "\n",
        "    # Scores de las k películas más similares (nótese que dejamos el primer elemento fuera)\n",
        "    sim_scores = sim_scores[1:num_pelis+1]\n",
        "\n",
        "    # Indices de las peliculas\n",
        "    pelis_indices = [i[0] for i in sim_scores]\n",
        "\n",
        "    # Devuelve las k peliculas mas similares\n",
        "    return pelis_P['title'].iloc[pelis_indices]"
      ],
      "execution_count": null,
      "outputs": []
    },
    {
      "cell_type": "code",
      "metadata": {
        "id": "zXyilWLavPvQ",
        "outputId": "19f23a8f-909c-4acc-cd7b-200a3bf88c08",
        "colab": {
          "base_uri": "https://localhost:8080/"
        }
      },
      "source": [
        "rec_pelis('Toy Story', 7, sim_cos)"
      ],
      "execution_count": null,
      "outputs": [
        {
          "output_type": "execute_result",
          "data": {
            "text/plain": [
              "15348    Toy Story 3           \n",
              "2997     Toy Story 2           \n",
              "10301    The 40 Year Old Virgin\n",
              "1071     Rebel Without a Cause \n",
              "3057     Man on the Moon       \n",
              "2157     Indecent Proposal     \n",
              "10585    Match Point           \n",
              "Name: title, dtype: object"
            ]
          },
          "metadata": {
            "tags": []
          },
          "execution_count": 29
        }
      ]
    },
    {
      "cell_type": "markdown",
      "metadata": {
        "id": "QKWZ51MLvPvT"
      },
      "source": [
        "Aunque las primeras dos entradas de la recomendación parecen bastante acertadas, la tercera o la séptima recomendación parece totalmente inapropiada, sobre todo si tenemos en cuenta que la película de entrada está dirigida al público infantil. \n"
      ]
    },
    {
      "cell_type": "markdown",
      "metadata": {
        "id": "JAVwFSSzvPvU"
      },
      "source": [
        "Recordemos los géneros de nuestra base de datos:"
      ]
    },
    {
      "cell_type": "code",
      "metadata": {
        "id": "ynMOQTVWvPvU",
        "outputId": "8172c370-7d73-4c52-b032-fa0cf1c28b09",
        "colab": {
          "base_uri": "https://localhost:8080/"
        }
      },
      "source": [
        "generos = pelis_P.apply(lambda x: pd.Series(x['genres']),axis=1).stack().reset_index(level=1, drop=True)\n",
        "list(pd.unique(generos))"
      ],
      "execution_count": null,
      "outputs": [
        {
          "output_type": "stream",
          "text": [
            "/usr/local/lib/python3.6/dist-packages/ipykernel_launcher.py:1: DeprecationWarning: The default dtype for empty Series will be 'object' instead of 'float64' in a future version. Specify a dtype explicitly to silence this warning.\n",
            "  \"\"\"Entry point for launching an IPython kernel.\n"
          ],
          "name": "stderr"
        },
        {
          "output_type": "execute_result",
          "data": {
            "text/plain": [
              "['Animation',\n",
              " 'Comedy',\n",
              " 'Family',\n",
              " 'Adventure',\n",
              " 'Fantasy',\n",
              " 'Action',\n",
              " 'Crime',\n",
              " 'Drama',\n",
              " 'Thriller',\n",
              " 'Romance',\n",
              " 'Horror',\n",
              " 'Science Fiction',\n",
              " 'Mystery',\n",
              " 'History',\n",
              " 'War',\n",
              " 'Western',\n",
              " 'Music',\n",
              " 'Documentary',\n",
              " 'TV Movie']"
            ]
          },
          "metadata": {
            "tags": []
          },
          "execution_count": 30
        }
      ]
    },
    {
      "cell_type": "markdown",
      "metadata": {
        "id": "OE8Dj5i_vPvY"
      },
      "source": [
        "### Pregunta 3.3\n",
        "\n",
        "Qué solución puede plantear para este problema?"
      ]
    },
    {
      "cell_type": "markdown",
      "metadata": {
        "id": "Eb10eShnxxB4"
      },
      "source": [
        "**Una posible solución al problema anterior se puede dar  mediante la integración de la variable 'Género' en la función, de modo que las recomendaciones resultantes corespondan con el mismo tipo de género al de la película consultada.**"
      ]
    },
    {
      "cell_type": "markdown",
      "metadata": {
        "id": "sIz-cBd3vPvc"
      },
      "source": [
        "### Ejercicio 3.4\n",
        "\n",
        "Escriba su codigo a continuación, donde explore un mejor recomendador que el propuesto arriba. Note que no tenemos más información que la descripcion de las peliculas y su valoracion media. Por ello la evaluacion de la salida es, por el momento, completamente subjetiva (depende de usted). Explique por qué su propuesta es mejor que la que hemos desarrollado hasta el momento."
      ]
    },
    {
      "cell_type": "code",
      "metadata": {
        "id": "ExKPxQpA0dCU"
      },
      "source": [
        "def rec_pelis1(titulo, num_pelis, sim):\n",
        "    # Indice de la pelicula para el titulo\n",
        "    idx = indices[titulo]\n",
        "\n",
        "    # Obtiene los valores de similtud para la pelicula de entrada\n",
        "    sim_scores = list(enumerate(sim[idx]))\n",
        "\n",
        "    # Ordena las peliculas a base a los scores de similitud\n",
        "    sim_scores = sorted(sim_scores, key=lambda x: x[1], reverse=True)\n",
        "\n",
        "    # Scores de las k películas más similares (nótese que dejamos el primer elemento fuera)\n",
        "    sim_scores = sim_scores[1:num_pelis+1]\n",
        "\n",
        "    # Indices de las peliculas\n",
        "    pelis_indices = [i[0] for i in sim_scores]\n",
        "\n",
        "    # Devuelve las k peliculas mas similares\n",
        "    return pelis_P[['title','genres']].iloc[pelis_indices]"
      ],
      "execution_count": null,
      "outputs": []
    },
    {
      "cell_type": "code",
      "metadata": {
        "id": "0SYSdjEs0dCX"
      },
      "source": [
        "retorno=rec_pelis1('Toy Story', 7, sim_cos)"
      ],
      "execution_count": null,
      "outputs": []
    },
    {
      "cell_type": "code",
      "metadata": {
        "id": "SZuD6EUzJ9f7",
        "outputId": "d53f3d86-0006-4d79-a37b-9c629a19613a",
        "colab": {
          "base_uri": "https://localhost:8080/",
          "height": 195
        }
      },
      "source": [
        "retorno.head()"
      ],
      "execution_count": null,
      "outputs": [
        {
          "output_type": "execute_result",
          "data": {
            "text/html": [
              "<div>\n",
              "<style scoped>\n",
              "    .dataframe tbody tr th:only-of-type {\n",
              "        vertical-align: middle;\n",
              "    }\n",
              "\n",
              "    .dataframe tbody tr th {\n",
              "        vertical-align: top;\n",
              "    }\n",
              "\n",
              "    .dataframe thead th {\n",
              "        text-align: right;\n",
              "    }\n",
              "</style>\n",
              "<table border=\"1\" class=\"dataframe\">\n",
              "  <thead>\n",
              "    <tr style=\"text-align: right;\">\n",
              "      <th></th>\n",
              "      <th>title</th>\n",
              "      <th>genres</th>\n",
              "    </tr>\n",
              "  </thead>\n",
              "  <tbody>\n",
              "    <tr>\n",
              "      <th>15348</th>\n",
              "      <td>Toy Story 3</td>\n",
              "      <td>[Animation, Family, Comedy]</td>\n",
              "    </tr>\n",
              "    <tr>\n",
              "      <th>2997</th>\n",
              "      <td>Toy Story 2</td>\n",
              "      <td>[Animation, Comedy, Family]</td>\n",
              "    </tr>\n",
              "    <tr>\n",
              "      <th>10301</th>\n",
              "      <td>The 40 Year Old Virgin</td>\n",
              "      <td>[Comedy, Romance]</td>\n",
              "    </tr>\n",
              "    <tr>\n",
              "      <th>1071</th>\n",
              "      <td>Rebel Without a Cause</td>\n",
              "      <td>[Drama]</td>\n",
              "    </tr>\n",
              "    <tr>\n",
              "      <th>3057</th>\n",
              "      <td>Man on the Moon</td>\n",
              "      <td>[Comedy, Drama, Romance]</td>\n",
              "    </tr>\n",
              "  </tbody>\n",
              "</table>\n",
              "</div>"
            ],
            "text/plain": [
              "                        title                       genres\n",
              "15348  Toy Story 3             [Animation, Family, Comedy]\n",
              "2997   Toy Story 2             [Animation, Comedy, Family]\n",
              "10301  The 40 Year Old Virgin  [Comedy, Romance]          \n",
              "1071   Rebel Without a Cause   [Drama]                    \n",
              "3057   Man on the Moon         [Comedy, Drama, Romance]   "
            ]
          },
          "metadata": {
            "tags": []
          },
          "execution_count": 115
        }
      ]
    },
    {
      "cell_type": "code",
      "metadata": {
        "id": "2P5yE7HkKCqj",
        "outputId": "e79beca5-eb7b-4858-ba48-ed3aa8d53606",
        "colab": {
          "base_uri": "https://localhost:8080/",
          "height": 35
        }
      },
      "source": [
        "genero = list(pelis_P.loc[pelis_P['original_title'] == titulo].genres)[0][0] ## genero de la pelicula de entrada\n",
        "genero"
      ],
      "execution_count": null,
      "outputs": [
        {
          "output_type": "execute_result",
          "data": {
            "application/vnd.google.colaboratory.intrinsic+json": {
              "type": "string"
            },
            "text/plain": [
              "'Animation'"
            ]
          },
          "metadata": {
            "tags": []
          },
          "execution_count": 117
        }
      ]
    },
    {
      "cell_type": "code",
      "metadata": {
        "id": "FVDwKQ5tKWN3",
        "outputId": "efb16373-6ec9-4bff-cafe-3495717f4214",
        "colab": {
          "base_uri": "https://localhost:8080/"
        }
      },
      "source": [
        "for i in range(0,retorno['genres'].shape[0]):\n",
        "  if genero in retorno['genres'].iloc[i]:\n",
        "    print(retorno['title'].iloc[i])"
      ],
      "execution_count": null,
      "outputs": [
        {
          "output_type": "stream",
          "text": [
            "Toy Story 3\n",
            "Toy Story 2\n"
          ],
          "name": "stdout"
        }
      ]
    },
    {
      "cell_type": "markdown",
      "metadata": {
        "id": "OURKCcvlNLCR"
      },
      "source": [
        "**La recomendación radica en las peliculas con contenido similar que ademas pertenezcan al genero PROPIO de la pelicula que se vió. Por lo anterior, se eliminan sesgos de cara al publico en el que se enfoca la pelicula. Cabe resaltar que al considerar los generos secundarios de la pelicula consultada, la recomendacion desmejora al opcionar peliculas intrinsecamente diferentes.**"
      ]
    },
    {
      "cell_type": "markdown",
      "metadata": {
        "id": "WibCgxJLvPvg"
      },
      "source": [
        "### Ejercicio 3.5 \n",
        "\n",
        "Proponga una metodología, con su respectivo algoritmo, que permita medir, de acuerdo con una métrica de su elección, el nivel de acierto de las recomendaciones.\n",
        "\n",
        "*Ayuda: considere un sistema de recomendación basado en contenido donde solo hay un usuario (promedio)*"
      ]
    },
    {
      "cell_type": "markdown",
      "metadata": {
        "id": "5lZYiI5kRNzp"
      },
      "source": [
        "**1. Para cada genero, particionar las peliculas vistas por el usuario en un porcentaje para entrenar y para testear, por ejemplo, 70-30.**\n",
        "\n",
        "**2. Correr el algoritmo con la partición de entrenamiento.**\n",
        "\n",
        "**3. Contar porcentualmente el número de recomendaciones que en efecto vió el usuario. La anterior será la métrica del nivel de acierto de las recomendaciones.**"
      ]
    }
  ]
}