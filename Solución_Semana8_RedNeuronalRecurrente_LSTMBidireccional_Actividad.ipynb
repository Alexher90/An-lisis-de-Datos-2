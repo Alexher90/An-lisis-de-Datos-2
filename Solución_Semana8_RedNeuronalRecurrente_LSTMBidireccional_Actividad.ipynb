{
  "nbformat": 4,
  "nbformat_minor": 0,
  "metadata": {
    "coursera": {
      "course_slug": "neural-networks-deep-learning",
      "graded_item_id": "wRuwL",
      "launcher_item_id": "NI888"
    },
    "kernelspec": {
      "display_name": "Python 3",
      "language": "python",
      "name": "python3"
    },
    "language_info": {
      "codemirror_mode": {
        "name": "ipython",
        "version": 3
      },
      "file_extension": ".py",
      "mimetype": "text/x-python",
      "name": "python",
      "nbconvert_exporter": "python",
      "pygments_lexer": "ipython3",
      "version": "3.5.5"
    },
    "colab": {
      "name": "Solución_Semana8_RedNeuronalRecurrente_LSTMBidireccional_Actividad.ipynb",
      "provenance": [],
      "collapsed_sections": [],
      "include_colab_link": true
    }
  },
  "cells": [
    {
      "cell_type": "markdown",
      "metadata": {
        "id": "view-in-github",
        "colab_type": "text"
      },
      "source": [
        "<a href=\"https://colab.research.google.com/github/Alexher90/An-lisis-de-Datos-2/blob/master/Soluci%C3%B3n_Semana8_RedNeuronalRecurrente_LSTMBidireccional_Actividad.ipynb\" target=\"_parent\"><img src=\"https://colab.research.google.com/assets/colab-badge.svg\" alt=\"Open In Colab\"/></a>"
      ]
    },
    {
      "cell_type": "markdown",
      "metadata": {
        "id": "f1XB7GSSuxjk"
      },
      "source": [
        "## MIIA-4203 MODELOS AVANZADOS PARA ANÁLISIS DE DATOS II\n",
        "\n",
        "\n",
        "# Red neuronal recurrente: LSTM bidireccional\n",
        "\n",
        "## Actividad 8\n",
        "\n",
        "### Profesor: Camilo Franco (c.franco31@uniandes.edu.co)\n",
        "\n",
        "## Actividad en grupos\n",
        "### Nombres:\n",
        "\n",
        "**Instrucciones:** Por favor escriba los nombres de los integrantes de su grupo. Esta actividad debe ser entregada a más tardar dentro de 8 días, con la respuesta para los ejercicios y preguntas en cada numeral.\n",
        "\n",
        "En este cuaderno vamos a implementar una red recurrente bi-direccional para la prediccion del sentimiento asociado con un comentario linguistico. Los comentarios con los que vamos a trabajar corresponden con opiniones sobre peliculas (https://ai.stanford.edu/~amaas/data/sentiment/)\n",
        "\n",
        "Finalmente tenemos un ejercicio donde podremos explorar distintos modelos de redes recurrentes (https://en.wikipedia.org/wiki/Recurrent_neural_network)\n",
        "\n",
        "Primero importemos las bibliotecas y paquetes que vamos a utilizar:"
      ]
    },
    {
      "cell_type": "markdown",
      "metadata": {
        "id": "bkKx7Xaevvmv"
      },
      "source": [
        "**Presentado por: Alexander Hernández Páez (200920588), Alexander Camargo (200911325), Juan David Cortés (201728568), Wilson Felipe González (200924943)**"
      ]
    },
    {
      "cell_type": "code",
      "metadata": {
        "id": "BMVkMO-Uuxjl"
      },
      "source": [
        "import numpy as np\n",
        "import keras\n",
        "from keras import layers\n",
        "from keras.models import load_model, Sequential\n",
        "\n",
        "import h5py\n",
        "import matplotlib.pyplot as plt\n",
        "from prettytable import PrettyTable\n",
        "\n",
        "from sklearn.model_selection import train_test_split\n",
        "from sklearn.metrics import confusion_matrix \n"
      ],
      "execution_count": 1,
      "outputs": []
    },
    {
      "cell_type": "markdown",
      "metadata": {
        "id": "w19uY42tuxjo"
      },
      "source": [
        "También definimos algunos parámetros para nuestra implementación, uno donde definimos el número máximo de términos a considerar (de todo nuestro vocabulario) y otro donde definimos la longitud máxima para un comentario:"
      ]
    },
    {
      "cell_type": "code",
      "metadata": {
        "id": "44W_vj_Zuxjo"
      },
      "source": [
        "max_features = 20000  # Considera las 20000 palabras más populares\n",
        "maxlen = 200  # Considera las primeras 200 palabras de cada comentario"
      ],
      "execution_count": 2,
      "outputs": []
    },
    {
      "cell_type": "markdown",
      "metadata": {
        "id": "kqvhE2swuxjq"
      },
      "source": [
        "Importemos los datos:"
      ]
    },
    {
      "cell_type": "code",
      "metadata": {
        "id": "GU98Ii6Juxjr",
        "outputId": "51d0bb27-d95c-4129-c199-c429f10d02b6",
        "colab": {
          "base_uri": "https://localhost:8080/",
          "height": 87
        }
      },
      "source": [
        "(x_train, y_train), (x_val, y_val) = keras.datasets.imdb.load_data(\n",
        "    num_words=max_features)\n",
        "\n",
        "print(len(x_train), \"secuencias de entrenamiento\")\n",
        "print(len(x_val), \"secuencias de validación\")\n",
        "\n",
        "x_train = keras.preprocessing.sequence.pad_sequences(x_train, maxlen=maxlen)\n",
        "x_val = keras.preprocessing.sequence.pad_sequences(x_val, maxlen=maxlen)"
      ],
      "execution_count": 3,
      "outputs": [
        {
          "output_type": "stream",
          "text": [
            "Downloading data from https://storage.googleapis.com/tensorflow/tf-keras-datasets/imdb.npz\n",
            "17465344/17464789 [==============================] - 0s 0us/step\n",
            "25000 secuencias de entrenamiento\n",
            "25000 secuencias de validación\n"
          ],
          "name": "stdout"
        }
      ]
    },
    {
      "cell_type": "markdown",
      "metadata": {
        "id": "KbUrUe4wuxjt"
      },
      "source": [
        "**Salida esperada:**\n",
        "\n",
        "25000 secuencias de entrenamiento\n",
        "\n",
        "25000 secuencias de validación"
      ]
    },
    {
      "cell_type": "markdown",
      "metadata": {
        "id": "EV_iCt5guxjt"
      },
      "source": [
        "Veamos en qué consiste la priemra observación de entrenamiento:"
      ]
    },
    {
      "cell_type": "code",
      "metadata": {
        "id": "-0WFM-Gbuxju",
        "outputId": "7c3fbcfb-539d-447d-9187-badf2144de77",
        "colab": {
          "base_uri": "https://localhost:8080/",
          "height": 425
        }
      },
      "source": [
        "x_train[0]"
      ],
      "execution_count": 4,
      "outputs": [
        {
          "output_type": "execute_result",
          "data": {
            "text/plain": [
              "array([    5,    25,   100,    43,   838,   112,    50,   670,     2,\n",
              "           9,    35,   480,   284,     5,   150,     4,   172,   112,\n",
              "         167,     2,   336,   385,    39,     4,   172,  4536,  1111,\n",
              "          17,   546,    38,    13,   447,     4,   192,    50,    16,\n",
              "           6,   147,  2025,    19,    14,    22,     4,  1920,  4613,\n",
              "         469,     4,    22,    71,    87,    12,    16,    43,   530,\n",
              "          38,    76,    15,    13,  1247,     4,    22,    17,   515,\n",
              "          17,    12,    16,   626,    18, 19193,     5,    62,   386,\n",
              "          12,     8,   316,     8,   106,     5,     4,  2223,  5244,\n",
              "          16,   480,    66,  3785,    33,     4,   130,    12,    16,\n",
              "          38,   619,     5,    25,   124,    51,    36,   135,    48,\n",
              "          25,  1415,    33,     6,    22,    12,   215,    28,    77,\n",
              "          52,     5,    14,   407,    16,    82, 10311,     8,     4,\n",
              "         107,   117,  5952,    15,   256,     4,     2,     7,  3766,\n",
              "           5,   723,    36,    71,    43,   530,   476,    26,   400,\n",
              "         317,    46,     7,     4, 12118,  1029,    13,   104,    88,\n",
              "           4,   381,    15,   297,    98,    32,  2071,    56,    26,\n",
              "         141,     6,   194,  7486,    18,     4,   226,    22,    21,\n",
              "         134,   476,    26,   480,     5,   144,    30,  5535,    18,\n",
              "          51,    36,    28,   224,    92,    25,   104,     4,   226,\n",
              "          65,    16,    38,  1334,    88,    12,    16,   283,     5,\n",
              "          16,  4472,   113,   103,    32,    15,    16,  5345,    19,\n",
              "         178,    32], dtype=int32)"
            ]
          },
          "metadata": {
            "tags": []
          },
          "execution_count": 4
        }
      ]
    },
    {
      "cell_type": "markdown",
      "metadata": {
        "id": "9dpohoYXuxjw"
      },
      "source": [
        "Podemos reconstruir cada comentario de acuerdo con el índice de cada término:"
      ]
    },
    {
      "cell_type": "code",
      "metadata": {
        "id": "WqLS09Gtuxjw",
        "outputId": "3d0464ee-7be3-46e0-cea4-9794f5e16e96",
        "colab": {
          "base_uri": "https://localhost:8080/",
          "height": 52
        }
      },
      "source": [
        "L = keras.datasets.imdb.get_word_index(path=\"imdb_word_index.json\")\n",
        "\n",
        "L = {k:(v+3) for k,v in L.items()}\n",
        "L[\"<PAD>\"] = 0\n",
        "L[\"<START>\"] = 1\n",
        "L[\"<UNK>\"] = 2\n",
        "L[\"<UNUSED>\"] = 3\n",
        "\n",
        "L_palabra = {value:key for key,value in L.items()}"
      ],
      "execution_count": 5,
      "outputs": [
        {
          "output_type": "stream",
          "text": [
            "Downloading data from https://storage.googleapis.com/tensorflow/tf-keras-datasets/imdb_word_index.json\n",
            "1646592/1641221 [==============================] - 0s 0us/step\n"
          ],
          "name": "stdout"
        }
      ]
    },
    {
      "cell_type": "markdown",
      "metadata": {
        "id": "zyisPr8Quxjz"
      },
      "source": [
        "Veamos el primer comentario de entrenamiento que es positivo:"
      ]
    },
    {
      "cell_type": "code",
      "metadata": {
        "id": "IWhw5TpKuxjz",
        "outputId": "c3e0ca8c-9007-4b62-a1cd-5ab604bbe510",
        "colab": {
          "base_uri": "https://localhost:8080/",
          "height": 72
        }
      },
      "source": [
        "print(\"El comentario: \", ' '.join(L_palabra[id] for id in x_train[0] ))\n",
        "print(\"Tiene un sentimiento asociado: \", y_train[0])"
      ],
      "execution_count": 6,
      "outputs": [
        {
          "output_type": "stream",
          "text": [
            "El comentario:  and you could just imagine being there robert <UNK> is an amazing actor and now the same being director <UNK> father came from the same scottish island as myself so i loved the fact there was a real connection with this film the witty remarks throughout the film were great it was just brilliant so much that i bought the film as soon as it was released for retail and would recommend it to everyone to watch and the fly fishing was amazing really cried at the end it was so sad and you know what they say if you cry at a film it must have been good and this definitely was also congratulations to the two little boy's that played the <UNK> of norman and paul they were just brilliant children are often left out of the praising list i think because the stars that play them all grown up are such a big profile for the whole film but these children are amazing and should be praised for what they have done don't you think the whole story was so lovely because it was true and was someone's life after all that was shared with us all\n",
            "Tiene un sentimiento asociado:  1\n"
          ],
          "name": "stdout"
        }
      ]
    },
    {
      "cell_type": "markdown",
      "metadata": {
        "id": "80b4LHA_uxj1"
      },
      "source": [
        "O un comentario negativo:"
      ]
    },
    {
      "cell_type": "code",
      "metadata": {
        "id": "MxENGZd-uxj1",
        "outputId": "76270f55-aa9c-41f6-96c9-9e26d9308032",
        "colab": {
          "base_uri": "https://localhost:8080/",
          "height": 72
        }
      },
      "source": [
        "print(\"El comentario: \", ' '.join(L_palabra[id] for id in x_train[1] ))\n",
        "print(\"Tiene un sentimiento asociado: \", y_train[1])"
      ],
      "execution_count": 7,
      "outputs": [
        {
          "output_type": "stream",
          "text": [
            "El comentario:  <PAD> <PAD> <PAD> <PAD> <PAD> <PAD> <PAD> <PAD> <PAD> <PAD> <PAD> <START> big hair big boobs bad music and a giant safety pin these are the words to best describe this terrible movie i love cheesy horror movies and i've seen hundreds but this had got to be on of the worst ever made the plot is paper thin and ridiculous the acting is an abomination the script is completely laughable the best is the end showdown with the cop and how he worked out who the killer is it's just so damn terribly written the clothes are sickening and funny in equal measures the hair is big lots of boobs bounce men wear those cut tee shirts that show off their <UNK> sickening that men actually wore them and the music is just <UNK> trash that plays over and over again in almost every scene there is trashy music boobs and <UNK> taking away bodies and the gym still doesn't close for <UNK> all joking aside this is a truly bad film whose only charm is to look back on the disaster that was the 80's and have a good old laugh at how bad everything was back then\n",
            "Tiene un sentimiento asociado:  0\n"
          ],
          "name": "stdout"
        }
      ]
    },
    {
      "cell_type": "markdown",
      "metadata": {
        "id": "PYiIuQ-Iuxj4"
      },
      "source": [
        "## 1. Red recurrente bi-direccional"
      ]
    },
    {
      "cell_type": "markdown",
      "metadata": {
        "id": "UN_jYISFuxj4"
      },
      "source": [
        "A continuación definimos la arquitectura de la red:"
      ]
    },
    {
      "cell_type": "code",
      "metadata": {
        "id": "prT0ne-Auxj5",
        "outputId": "0fbcead5-43d5-45db-cc37-ee194cc3ac3f",
        "colab": {
          "base_uri": "https://localhost:8080/",
          "height": 336
        }
      },
      "source": [
        "# Input con secuencias de enteros con longitud variable\n",
        "inputs = keras.Input(shape=(None,), dtype=\"int32\")\n",
        "\n",
        "# Conseguimos la representación vectorial (embedding) de cada entero en un vector 128-dimensional\n",
        "x = layers.Embedding(max_features, 128)(inputs)\n",
        "\n",
        "# Añadimos 2 unidades LSTM bidireccionales\n",
        "x = layers.Bidirectional(layers.LSTM(64, return_sequences=True))(x)\n",
        "x = layers.Bidirectional(layers.LSTM(64))(x)\n",
        "\n",
        "# Añadimos un clasificador binario en la salida\n",
        "outputs = layers.Dense(1, activation=\"sigmoid\")(x)\n",
        "\n",
        "# Gaurdamos la arquitectura del modelo\n",
        "model1 = keras.Model(inputs, outputs)\n",
        "model1.summary()"
      ],
      "execution_count": 8,
      "outputs": [
        {
          "output_type": "stream",
          "text": [
            "Model: \"functional_1\"\n",
            "_________________________________________________________________\n",
            "Layer (type)                 Output Shape              Param #   \n",
            "=================================================================\n",
            "input_1 (InputLayer)         [(None, None)]            0         \n",
            "_________________________________________________________________\n",
            "embedding (Embedding)        (None, None, 128)         2560000   \n",
            "_________________________________________________________________\n",
            "bidirectional (Bidirectional (None, None, 128)         98816     \n",
            "_________________________________________________________________\n",
            "bidirectional_1 (Bidirection (None, 128)               98816     \n",
            "_________________________________________________________________\n",
            "dense (Dense)                (None, 1)                 129       \n",
            "=================================================================\n",
            "Total params: 2,757,761\n",
            "Trainable params: 2,757,761\n",
            "Non-trainable params: 0\n",
            "_________________________________________________________________\n"
          ],
          "name": "stdout"
        }
      ]
    },
    {
      "cell_type": "code",
      "metadata": {
        "id": "rVIszwHXuxj6",
        "outputId": "5c216129-89ee-4eef-a0a1-07e50b7a6b05",
        "colab": {
          "base_uri": "https://localhost:8080/",
          "height": 514
        }
      },
      "source": [
        "# Inicializamos la tabla donde guardamos los resultados\n",
        "x = PrettyTable([\"Exac_E\", \"Exac_V\", \"Exac_P\"])\n",
        "\n",
        "# Definimos el número máximo de iteraciones (épocas de la red)\n",
        "epocas=3\n",
        "\n",
        "# Definimos los parametros del Adam\n",
        "adam = keras.optimizers.Adam(lr=0.001, beta_1=0.9, beta_2=0.999)\n",
        "\n",
        "# Inicializamos el error \n",
        "err_p = 999\n",
        "\n",
        "for i in range(0,3,1):\n",
        "    r = i^3\n",
        "    CE_x, CV_x, CE_y, CV_y = train_test_split(x_train, y_train, test_size = 0.5, random_state = r)\n",
        "          \n",
        "    # Definimos el método de optimización con respecto a su funcion de perdida (además guardamos la exactitud para cada iteracion)\n",
        "    model = keras.Model(inputs, outputs)\n",
        "    model.compile(loss='binary_crossentropy', optimizer=adam, metrics=['accuracy'])\n",
        "    \n",
        "    # Ajustamos el modelo\n",
        "    history=model.fit(x=CE_x, y=CE_y, epochs=epocas, validation_data=(CV_x, CV_y), verbose=1, shuffle=False)\n",
        "      \n",
        "    # Calculamos las metricas\n",
        "    train_metrics = model.evaluate(x=CE_x, y=CE_y, verbose=0)\n",
        "    valid_metrics = model.evaluate(x=CV_x, y=CV_y, verbose=0)\n",
        "    test_metrics = model.evaluate(x=x_val, y=y_val, verbose=0)\n",
        "    \n",
        "    # Guardamos las métricas de desempeño\n",
        "    accu_e = train_metrics[1]\n",
        "    loss_e = train_metrics[0]\n",
        "    accu_v = valid_metrics[1]\n",
        "    loss_v = valid_metrics[0]\n",
        "    accu_p = test_metrics[1]\n",
        "    loss_p = test_metrics[0]\n",
        "    \n",
        "    if (loss_p < err_p):\n",
        "        pathr =('BRNN_part='+str(r)+'.h5')\n",
        "        model.save(pathr) \n",
        "        err_p = loss_p\n",
        "    \n",
        "    # Imprimimos el desempeño para cada repetición\n",
        "    print('Desempeño (exactitud): accu_v1='+str(accu_v) +' , accu_v2='+str(accu_p))\n",
        "    \n",
        "    x.add_row([np.round(accu_e,4), np.round(accu_v,4), np.round(accu_p,4)])\n",
        "\n",
        "print(x)\n"
      ],
      "execution_count": 9,
      "outputs": [
        {
          "output_type": "stream",
          "text": [
            "Epoch 1/3\n",
            "391/391 [==============================] - 224s 572ms/step - loss: 0.4384 - accuracy: 0.7929 - val_loss: 0.3446 - val_accuracy: 0.8516\n",
            "Epoch 2/3\n",
            "391/391 [==============================] - 232s 593ms/step - loss: 0.2121 - accuracy: 0.9206 - val_loss: 0.4045 - val_accuracy: 0.8272\n",
            "Epoch 3/3\n",
            "391/391 [==============================] - 224s 572ms/step - loss: 0.1357 - accuracy: 0.9519 - val_loss: 0.4200 - val_accuracy: 0.8446\n",
            "Desempeño (exactitud): accu_v1=0.8445600271224976 , accu_v2=0.8376399874687195\n",
            "Epoch 1/3\n",
            "391/391 [==============================] - 220s 562ms/step - loss: 0.2342 - accuracy: 0.9148 - val_loss: 0.2217 - val_accuracy: 0.9162\n",
            "Epoch 2/3\n",
            "391/391 [==============================] - 219s 559ms/step - loss: 0.1305 - accuracy: 0.9530 - val_loss: 0.3215 - val_accuracy: 0.9074\n",
            "Epoch 3/3\n",
            "391/391 [==============================] - 219s 560ms/step - loss: 0.0728 - accuracy: 0.9778 - val_loss: 0.3265 - val_accuracy: 0.9073\n",
            "Desempeño (exactitud): accu_v1=0.9072800278663635 , accu_v2=0.8485999703407288\n",
            "Epoch 1/3\n",
            "391/391 [==============================] - 225s 575ms/step - loss: 0.2878 - accuracy: 0.8841 - val_loss: 0.3491 - val_accuracy: 0.8422\n",
            "Epoch 2/3\n",
            "391/391 [==============================] - 224s 573ms/step - loss: 0.2463 - accuracy: 0.9050 - val_loss: 0.4034 - val_accuracy: 0.8271\n",
            "Epoch 3/3\n",
            "391/391 [==============================] - 221s 564ms/step - loss: 0.1683 - accuracy: 0.9375 - val_loss: 0.2462 - val_accuracy: 0.9031\n",
            "Desempeño (exactitud): accu_v1=0.9031199812889099 , accu_v2=0.8402799963951111\n",
            "+--------+--------+--------+\n",
            "| Exac_E | Exac_V | Exac_P |\n",
            "+--------+--------+--------+\n",
            "| 0.979  | 0.8446 | 0.8376 |\n",
            "| 0.9941 | 0.9073 | 0.8486 |\n",
            "| 0.9696 | 0.9031 | 0.8403 |\n",
            "+--------+--------+--------+\n"
          ],
          "name": "stdout"
        }
      ]
    },
    {
      "cell_type": "code",
      "metadata": {
        "id": "TlLr15_vuxj8",
        "outputId": "7c87ac01-2986-43b5-bf01-381dd13bdc8c",
        "colab": {
          "base_uri": "https://localhost:8080/",
          "height": 573
        }
      },
      "source": [
        "plt.figure(1)\n",
        "plt.plot(history.history['accuracy'])  \n",
        "plt.plot(history.history['val_accuracy'])  \n",
        "plt.title('Exactitud')  \n",
        "plt.ylabel('Acc')  \n",
        "plt.xlabel('Epoca')  \n",
        "plt.legend(['Entreno', 'Validacion'], loc='lower right')\n",
        "plt.show()\n",
        "\n",
        "plt.figure(1) \n",
        "plt.plot(history.history['loss'])  \n",
        "plt.plot(history.history['val_loss'])  \n",
        "plt.title('Pérdida')  \n",
        "plt.ylabel('Pérdida')  \n",
        "plt.xlabel('Epoca')  \n",
        "plt.legend(['Entreno', 'Validación'], loc='upper right')  \n",
        "plt.show()"
      ],
      "execution_count": 10,
      "outputs": [
        {
          "output_type": "display_data",
          "data": {
            "image/png": "[encoded data removed]",
            "text/plain": [
              "<Figure size 432x288 with 1 Axes>"
            ]
          },
          "metadata": {
            "tags": [],
            "needs_background": "light"
          }
        },
        {
          "output_type": "display_data",
          "data": {
            "image/png": "[encoded data removed]",
            "text/plain": [
              "<Figure size 432x288 with 1 Axes>"
            ]
          },
          "metadata": {
            "tags": [],
            "needs_background": "light"
          }
        }
      ]
    },
    {
      "cell_type": "markdown",
      "metadata": {
        "id": "Ug0I0Lapuxj-"
      },
      "source": [
        "Recuperamos el mejor modelo:"
      ]
    },
    {
      "cell_type": "code",
      "metadata": {
        "id": "5N8JILiFuxj-",
        "outputId": "b776eb15-d437-4e44-8d6c-01a528ae0605",
        "colab": {
          "base_uri": "https://localhost:8080/",
          "height": 336
        }
      },
      "source": [
        "# B-RNN LSTM\n",
        "model_brnn = load_model('BRNN_part=3.h5')\n",
        "\n",
        "model_brnn.summary()"
      ],
      "execution_count": 11,
      "outputs": [
        {
          "output_type": "stream",
          "text": [
            "Model: \"functional_3\"\n",
            "_________________________________________________________________\n",
            "Layer (type)                 Output Shape              Param #   \n",
            "=================================================================\n",
            "input_1 (InputLayer)         [(None, None)]            0         \n",
            "_________________________________________________________________\n",
            "embedding (Embedding)        (None, None, 128)         2560000   \n",
            "_________________________________________________________________\n",
            "bidirectional (Bidirectional (None, None, 128)         98816     \n",
            "_________________________________________________________________\n",
            "bidirectional_1 (Bidirection (None, 128)               98816     \n",
            "_________________________________________________________________\n",
            "dense (Dense)                (None, 1)                 129       \n",
            "=================================================================\n",
            "Total params: 2,757,761\n",
            "Trainable params: 2,757,761\n",
            "Non-trainable params: 0\n",
            "_________________________________________________________________\n"
          ],
          "name": "stdout"
        }
      ]
    },
    {
      "cell_type": "markdown",
      "metadata": {
        "id": "zpgLsRTUuxkA"
      },
      "source": [
        "Replicamos los resultados obtenidos anteriormente:"
      ]
    },
    {
      "cell_type": "code",
      "metadata": {
        "id": "OW0AwcjSuxkA",
        "outputId": "3e05883c-e803-40e3-9641-324c2bdc0301",
        "colab": {
          "base_uri": "https://localhost:8080/",
          "height": 70
        }
      },
      "source": [
        "Y_predt = model_brnn.predict(x_train)\n",
        "Y_predst = (Y_predt > 0.5)\n",
        "\n",
        "print(confusion_matrix(y_train, Y_predst))\n",
        "print(\"Exactitud: \", model_brnn.evaluate(x=x_train, y=y_train, verbose=0)[1])"
      ],
      "execution_count": 14,
      "outputs": [
        {
          "output_type": "stream",
          "text": [
            "[[11114  1386]\n",
            " [  819 11681]]\n",
            "Exactitud:  0.9118000268936157\n"
          ],
          "name": "stdout"
        }
      ]
    },
    {
      "cell_type": "markdown",
      "metadata": {
        "id": "Rz0ZKtv6uxkC"
      },
      "source": [
        "Reportamos el desempeño del modelo con los datos de prueba (fuera de la muestra):"
      ]
    },
    {
      "cell_type": "code",
      "metadata": {
        "id": "vfPQ2WmtuxkD",
        "outputId": "71587477-9ba2-499a-bbc1-76d673098ae7",
        "colab": {
          "base_uri": "https://localhost:8080/",
          "height": 70
        }
      },
      "source": [
        "Y_predv = model_brnn.predict(x_val)\n",
        "Y_predsv = (Y_predv > 0.5)\n",
        "\n",
        "print(confusion_matrix(y_val, Y_predsv))\n",
        "print(\"Exactitud: \", model_brnn.evaluate(x=x_val, y=y_val, verbose=0)[1])"
      ],
      "execution_count": 15,
      "outputs": [
        {
          "output_type": "stream",
          "text": [
            "[[10050  2450]\n",
            " [ 1609 10891]]\n",
            "Exactitud:  0.8376399874687195\n"
          ],
          "name": "stdout"
        }
      ]
    },
    {
      "cell_type": "markdown",
      "metadata": {
        "id": "l8GsrZxIuxkF"
      },
      "source": [
        "## Ejercicio 1.1\n",
        "\n",
        "Desarrolle un modelo de red neuronal recurrente uni-direccional para comparar los resultados obtenidos con esta red recurrente bi-direccional.\n",
        "\n",
        "Puede explorar una red recurrente simple, LSTM ó GRU, o cualquier otro tipo de red que desee explorar que contenga al menos una capa de tipo recurrente (ver por ejemplo: https://keras.io/api/layers/#recurrent-layers).\n",
        "\n",
        "Compare los resultados sobre los datos de prueba y analice el desempeño de su modelo."
      ]
    },
    {
      "cell_type": "markdown",
      "metadata": {
        "id": "qhRwlNYwmdfW"
      },
      "source": [
        "**Para este ejercicio, usamos una red recurrente GRU uni-direccional con activación Tangente Hiperbólica.**\n",
        "\n",
        "**Según el resultado obtenido en la prueba, este modelo nos genera un accuracy de un punto porcentual por encima con respecto al modelo LSTM bidireccional. Adicionalemnte, incrementamos el rango de iteraciones en la validación cruzada y el parámetro beta_2 del optimizador lo redujimos de 0.99 a 0.8.**\n",
        "\n",
        "**El resultado del modelo mejoró notablemente el accuracy del anterior modelo y mantuvo la función de pérdida en un nivel significativamente bajo.**"
      ]
    },
    {
      "cell_type": "code",
      "metadata": {
        "id": "uf3kmQFXuxkF",
        "outputId": "421562f4-24b1-4ce9-ba74-ff271e9c7fe5",
        "colab": {
          "base_uri": "https://localhost:8080/",
          "height": 301
        }
      },
      "source": [
        "# Input con secuencias de enteros con longitud variable\n",
        "inputs = keras.Input(shape=(None,), dtype=\"int32\")\n",
        "\n",
        "# Conseguimos la representación vectorial (embedding) de cada entero en un vector 128-dimensional\n",
        "z = layers.Embedding(max_features, 128)(inputs)\n",
        "\n",
        "# Añadimos 1 unidad GRU con activación Tangente Hiperbólica:\n",
        "z = layers.GRU(64, activation = \"tanh\", return_sequences=False)(z)\n",
        "\n",
        "# Añadimos un clasificador binario en la salida\n",
        "outputs = layers.Dense(1, activation=\"sigmoid\")(z)\n",
        "\n",
        "# Guardamos la arquitectura del modelo\n",
        "model1 = keras.Model(inputs, outputs)\n",
        "model1.summary()"
      ],
      "execution_count": 21,
      "outputs": [
        {
          "output_type": "stream",
          "text": [
            "Model: \"functional_11\"\n",
            "_________________________________________________________________\n",
            "Layer (type)                 Output Shape              Param #   \n",
            "=================================================================\n",
            "input_4 (InputLayer)         [(None, None)]            0         \n",
            "_________________________________________________________________\n",
            "embedding_3 (Embedding)      (None, None, 128)         2560000   \n",
            "_________________________________________________________________\n",
            "gru_4 (GRU)                  (None, 64)                37248     \n",
            "_________________________________________________________________\n",
            "dense_8 (Dense)              (None, 1)                 65        \n",
            "=================================================================\n",
            "Total params: 2,597,313\n",
            "Trainable params: 2,597,313\n",
            "Non-trainable params: 0\n",
            "_________________________________________________________________\n"
          ],
          "name": "stdout"
        }
      ]
    },
    {
      "cell_type": "code",
      "metadata": {
        "id": "WTSFolB4_T5k",
        "outputId": "ad6db9b7-5be2-4035-fb93-f18e4faa409c",
        "colab": {
          "base_uri": "https://localhost:8080/",
          "height": 656
        }
      },
      "source": [
        "# Inicializamos la tabla donde guardamos los resultados\n",
        "z = PrettyTable([\"Exac_E\", \"Exac_V\", \"Exac_P\"])\n",
        "\n",
        "# Definimos el número máximo de iteraciones (épocas de la red)\n",
        "epocas=3\n",
        "\n",
        "# Definimos los parametros del Adam\n",
        "adam = keras.optimizers.Adam(lr=0.001, beta_1=0.9, beta_2=0.8)\n",
        "\n",
        "# Inicializamos el error \n",
        "err_p = 999\n",
        "\n",
        "for i in range(0,4,1):\n",
        "    r = i^4\n",
        "    CE_x, CV_x, CE_y, CV_y = train_test_split(x_train, y_train, test_size = 0.5, random_state = r)\n",
        "          \n",
        "    # Definimos el método de optimización con respecto a su funcion de perdida (además guardamos la exactitud para cada iteracion)\n",
        "    model = keras.Model(inputs, outputs)\n",
        "    model.compile(loss='binary_crossentropy', optimizer=adam, metrics=['accuracy'])\n",
        "    \n",
        "    # Ajustamos el modelo\n",
        "    history=model.fit(x=CE_x, y=CE_y, epochs=epocas, validation_data=(CV_x, CV_y), verbose=1, shuffle=False)\n",
        "      \n",
        "    # Calculamos las metricas\n",
        "    train_metrics = model.evaluate(x=CE_x, y=CE_y, verbose=0)\n",
        "    valid_metrics = model.evaluate(x=CV_x, y=CV_y, verbose=0)\n",
        "    test_metrics = model.evaluate(x=x_val, y=y_val, verbose=0)\n",
        "    \n",
        "    # Guardamos las métricas de desempeño\n",
        "    accu_e = train_metrics[1]\n",
        "    loss_e = train_metrics[0]\n",
        "    accu_v = valid_metrics[1]\n",
        "    loss_v = valid_metrics[0]\n",
        "    accu_p = test_metrics[1]\n",
        "    loss_p = test_metrics[0]\n",
        "    \n",
        "    if (loss_p < err_p):\n",
        "        pathr =('BRNN_part='+str(r)+'.h5')\n",
        "        model.save(pathr) \n",
        "        err_p = loss_p\n",
        "    \n",
        "    # Imprimimos el desempeño para cada repetición\n",
        "    print('Desempeño (exactitud): accu_v1='+str(accu_v) +' , accu_v2='+str(accu_p))\n",
        "    \n",
        "    z.add_row([np.round(accu_e,4), np.round(accu_v,4), np.round(accu_p,4)])\n",
        "\n",
        "print(z)"
      ],
      "execution_count": 28,
      "outputs": [
        {
          "output_type": "stream",
          "text": [
            "Epoch 1/3\n",
            "391/391 [==============================] - 64s 163ms/step - loss: 0.0135 - accuracy: 0.9967 - val_loss: 0.0700 - val_accuracy: 0.9814\n",
            "Epoch 2/3\n",
            "391/391 [==============================] - 64s 164ms/step - loss: 0.0049 - accuracy: 0.9991 - val_loss: 0.0889 - val_accuracy: 0.9777\n",
            "Epoch 3/3\n",
            "391/391 [==============================] - 64s 164ms/step - loss: 0.0035 - accuracy: 0.9989 - val_loss: 0.2412 - val_accuracy: 0.9466\n",
            "Desempeño (exactitud): accu_v1=0.9466400146484375 , accu_v2=0.8102399706840515\n",
            "Epoch 1/3\n",
            "391/391 [==============================] - 65s 166ms/step - loss: 0.0490 - accuracy: 0.9854 - val_loss: 0.0413 - val_accuracy: 0.9872\n",
            "Epoch 2/3\n",
            "391/391 [==============================] - 65s 166ms/step - loss: 0.0053 - accuracy: 0.9984 - val_loss: 0.0611 - val_accuracy: 0.9844\n",
            "Epoch 3/3\n",
            "391/391 [==============================] - 65s 167ms/step - loss: 0.0039 - accuracy: 0.9984 - val_loss: 0.0699 - val_accuracy: 0.9833\n",
            "Desempeño (exactitud): accu_v1=0.9832800030708313 , accu_v2=0.8512399792671204\n",
            "Epoch 1/3\n",
            "391/391 [==============================] - 68s 173ms/step - loss: 0.0332 - accuracy: 0.9906 - val_loss: 0.0289 - val_accuracy: 0.9923\n",
            "Epoch 2/3\n",
            "391/391 [==============================] - 65s 167ms/step - loss: 0.0049 - accuracy: 0.9983 - val_loss: 0.0417 - val_accuracy: 0.9902\n",
            "Epoch 3/3\n",
            "391/391 [==============================] - 65s 166ms/step - loss: 7.9128e-04 - accuracy: 0.9997 - val_loss: 0.0684 - val_accuracy: 0.9878\n",
            "Desempeño (exactitud): accu_v1=0.9878399968147278 , accu_v2=0.8530399799346924\n",
            "Epoch 1/3\n",
            "391/391 [==============================] - 68s 173ms/step - loss: 0.0294 - accuracy: 0.9940 - val_loss: 0.0219 - val_accuracy: 0.9942\n",
            "Epoch 2/3\n",
            "391/391 [==============================] - 70s 179ms/step - loss: 0.0041 - accuracy: 0.9989 - val_loss: 0.0433 - val_accuracy: 0.9917\n",
            "Epoch 3/3\n",
            "391/391 [==============================] - 66s 169ms/step - loss: 5.5076e-04 - accuracy: 0.9998 - val_loss: 0.0374 - val_accuracy: 0.9920\n",
            "Desempeño (exactitud): accu_v1=0.9919999837875366 , accu_v2=0.8470399975776672\n",
            "+--------+--------+--------+\n",
            "| Exac_E | Exac_V | Exac_P |\n",
            "+--------+--------+--------+\n",
            "| 0.9951 | 0.9466 | 0.8102 |\n",
            "| 0.9999 | 0.9833 | 0.8512 |\n",
            "| 0.9999 | 0.9878 | 0.853  |\n",
            "| 0.9999 | 0.992  | 0.847  |\n",
            "+--------+--------+--------+\n"
          ],
          "name": "stdout"
        }
      ]
    },
    {
      "cell_type": "code",
      "metadata": {
        "id": "wzgbc9ZiDq1l",
        "outputId": "31aa0b58-c52c-4acc-d86f-0d5107f1fa7d",
        "colab": {
          "base_uri": "https://localhost:8080/",
          "height": 573
        }
      },
      "source": [
        "plt.figure(1)\n",
        "plt.plot(history.history['accuracy'])  \n",
        "plt.plot(history.history['val_accuracy'])  \n",
        "plt.title('Exactitud')  \n",
        "plt.ylabel('Acc')  \n",
        "plt.xlabel('Epoca')  \n",
        "plt.legend(['Entreno', 'Validacion'], loc='lower right')\n",
        "plt.show()\n",
        "\n",
        "plt.figure(1) \n",
        "plt.plot(history.history['loss'])  \n",
        "plt.plot(history.history['val_loss'])  \n",
        "plt.title('Pérdida')  \n",
        "plt.ylabel('Pérdida')  \n",
        "plt.xlabel('Epoca')  \n",
        "plt.legend(['Entreno', 'Validación'], loc='upper right')  \n",
        "plt.show()"
      ],
      "execution_count": 29,
      "outputs": [
        {
          "output_type": "display_data",
          "data": {
            "image/png": "[encoded data removed]",
            "text/plain": [
              "<Figure size 432x288 with 1 Axes>"
            ]
          },
          "metadata": {
            "tags": [],
            "needs_background": "light"
          }
        },
        {
          "output_type": "display_data",
          "data": {
            "image/png": "[encoded data removed]",
            "text/plain": [
              "<Figure size 432x288 with 1 Axes>"
            ]
          },
          "metadata": {
            "tags": [],
            "needs_background": "light"
          }
        }
      ]
    },
    {
      "cell_type": "markdown",
      "metadata": {
        "id": "exRp-1JtuxkH"
      },
      "source": [
        "## Ejercicio 1.2\n",
        "\n",
        "Desarrolle otro modelo de red neuronal (de libre elección) para mejorar los resultados obtenidos con el mejor modelo obtenido hasta ahora.\n",
        "\n",
        "Puede explorar una red recurrente simple, LSTM, GRU, o cualquier otro tipo de red (CNN, CNN-LSTM, ...)\n",
        "\n",
        "Compare los resultados sobre los datos de prueba y analice el desempeño de su modelo. Concluya y proponga estrategias para seguir mejorando los resultados."
      ]
    },
    {
      "cell_type": "markdown",
      "metadata": {
        "id": "kew3iS7V94t1"
      },
      "source": [
        "**Para este ejercicio, usamos una red recurrente GRU bidireccional con activación sigmoide. El beta_2 lo disminuimos de 0.99 a 0.8 y adicionamos un rango de iteraciones.**\n",
        "\n",
        "**Podemos ver adicionalmente que este modelo, en las primeras 3 iteraciones, tiene un resultado levemente mejor que el modelo GRU unidireccional, por lo que podemos concluir que este modelo es el que mejor desempeño de accuracy obtuvo, a pesar que el anterior modelo tuvo un mejor rendimiento en la función de pérdida. Por otro lado, pudimos evidenciar que la red recurrente GRU tuvo resultados levemente mejores que el LSTM, tanto para la ocación en que se usó de manera unidireccional como también bidireccional.**\n",
        "\n",
        "**Con el fin de mejorar el desempeño de la red, se recomienda mantener 3 iteraciones por ejercicio y disminuir el beta_2. Adicionalmente, se debería experimentar los ejercicios tanto para la activación sigmoide como activación de tangente hiperbólica, a pesar que no se puede concluir que alguna de estas dos activaciones sea mejor que la otra.**"
      ]
    },
    {
      "cell_type": "code",
      "metadata": {
        "id": "RUXQeVjcuxkH",
        "outputId": "3bd3b373-cbf1-421c-db54-2a0885fca26b",
        "colab": {
          "base_uri": "https://localhost:8080/",
          "height": 336
        }
      },
      "source": [
        "# Input con secuencias de enteros con longitud variable\n",
        "inputs = keras.Input(shape=(None,), dtype=\"int32\")\n",
        "\n",
        "# Conseguimos la representación vectorial (embedding) de cada entero en un vector 128-dimensional\n",
        "x = layers.Embedding(max_features, 128)(inputs)\n",
        "\n",
        "# Añadimos 2 unidades GRU bidireccionales\n",
        "x = layers.Bidirectional(layers.GRU(64, return_sequences=True))(x)\n",
        "x = layers.Bidirectional(layers.GRU(64))(x)\n",
        "\n",
        "# Añadimos un clasificador binario en la salida\n",
        "outputs = layers.Dense(1, activation=\"sigmoid\")(x)\n",
        "\n",
        "# Gaurdamos la arquitectura del modelo\n",
        "model1 = keras.Model(inputs, outputs)\n",
        "model1.summary()"
      ],
      "execution_count": 34,
      "outputs": [
        {
          "output_type": "stream",
          "text": [
            "Model: \"functional_35\"\n",
            "_________________________________________________________________\n",
            "Layer (type)                 Output Shape              Param #   \n",
            "=================================================================\n",
            "input_5 (InputLayer)         [(None, None)]            0         \n",
            "_________________________________________________________________\n",
            "embedding_4 (Embedding)      (None, None, 128)         2560000   \n",
            "_________________________________________________________________\n",
            "bidirectional (Bidirectional (None, None, 128)         74496     \n",
            "_________________________________________________________________\n",
            "bidirectional_1 (Bidirection (None, 128)               74496     \n",
            "_________________________________________________________________\n",
            "dense_19 (Dense)             (None, 1)                 129       \n",
            "=================================================================\n",
            "Total params: 2,709,121\n",
            "Trainable params: 2,709,121\n",
            "Non-trainable params: 0\n",
            "_________________________________________________________________\n"
          ],
          "name": "stdout"
        }
      ]
    },
    {
      "cell_type": "code",
      "metadata": {
        "id": "ppoeJrfIMl7a",
        "outputId": "c5d9a2d8-6f5c-41b4-8d2f-afc47aaf8011",
        "colab": {
          "base_uri": "https://localhost:8080/",
          "height": 656
        }
      },
      "source": [
        "# Inicializamos la tabla donde guardamos los resultados\n",
        "x = PrettyTable([\"Exac_E\", \"Exac_V\", \"Exac_P\"])\n",
        "\n",
        "# Definimos el número máximo de iteraciones (épocas de la red)\n",
        "epocas=3\n",
        "\n",
        "# Definimos los parametros del Adam\n",
        "adam = keras.optimizers.Adam(lr=0.001, beta_1=0.9, beta_2=0.8)\n",
        "\n",
        "# Inicializamos el error \n",
        "err_p = 999\n",
        "\n",
        "for i in range(0,4,1):\n",
        "    r = i^4\n",
        "    CE_x, CV_x, CE_y, CV_y = train_test_split(x_train, y_train, test_size = 0.5, random_state = r)\n",
        "          \n",
        "    # Definimos el método de optimización con respecto a su funcion de perdida (además guardamos la exactitud para cada iteracion)\n",
        "    model = keras.Model(inputs, outputs)\n",
        "    model.compile(loss='binary_crossentropy', optimizer=adam, metrics=['accuracy'])\n",
        "    \n",
        "    # Ajustamos el modelo\n",
        "    history=model.fit(x=CE_x, y=CE_y, epochs=epocas, validation_data=(CV_x, CV_y), verbose=1, shuffle=False)\n",
        "      \n",
        "    # Calculamos las metricas\n",
        "    train_metrics = model.evaluate(x=CE_x, y=CE_y, verbose=0)\n",
        "    valid_metrics = model.evaluate(x=CV_x, y=CV_y, verbose=0)\n",
        "    test_metrics = model.evaluate(x=x_val, y=y_val, verbose=0)\n",
        "    \n",
        "    # Guardamos las métricas de desempeño\n",
        "    accu_e = train_metrics[1]\n",
        "    loss_e = train_metrics[0]\n",
        "    accu_v = valid_metrics[1]\n",
        "    loss_v = valid_metrics[0]\n",
        "    accu_p = test_metrics[1]\n",
        "    loss_p = test_metrics[0]\n",
        "    \n",
        "    if (loss_p < err_p):\n",
        "        pathr =('BRNN_part='+str(r)+'.h5')\n",
        "        model.save(pathr) \n",
        "        err_p = loss_p\n",
        "    \n",
        "    # Imprimimos el desempeño para cada repetición\n",
        "    print('Desempeño (exactitud): accu_v1='+str(accu_v) +' , accu_v2='+str(accu_p))\n",
        "    \n",
        "    x.add_row([np.round(accu_e,4), np.round(accu_v,4), np.round(accu_p,4)])\n",
        "\n",
        "print(x)\n"
      ],
      "execution_count": 35,
      "outputs": [
        {
          "output_type": "stream",
          "text": [
            "Epoch 1/3\n",
            "391/391 [==============================] - 208s 532ms/step - loss: 0.4706 - accuracy: 0.7593 - val_loss: 0.3701 - val_accuracy: 0.8438\n",
            "Epoch 2/3\n",
            "391/391 [==============================] - 207s 530ms/step - loss: 0.2149 - accuracy: 0.9157 - val_loss: 0.3676 - val_accuracy: 0.8622\n",
            "Epoch 3/3\n",
            "391/391 [==============================] - 208s 533ms/step - loss: 0.1187 - accuracy: 0.9581 - val_loss: 0.4411 - val_accuracy: 0.8307\n",
            "Desempeño (exactitud): accu_v1=0.8307200074195862 , accu_v2=0.8203999996185303\n",
            "Epoch 1/3\n",
            "391/391 [==============================] - 210s 538ms/step - loss: 0.2097 - accuracy: 0.9212 - val_loss: 0.1834 - val_accuracy: 0.9346\n",
            "Epoch 2/3\n",
            "391/391 [==============================] - 206s 527ms/step - loss: 0.0919 - accuracy: 0.9688 - val_loss: 0.2843 - val_accuracy: 0.8966\n",
            "Epoch 3/3\n",
            "391/391 [==============================] - 208s 533ms/step - loss: 0.0377 - accuracy: 0.9874 - val_loss: 0.3208 - val_accuracy: 0.9109\n",
            "Desempeño (exactitud): accu_v1=0.9108800292015076 , accu_v2=0.8515599966049194\n",
            "Epoch 1/3\n",
            "391/391 [==============================] - 210s 538ms/step - loss: 0.1337 - accuracy: 0.9543 - val_loss: 0.1313 - val_accuracy: 0.9538\n",
            "Epoch 2/3\n",
            "391/391 [==============================] - 208s 531ms/step - loss: 0.0438 - accuracy: 0.9865 - val_loss: 0.2212 - val_accuracy: 0.9374\n",
            "Epoch 3/3\n",
            "391/391 [==============================] - 208s 531ms/step - loss: 0.0178 - accuracy: 0.9947 - val_loss: 0.3215 - val_accuracy: 0.9298\n",
            "Desempeño (exactitud): accu_v1=0.9297599792480469 , accu_v2=0.8503599762916565\n",
            "Epoch 1/3\n",
            "391/391 [==============================] - 207s 530ms/step - loss: 0.0905 - accuracy: 0.9708 - val_loss: 0.0945 - val_accuracy: 0.9674\n",
            "Epoch 2/3\n",
            "391/391 [==============================] - 205s 523ms/step - loss: 0.0265 - accuracy: 0.9925 - val_loss: 0.1789 - val_accuracy: 0.9517\n",
            "Epoch 3/3\n",
            "391/391 [==============================] - 205s 524ms/step - loss: 0.0099 - accuracy: 0.9972 - val_loss: 0.4079 - val_accuracy: 0.9322\n",
            "Desempeño (exactitud): accu_v1=0.9322400093078613 , accu_v2=0.8223199844360352\n",
            "+--------+--------+--------+\n",
            "| Exac_E | Exac_V | Exac_P |\n",
            "+--------+--------+--------+\n",
            "| 0.9818 | 0.8307 | 0.8204 |\n",
            "| 0.998  | 0.9109 | 0.8516 |\n",
            "| 0.9982 | 0.9298 | 0.8504 |\n",
            "| 0.9899 | 0.9322 | 0.8223 |\n",
            "+--------+--------+--------+\n"
          ],
          "name": "stdout"
        }
      ]
    },
    {
      "cell_type": "code",
      "metadata": {
        "id": "8T7XNhF45vAs",
        "outputId": "1bf38040-ec53-4d84-bcd2-8d497fe1050d",
        "colab": {
          "base_uri": "https://localhost:8080/",
          "height": 573
        }
      },
      "source": [
        "plt.figure(1)\n",
        "plt.plot(history.history['accuracy'])  \n",
        "plt.plot(history.history['val_accuracy'])  \n",
        "plt.title('Exactitud')  \n",
        "plt.ylabel('Acc')  \n",
        "plt.xlabel('Epoca')  \n",
        "plt.legend(['Entreno', 'Validacion'], loc='lower right')\n",
        "plt.show()\n",
        "\n",
        "plt.figure(1) \n",
        "plt.plot(history.history['loss'])  \n",
        "plt.plot(history.history['val_loss'])  \n",
        "plt.title('Pérdida')  \n",
        "plt.ylabel('Pérdida')  \n",
        "plt.xlabel('Epoca')  \n",
        "plt.legend(['Entreno', 'Validación'], loc='upper right')  \n",
        "plt.show()"
      ],
      "execution_count": 36,
      "outputs": [
        {
          "output_type": "display_data",
          "data": {
            "image/png": "[encoded data removed]",
            "text/plain": [
              "<Figure size 432x288 with 1 Axes>"
            ]
          },
          "metadata": {
            "tags": [],
            "needs_background": "light"
          }
        },
        {
          "output_type": "display_data",
          "data": {
            "image/png": "[encoded data removed]",
            "text/plain": [
              "<Figure size 432x288 with 1 Axes>"
            ]
          },
          "metadata": {
            "tags": [],
            "needs_background": "light"
          }
        }
      ]
    }
  ]
}